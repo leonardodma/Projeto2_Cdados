{
 "cells": [
  {
   "cell_type": "markdown",
   "metadata": {},
   "source": [
    "# Integrantes:\n",
    "\n",
    "* ### Andresa Bicudo\n",
    "* ### Gabriel Yamashita\n",
    "* ### Leonardo Malta"
   ]
  },
  {
   "cell_type": "markdown",
   "metadata": {},
   "source": [
    "----"
   ]
  },
  {
   "cell_type": "markdown",
   "metadata": {},
   "source": [
    "# Introdução:\n",
    "A pandemia do corona vírus fez com que o futebol parasse, inclusive o campeonato inglês (Premiere League). Existem campeonatos que foram interrompidos, como o campeonato francês, mesmo sem ter finalizado todos os jogos e também há campeonatos que retonaram porém com desempenhos diferentes de cada equipe. Isso fez com que surgisse o seguinte questionamento: o que provavelmente ocorreria com o campeonato inglês se a pandemia não tivesse a interrompido?"
   ]
  },
  {
   "cell_type": "markdown",
   "metadata": {},
   "source": [
    "----"
   ]
  },
  {
   "cell_type": "markdown",
   "metadata": {},
   "source": [
    "# Objetivo:\n",
    "Prever o restante do campeonato inglês com base no desempenho e estatísitcas das equipes até a 30ª rodada. "
   ]
  },
  {
   "cell_type": "markdown",
   "metadata": {},
   "source": [
    "----"
   ]
  },
  {
   "cell_type": "markdown",
   "metadata": {},
   "source": [
    "# Imports de Bibliotecas:"
   ]
  },
  {
   "cell_type": "code",
   "execution_count": 1,
   "metadata": {},
   "outputs": [],
   "source": [
    "# Importanto Bibliotecas para o Trabalho:\n",
    "\n",
    "%matplotlib inline\n",
    "import pandas as pd\n",
    "import matplotlib.pyplot as plt\n",
    "import numpy as np\n",
    "import seaborn as sns\n",
    "import statsmodels.api as sm\n",
    "\n",
    "import scipy as scp\n",
    "import sklearn\n",
    "\n",
    "from sklearn.metrics import accuracy_score\n",
    "\n",
    "from sklearn.ensemble import RandomForestClassifier\n",
    "from sklearn.naive_bayes import MultinomialNB\n",
    "from sklearn.linear_model import LogisticRegression\n",
    "from sklearn.naive_bayes import GaussianNB\n",
    "from sklearn.neighbors import KNeighborsClassifier\n",
    "from sklearn.ensemble import GradientBoostingClassifier\n",
    "\n",
    "from sklearn.model_selection import train_test_split\n",
    "from sklearn.preprocessing import StandardScaler\n",
    "from statsmodels.stats.outliers_influence import variance_inflation_factor\n",
    "\n",
    "pd.set_option('display.max_columns', None)\n",
    "pd.set_option('display.max_rows', None)"
   ]
  },
  {
   "cell_type": "markdown",
   "metadata": {},
   "source": [
    "----"
   ]
  },
  {
   "cell_type": "markdown",
   "metadata": {},
   "source": [
    "# Separação dos Dados:"
   ]
  },
  {
   "cell_type": "code",
   "execution_count": 2,
   "metadata": {
    "scrolled": false
   },
   "outputs": [
    {
     "data": {
      "text/html": [
       "<div>\n",
       "<style scoped>\n",
       "    .dataframe tbody tr th:only-of-type {\n",
       "        vertical-align: middle;\n",
       "    }\n",
       "\n",
       "    .dataframe tbody tr th {\n",
       "        vertical-align: top;\n",
       "    }\n",
       "\n",
       "    .dataframe thead th {\n",
       "        text-align: right;\n",
       "    }\n",
       "</style>\n",
       "<table border=\"1\" class=\"dataframe\">\n",
       "  <thead>\n",
       "    <tr style=\"text-align: right;\">\n",
       "      <th></th>\n",
       "      <th>MatchID</th>\n",
       "      <th>Home_team</th>\n",
       "      <th>Away_team</th>\n",
       "      <th>Score_home</th>\n",
       "      <th>Score_away</th>\n",
       "      <th>Possession_home</th>\n",
       "      <th>Possession_away</th>\n",
       "      <th>Shots_on_target_home</th>\n",
       "      <th>Shots_on_target_away</th>\n",
       "      <th>Shots_home</th>\n",
       "      <th>Shots_away</th>\n",
       "      <th>Touches_home</th>\n",
       "      <th>Touches_away</th>\n",
       "      <th>Passes_home</th>\n",
       "      <th>Passes_away</th>\n",
       "      <th>Tackles_home</th>\n",
       "      <th>Tackles_away</th>\n",
       "      <th>Clearances_home</th>\n",
       "      <th>Clearances_away</th>\n",
       "      <th>Corners_home</th>\n",
       "      <th>Corners_away</th>\n",
       "      <th>Offsides_home</th>\n",
       "      <th>Offsides_away</th>\n",
       "      <th>Yellow_cards_home</th>\n",
       "      <th>Yellow_cards_away</th>\n",
       "      <th>Fouls_conceded_home</th>\n",
       "      <th>Fouls_conceded_away</th>\n",
       "      <th>Red_cards_home</th>\n",
       "      <th>Red_cards_away</th>\n",
       "      <th>year</th>\n",
       "      <th>Expenditures_home</th>\n",
       "      <th>Arrivals_home</th>\n",
       "      <th>Income_home</th>\n",
       "      <th>Departures_home</th>\n",
       "      <th>Expenditures_away</th>\n",
       "      <th>Arrivals_away</th>\n",
       "      <th>Income_away</th>\n",
       "      <th>Departures_away</th>\n",
       "    </tr>\n",
       "  </thead>\n",
       "  <tbody>\n",
       "    <tr>\n",
       "      <th>0</th>\n",
       "      <td>5937</td>\n",
       "      <td>Blackburn</td>\n",
       "      <td>Reading</td>\n",
       "      <td>3</td>\n",
       "      <td>3</td>\n",
       "      <td>54.0</td>\n",
       "      <td>46.0</td>\n",
       "      <td>6</td>\n",
       "      <td>4</td>\n",
       "      <td>15</td>\n",
       "      <td>11</td>\n",
       "      <td>553</td>\n",
       "      <td>464</td>\n",
       "      <td>356</td>\n",
       "      <td>287</td>\n",
       "      <td>22</td>\n",
       "      <td>13</td>\n",
       "      <td>33</td>\n",
       "      <td>19</td>\n",
       "      <td>5</td>\n",
       "      <td>10</td>\n",
       "      <td>5</td>\n",
       "      <td>3</td>\n",
       "      <td>2</td>\n",
       "      <td>0</td>\n",
       "      <td>18</td>\n",
       "      <td>7</td>\n",
       "      <td>0</td>\n",
       "      <td>0</td>\n",
       "      <td>2007</td>\n",
       "      <td>18.84</td>\n",
       "      <td>21</td>\n",
       "      <td>19.28</td>\n",
       "      <td>25</td>\n",
       "      <td>10.52</td>\n",
       "      <td>25</td>\n",
       "      <td>0.00</td>\n",
       "      <td>19</td>\n",
       "    </tr>\n",
       "    <tr>\n",
       "      <th>1</th>\n",
       "      <td>5938</td>\n",
       "      <td>Bolton</td>\n",
       "      <td>Aston Villa</td>\n",
       "      <td>2</td>\n",
       "      <td>2</td>\n",
       "      <td>47.1</td>\n",
       "      <td>52.9</td>\n",
       "      <td>2</td>\n",
       "      <td>2</td>\n",
       "      <td>11</td>\n",
       "      <td>7</td>\n",
       "      <td>457</td>\n",
       "      <td>493</td>\n",
       "      <td>318</td>\n",
       "      <td>343</td>\n",
       "      <td>24</td>\n",
       "      <td>15</td>\n",
       "      <td>23</td>\n",
       "      <td>20</td>\n",
       "      <td>7</td>\n",
       "      <td>6</td>\n",
       "      <td>0</td>\n",
       "      <td>2</td>\n",
       "      <td>2</td>\n",
       "      <td>1</td>\n",
       "      <td>10</td>\n",
       "      <td>11</td>\n",
       "      <td>0</td>\n",
       "      <td>0</td>\n",
       "      <td>2007</td>\n",
       "      <td>19.38</td>\n",
       "      <td>16</td>\n",
       "      <td>4.39</td>\n",
       "      <td>16</td>\n",
       "      <td>28.16</td>\n",
       "      <td>17</td>\n",
       "      <td>2.08</td>\n",
       "      <td>18</td>\n",
       "    </tr>\n",
       "  </tbody>\n",
       "</table>\n",
       "</div>"
      ],
      "text/plain": [
       "   MatchID  Home_team    Away_team  Score_home  Score_away  Possession_home  \\\n",
       "0     5937  Blackburn      Reading           3           3             54.0   \n",
       "1     5938     Bolton  Aston Villa           2           2             47.1   \n",
       "\n",
       "   Possession_away  Shots_on_target_home  Shots_on_target_away  Shots_home  \\\n",
       "0             46.0                     6                     4          15   \n",
       "1             52.9                     2                     2          11   \n",
       "\n",
       "   Shots_away  Touches_home  Touches_away  Passes_home  Passes_away  \\\n",
       "0          11           553           464          356          287   \n",
       "1           7           457           493          318          343   \n",
       "\n",
       "   Tackles_home  Tackles_away  Clearances_home  Clearances_away  Corners_home  \\\n",
       "0            22            13               33               19             5   \n",
       "1            24            15               23               20             7   \n",
       "\n",
       "   Corners_away  Offsides_home  Offsides_away  Yellow_cards_home  \\\n",
       "0            10              5              3                  2   \n",
       "1             6              0              2                  2   \n",
       "\n",
       "   Yellow_cards_away  Fouls_conceded_home  Fouls_conceded_away  \\\n",
       "0                  0                   18                    7   \n",
       "1                  1                   10                   11   \n",
       "\n",
       "   Red_cards_home  Red_cards_away  year  Expenditures_home  Arrivals_home  \\\n",
       "0               0               0  2007              18.84             21   \n",
       "1               0               0  2007              19.38             16   \n",
       "\n",
       "   Income_home  Departures_home  Expenditures_away  Arrivals_away  \\\n",
       "0        19.28               25              10.52             25   \n",
       "1         4.39               16              28.16             17   \n",
       "\n",
       "   Income_away  Departures_away  \n",
       "0         0.00               19  \n",
       "1         2.08               18  "
      ]
     },
     "execution_count": 2,
     "metadata": {},
     "output_type": "execute_result"
    }
   ],
   "source": [
    "# Carregando os dados do Excell para o pandas:\n",
    "dados = pd.read_excel('masterdata.xlsx')\n",
    "dados.head(2)"
   ]
  },
  {
   "cell_type": "code",
   "execution_count": 3,
   "metadata": {},
   "outputs": [],
   "source": [
    "# Separando os resultados dos jogos em uma nova coluna e em números (0, 1 e 2):\n",
    "# 0 = time da casa\n",
    "# 1 = empate\n",
    "# 2 = time de fora\n",
    "\n",
    "def Determina_Resultado(df, home, away):\n",
    "    if df[home] > df[away]: # time da casa ganha\n",
    "        return 0\n",
    "    elif df[home] < df[away]: # time de fora ganha\n",
    "        return 2\n",
    "    elif df[home] == df[away]: # empate\n",
    "        return 1"
   ]
  },
  {
   "cell_type": "code",
   "execution_count": 4,
   "metadata": {},
   "outputs": [
    {
     "data": {
      "text/html": [
       "<div>\n",
       "<style scoped>\n",
       "    .dataframe tbody tr th:only-of-type {\n",
       "        vertical-align: middle;\n",
       "    }\n",
       "\n",
       "    .dataframe tbody tr th {\n",
       "        vertical-align: top;\n",
       "    }\n",
       "\n",
       "    .dataframe thead th {\n",
       "        text-align: right;\n",
       "    }\n",
       "</style>\n",
       "<table border=\"1\" class=\"dataframe\">\n",
       "  <thead>\n",
       "    <tr style=\"text-align: right;\">\n",
       "      <th></th>\n",
       "      <th>MatchID</th>\n",
       "      <th>Home_team</th>\n",
       "      <th>Away_team</th>\n",
       "      <th>Score_home</th>\n",
       "      <th>Score_away</th>\n",
       "      <th>Possession_home</th>\n",
       "      <th>Possession_away</th>\n",
       "      <th>Shots_on_target_home</th>\n",
       "      <th>Shots_on_target_away</th>\n",
       "      <th>Shots_home</th>\n",
       "      <th>Shots_away</th>\n",
       "      <th>Touches_home</th>\n",
       "      <th>Touches_away</th>\n",
       "      <th>Passes_home</th>\n",
       "      <th>Passes_away</th>\n",
       "      <th>Tackles_home</th>\n",
       "      <th>Tackles_away</th>\n",
       "      <th>Clearances_home</th>\n",
       "      <th>Clearances_away</th>\n",
       "      <th>Corners_home</th>\n",
       "      <th>Corners_away</th>\n",
       "      <th>Offsides_home</th>\n",
       "      <th>Offsides_away</th>\n",
       "      <th>Yellow_cards_home</th>\n",
       "      <th>Yellow_cards_away</th>\n",
       "      <th>Fouls_conceded_home</th>\n",
       "      <th>Fouls_conceded_away</th>\n",
       "      <th>Red_cards_home</th>\n",
       "      <th>Red_cards_away</th>\n",
       "      <th>year</th>\n",
       "      <th>Expenditures_home</th>\n",
       "      <th>Arrivals_home</th>\n",
       "      <th>Income_home</th>\n",
       "      <th>Departures_home</th>\n",
       "      <th>Expenditures_away</th>\n",
       "      <th>Arrivals_away</th>\n",
       "      <th>Income_away</th>\n",
       "      <th>Departures_away</th>\n",
       "      <th>Result</th>\n",
       "    </tr>\n",
       "  </thead>\n",
       "  <tbody>\n",
       "    <tr>\n",
       "      <th>0</th>\n",
       "      <td>5937</td>\n",
       "      <td>Blackburn</td>\n",
       "      <td>Reading</td>\n",
       "      <td>3</td>\n",
       "      <td>3</td>\n",
       "      <td>54.0</td>\n",
       "      <td>46.0</td>\n",
       "      <td>6</td>\n",
       "      <td>4</td>\n",
       "      <td>15</td>\n",
       "      <td>11</td>\n",
       "      <td>553</td>\n",
       "      <td>464</td>\n",
       "      <td>356</td>\n",
       "      <td>287</td>\n",
       "      <td>22</td>\n",
       "      <td>13</td>\n",
       "      <td>33</td>\n",
       "      <td>19</td>\n",
       "      <td>5</td>\n",
       "      <td>10</td>\n",
       "      <td>5</td>\n",
       "      <td>3</td>\n",
       "      <td>2</td>\n",
       "      <td>0</td>\n",
       "      <td>18</td>\n",
       "      <td>7</td>\n",
       "      <td>0</td>\n",
       "      <td>0</td>\n",
       "      <td>2007</td>\n",
       "      <td>18.84</td>\n",
       "      <td>21</td>\n",
       "      <td>19.28</td>\n",
       "      <td>25</td>\n",
       "      <td>10.52</td>\n",
       "      <td>25</td>\n",
       "      <td>0.00</td>\n",
       "      <td>19</td>\n",
       "      <td>1</td>\n",
       "    </tr>\n",
       "    <tr>\n",
       "      <th>1</th>\n",
       "      <td>5938</td>\n",
       "      <td>Bolton</td>\n",
       "      <td>Aston Villa</td>\n",
       "      <td>2</td>\n",
       "      <td>2</td>\n",
       "      <td>47.1</td>\n",
       "      <td>52.9</td>\n",
       "      <td>2</td>\n",
       "      <td>2</td>\n",
       "      <td>11</td>\n",
       "      <td>7</td>\n",
       "      <td>457</td>\n",
       "      <td>493</td>\n",
       "      <td>318</td>\n",
       "      <td>343</td>\n",
       "      <td>24</td>\n",
       "      <td>15</td>\n",
       "      <td>23</td>\n",
       "      <td>20</td>\n",
       "      <td>7</td>\n",
       "      <td>6</td>\n",
       "      <td>0</td>\n",
       "      <td>2</td>\n",
       "      <td>2</td>\n",
       "      <td>1</td>\n",
       "      <td>10</td>\n",
       "      <td>11</td>\n",
       "      <td>0</td>\n",
       "      <td>0</td>\n",
       "      <td>2007</td>\n",
       "      <td>19.38</td>\n",
       "      <td>16</td>\n",
       "      <td>4.39</td>\n",
       "      <td>16</td>\n",
       "      <td>28.16</td>\n",
       "      <td>17</td>\n",
       "      <td>2.08</td>\n",
       "      <td>18</td>\n",
       "      <td>1</td>\n",
       "    </tr>\n",
       "  </tbody>\n",
       "</table>\n",
       "</div>"
      ],
      "text/plain": [
       "   MatchID  Home_team    Away_team  Score_home  Score_away  Possession_home  \\\n",
       "0     5937  Blackburn      Reading           3           3             54.0   \n",
       "1     5938     Bolton  Aston Villa           2           2             47.1   \n",
       "\n",
       "   Possession_away  Shots_on_target_home  Shots_on_target_away  Shots_home  \\\n",
       "0             46.0                     6                     4          15   \n",
       "1             52.9                     2                     2          11   \n",
       "\n",
       "   Shots_away  Touches_home  Touches_away  Passes_home  Passes_away  \\\n",
       "0          11           553           464          356          287   \n",
       "1           7           457           493          318          343   \n",
       "\n",
       "   Tackles_home  Tackles_away  Clearances_home  Clearances_away  Corners_home  \\\n",
       "0            22            13               33               19             5   \n",
       "1            24            15               23               20             7   \n",
       "\n",
       "   Corners_away  Offsides_home  Offsides_away  Yellow_cards_home  \\\n",
       "0            10              5              3                  2   \n",
       "1             6              0              2                  2   \n",
       "\n",
       "   Yellow_cards_away  Fouls_conceded_home  Fouls_conceded_away  \\\n",
       "0                  0                   18                    7   \n",
       "1                  1                   10                   11   \n",
       "\n",
       "   Red_cards_home  Red_cards_away  year  Expenditures_home  Arrivals_home  \\\n",
       "0               0               0  2007              18.84             21   \n",
       "1               0               0  2007              19.38             16   \n",
       "\n",
       "   Income_home  Departures_home  Expenditures_away  Arrivals_away  \\\n",
       "0        19.28               25              10.52             25   \n",
       "1         4.39               16              28.16             17   \n",
       "\n",
       "   Income_away  Departures_away  Result  \n",
       "0         0.00               19       1  \n",
       "1         2.08               18       1  "
      ]
     },
     "execution_count": 4,
     "metadata": {},
     "output_type": "execute_result"
    }
   ],
   "source": [
    "# Criando uma coluna com os números que representam os resultados dos jogos:\n",
    "dados['Result'] = dados.apply(\n",
    "    lambda dados: Determina_Resultado(dados, 'Score_home', 'Score_away'), axis=1)\n",
    "\n",
    "dados.head(2)"
   ]
  },
  {
   "cell_type": "markdown",
   "metadata": {},
   "source": [
    "----"
   ]
  },
  {
   "cell_type": "markdown",
   "metadata": {},
   "source": [
    "# Obtendo Variáveis de Interesse:"
   ]
  },
  {
   "cell_type": "code",
   "execution_count": 5,
   "metadata": {},
   "outputs": [
    {
     "data": {
      "text/html": [
       "<div>\n",
       "<style scoped>\n",
       "    .dataframe tbody tr th:only-of-type {\n",
       "        vertical-align: middle;\n",
       "    }\n",
       "\n",
       "    .dataframe tbody tr th {\n",
       "        vertical-align: top;\n",
       "    }\n",
       "\n",
       "    .dataframe thead th {\n",
       "        text-align: right;\n",
       "    }\n",
       "</style>\n",
       "<table border=\"1\" class=\"dataframe\">\n",
       "  <thead>\n",
       "    <tr style=\"text-align: right;\">\n",
       "      <th></th>\n",
       "      <th>Possession_home</th>\n",
       "      <th>Possession_away</th>\n",
       "      <th>Shots_on_target_home</th>\n",
       "      <th>Shots_on_target_away</th>\n",
       "      <th>Shots_home</th>\n",
       "      <th>Shots_away</th>\n",
       "      <th>Touches_home</th>\n",
       "      <th>Touches_away</th>\n",
       "      <th>Passes_home</th>\n",
       "      <th>Passes_away</th>\n",
       "      <th>Tackles_home</th>\n",
       "      <th>Tackles_away</th>\n",
       "      <th>Clearances_home</th>\n",
       "      <th>Clearances_away</th>\n",
       "      <th>Corners_home</th>\n",
       "      <th>Corners_away</th>\n",
       "      <th>Offsides_home</th>\n",
       "      <th>Offsides_away</th>\n",
       "      <th>Yellow_cards_home</th>\n",
       "      <th>Yellow_cards_away</th>\n",
       "      <th>Fouls_conceded_home</th>\n",
       "      <th>Fouls_conceded_away</th>\n",
       "      <th>Red_cards_home</th>\n",
       "      <th>Red_cards_away</th>\n",
       "      <th>Expenditures_home</th>\n",
       "      <th>Arrivals_home</th>\n",
       "      <th>Income_home</th>\n",
       "      <th>Departures_home</th>\n",
       "      <th>Expenditures_away</th>\n",
       "      <th>Arrivals_away</th>\n",
       "      <th>Income_away</th>\n",
       "      <th>Departures_away</th>\n",
       "    </tr>\n",
       "  </thead>\n",
       "  <tbody>\n",
       "    <tr>\n",
       "      <th>0</th>\n",
       "      <td>54.0</td>\n",
       "      <td>46.0</td>\n",
       "      <td>6</td>\n",
       "      <td>4</td>\n",
       "      <td>15</td>\n",
       "      <td>11</td>\n",
       "      <td>553</td>\n",
       "      <td>464</td>\n",
       "      <td>356</td>\n",
       "      <td>287</td>\n",
       "      <td>22</td>\n",
       "      <td>13</td>\n",
       "      <td>33</td>\n",
       "      <td>19</td>\n",
       "      <td>5</td>\n",
       "      <td>10</td>\n",
       "      <td>5</td>\n",
       "      <td>3</td>\n",
       "      <td>2</td>\n",
       "      <td>0</td>\n",
       "      <td>18</td>\n",
       "      <td>7</td>\n",
       "      <td>0</td>\n",
       "      <td>0</td>\n",
       "      <td>18.84</td>\n",
       "      <td>21</td>\n",
       "      <td>19.28</td>\n",
       "      <td>25</td>\n",
       "      <td>10.52</td>\n",
       "      <td>25</td>\n",
       "      <td>0.00</td>\n",
       "      <td>19</td>\n",
       "    </tr>\n",
       "    <tr>\n",
       "      <th>1</th>\n",
       "      <td>47.1</td>\n",
       "      <td>52.9</td>\n",
       "      <td>2</td>\n",
       "      <td>2</td>\n",
       "      <td>11</td>\n",
       "      <td>7</td>\n",
       "      <td>457</td>\n",
       "      <td>493</td>\n",
       "      <td>318</td>\n",
       "      <td>343</td>\n",
       "      <td>24</td>\n",
       "      <td>15</td>\n",
       "      <td>23</td>\n",
       "      <td>20</td>\n",
       "      <td>7</td>\n",
       "      <td>6</td>\n",
       "      <td>0</td>\n",
       "      <td>2</td>\n",
       "      <td>2</td>\n",
       "      <td>1</td>\n",
       "      <td>10</td>\n",
       "      <td>11</td>\n",
       "      <td>0</td>\n",
       "      <td>0</td>\n",
       "      <td>19.38</td>\n",
       "      <td>16</td>\n",
       "      <td>4.39</td>\n",
       "      <td>16</td>\n",
       "      <td>28.16</td>\n",
       "      <td>17</td>\n",
       "      <td>2.08</td>\n",
       "      <td>18</td>\n",
       "    </tr>\n",
       "  </tbody>\n",
       "</table>\n",
       "</div>"
      ],
      "text/plain": [
       "   Possession_home  Possession_away  Shots_on_target_home  \\\n",
       "0             54.0             46.0                     6   \n",
       "1             47.1             52.9                     2   \n",
       "\n",
       "   Shots_on_target_away  Shots_home  Shots_away  Touches_home  Touches_away  \\\n",
       "0                     4          15          11           553           464   \n",
       "1                     2          11           7           457           493   \n",
       "\n",
       "   Passes_home  Passes_away  Tackles_home  Tackles_away  Clearances_home  \\\n",
       "0          356          287            22            13               33   \n",
       "1          318          343            24            15               23   \n",
       "\n",
       "   Clearances_away  Corners_home  Corners_away  Offsides_home  Offsides_away  \\\n",
       "0               19             5            10              5              3   \n",
       "1               20             7             6              0              2   \n",
       "\n",
       "   Yellow_cards_home  Yellow_cards_away  Fouls_conceded_home  \\\n",
       "0                  2                  0                   18   \n",
       "1                  2                  1                   10   \n",
       "\n",
       "   Fouls_conceded_away  Red_cards_home  Red_cards_away  Expenditures_home  \\\n",
       "0                    7               0               0              18.84   \n",
       "1                   11               0               0              19.38   \n",
       "\n",
       "   Arrivals_home  Income_home  Departures_home  Expenditures_away  \\\n",
       "0             21        19.28               25              10.52   \n",
       "1             16         4.39               16              28.16   \n",
       "\n",
       "   Arrivals_away  Income_away  Departures_away  \n",
       "0             25         0.00               19  \n",
       "1             17         2.08               18  "
      ]
     },
     "execution_count": 5,
     "metadata": {},
     "output_type": "execute_result"
    }
   ],
   "source": [
    "# Definindo variáveis importantes: \n",
    "\n",
    "# removendo as colunas que não serão necessárias para calcular as probabilidades\n",
    "stats = dados.drop(columns=[\n",
    "    'MatchID', 'Home_team', 'Away_team', 'Score_home', 'Score_away',\n",
    "    'year', 'Result'])\n",
    "\n",
    "# definindo as colunas dos nomes dos times\n",
    "games = dados.loc[: , ['Home_team', 'Away_team']]\n",
    "\n",
    "# definindo as colunas do resultado (em 0, 1 e 2)\n",
    "results = dados.loc[: , ['Result']]\n",
    "\n",
    "stats.head(2)"
   ]
  },
  {
   "cell_type": "markdown",
   "metadata": {},
   "source": [
    "## - Heatmap (Teste 1):"
   ]
  },
  {
   "cell_type": "code",
   "execution_count": 6,
   "metadata": {},
   "outputs": [
    {
     "data": {
      "text/plain": [
       "<matplotlib.axes._subplots.AxesSubplot at 0x27f0d9f7128>"
      ]
     },
     "execution_count": 6,
     "metadata": {},
     "output_type": "execute_result"
    },
    {
     "data": {
      "image/png": "[encoded data removed]",
      "text/plain": [
       "<Figure size 432x288 with 2 Axes>"
      ]
     },
     "metadata": {
      "needs_background": "light"
     },
     "output_type": "display_data"
    }
   ],
   "source": [
    "# Obtendo a correlação dos dados para times que jogam em seu estádio:\n",
    "home_features = [i for i in list(stats) if '_home' in i]\n",
    "corr = stats[home_features].corr()\n",
    "sns.heatmap(corr, cmap=\"Blues\")"
   ]
  },
  {
   "cell_type": "markdown",
   "metadata": {},
   "source": [
    "### Fatores relevantes:\n",
    "A partir da análise do heatmap, é possível saber se duas variáveis estão medindo características similares. \n",
    "Por exemplo, a quantidade de passes (\"touches_home\") está muito interligada com a posse de bola. \n",
    "Para eliminar as variáveis que se relacionam, usa-se o **\"Variance Inflation Factor\"**, que é um fator que indentifica multicolinearidade de duas variáveis. \n",
    "**Valores maiores que 5** significam que há muita correlação. \n",
    "\n",
    "Mais informações em: https://www.statisticshowto.com/variance-inflation-factor/."
   ]
  },
  {
   "cell_type": "code",
   "execution_count": 7,
   "metadata": {},
   "outputs": [
    {
     "data": {
      "text/plain": [
       "<enumerate at 0x27f78e7a090>"
      ]
     },
     "execution_count": 7,
     "metadata": {},
     "output_type": "execute_result"
    }
   ],
   "source": [
    "# Enumera elementos de uma lista para percorrer com o 'for':\n",
    "enumerate(list(stats))"
   ]
  },
  {
   "cell_type": "code",
   "execution_count": 8,
   "metadata": {},
   "outputs": [
    {
     "name": "stdout",
     "output_type": "stream",
     "text": [
      "Número de itens relevantes: 10\n",
      "\n",
      "['Offsides_home', 'Offsides_away', 'Yellow_cards_home', 'Yellow_cards_away', 'Red_cards_home', 'Red_cards_away', 'Expenditures_home', 'Income_home', 'Expenditures_away', 'Income_away']\n"
     ]
    }
   ],
   "source": [
    "# Detectando a multicolinearidade entre características a partir do fator de inflação de variância:\n",
    "# armazenando esses valores numa lista\n",
    "variance_inflation = []\n",
    "for i, feature in enumerate(list(stats)):\n",
    "    vif_tup = (feature, variance_inflation_factor(stats.values, i))\n",
    "    variance_inflation.append(vif_tup)\n",
    "\n",
    "    \n",
    "# sabendo que os fatores maiores de 5 possuem alta multicolineariade\n",
    "# selecionaremos apenas os que são menores (ou iguais, mas nesse caso não há diferença) que 5\n",
    "# armazenando os relevantes em uma lista\n",
    "relevant_features = []\n",
    "for i in range(len(variance_inflation)):\n",
    "    if variance_inflation[i][1] <= 5:\n",
    "        relevant_features.append(variance_inflation[i][0])\n",
    "\n",
    "print('Número de itens relevantes: {0}\\n'.format(len(relevant_features)))\n",
    "print(relevant_features)"
   ]
  },
  {
   "cell_type": "markdown",
   "metadata": {},
   "source": [
    "### Conclusão do Heatmap:\n",
    "\n",
    "A conclusão que pode ser feita é a de que a \"variance inflation\" não é um bom parâmetro para determinar variáveis importantes."
   ]
  },
  {
   "cell_type": "markdown",
   "metadata": {},
   "source": [
    "----"
   ]
  },
  {
   "cell_type": "markdown",
   "metadata": {},
   "source": [
    "# Random Forest (Tentativa 1):\n",
    "(A **Tentativa 1** é referente ao uso de todos os dados)\n",
    "\n",
    "O Random Forest é um método de Regressão baseado em várias árvores de probabilidade. \n",
    "Cada uma delas faz as probabilidades separadamente usando ordens diferentes entre suas variáveis. \n",
    "Com isso, caso apresente algum erro, ele será minimizado.\n",
    "Esse método é uma técnica de \"bagging\", já que as árvores funcionam paralelamente e não interferem umas nas outras."
   ]
  },
  {
   "cell_type": "code",
   "execution_count": 9,
   "metadata": {},
   "outputs": [],
   "source": [
    "# definindo X e Y\n",
    "# X - dados\n",
    "# Y - resultados\n",
    "\n",
    "RF_X1 = stats.values\n",
    "RF_y1 = results.values"
   ]
  },
  {
   "cell_type": "code",
   "execution_count": 10,
   "metadata": {},
   "outputs": [],
   "source": [
    "# separando os dados em treino e teste\n",
    "RF_X_train1, RF_X_test1, RF_y_train1, RF_y_test1 = train_test_split(RF_X1, RF_y1, test_size = .25, random_state = 42)"
   ]
  },
  {
   "cell_type": "code",
   "execution_count": 11,
   "metadata": {},
   "outputs": [
    {
     "name": "stderr",
     "output_type": "stream",
     "text": [
      "C:\\Users\\gabri\\Anaconda3\\lib\\site-packages\\ipykernel_launcher.py:2: DataConversionWarning: A column-vector y was passed when a 1d array was expected. Please change the shape of y to (n_samples,), for example using ravel().\n",
      "  \n"
     ]
    },
    {
     "data": {
      "text/plain": [
       "RandomForestClassifier(n_estimators=500, random_state=42)"
      ]
     },
     "execution_count": 11,
     "metadata": {},
     "output_type": "execute_result"
    }
   ],
   "source": [
    "# aplicando o Random Forest\n",
    "classificador_RF = RandomForestClassifier(n_estimators=500,random_state=42)\n",
    "classificador_RF.fit(RF_X_train1, RF_y_train1)"
   ]
  },
  {
   "cell_type": "code",
   "execution_count": 12,
   "metadata": {},
   "outputs": [
    {
     "name": "stdout",
     "output_type": "stream",
     "text": [
      "Acurácia do modelo Random Forest com todas as variáveis: 0.6145741878841089\n"
     ]
    }
   ],
   "source": [
    "# Medindo a acurácia do modelo Random Forest\n",
    "RF_y_pred1 = classificador_RF.predict(RF_X_test1)\n",
    "print('Acurácia do modelo Random Forest com todas as variáveis:', accuracy_score(RF_y_test1, RF_y_pred1))"
   ]
  },
  {
   "cell_type": "markdown",
   "metadata": {},
   "source": [
    "# Random Forest (Tentativa 2):\n",
    "(A **Tentativa 2** é referente ao uso das variáveis \"relevantes\", nesse caso, do Heatmap)"
   ]
  },
  {
   "cell_type": "code",
   "execution_count": 13,
   "metadata": {},
   "outputs": [],
   "source": [
    "# definindo X e Y\n",
    "# X - dados dos features relevantes\n",
    "# Y - resultados\n",
    "\n",
    "RF_X2 = (stats.loc[: , relevant_features]).values\n",
    "RF_y2 = results.values"
   ]
  },
  {
   "cell_type": "code",
   "execution_count": 14,
   "metadata": {},
   "outputs": [],
   "source": [
    "# separando teste e treino\n",
    "RF_X_train2, RF_X_test2, RF_y_train2, RF_y_test2 = train_test_split(RF_X2, RF_y2, test_size = .25, random_state = 42)"
   ]
  },
  {
   "cell_type": "code",
   "execution_count": 15,
   "metadata": {},
   "outputs": [
    {
     "name": "stderr",
     "output_type": "stream",
     "text": [
      "C:\\Users\\gabri\\Anaconda3\\lib\\site-packages\\ipykernel_launcher.py:2: DataConversionWarning: A column-vector y was passed when a 1d array was expected. Please change the shape of y to (n_samples,), for example using ravel().\n",
      "  \n"
     ]
    },
    {
     "data": {
      "text/plain": [
       "RandomForestClassifier(n_estimators=500, random_state=42)"
      ]
     },
     "execution_count": 15,
     "metadata": {},
     "output_type": "execute_result"
    }
   ],
   "source": [
    "# aplicando o Random Forest\n",
    "classificador_RF = RandomForestClassifier(n_estimators=500, random_state=42)\n",
    "classificador_RF.fit(RF_X_train2, RF_y_train2)"
   ]
  },
  {
   "cell_type": "code",
   "execution_count": 16,
   "metadata": {},
   "outputs": [
    {
     "name": "stdout",
     "output_type": "stream",
     "text": [
      "Acurácia do modelo Random Forest com a relevant features:  0.52414398595259\n"
     ]
    }
   ],
   "source": [
    "# Medindo a acurácia do modelo Random Forest com as novas variáveis consideradas relevantes\n",
    "RF_y_pred2 = classificador_RF.predict(RF_X_test2)\n",
    "print('Acurácia do modelo Random Forest com a relevant features: ', accuracy_score(RF_y_test2, RF_y_pred2))"
   ]
  },
  {
   "cell_type": "markdown",
   "metadata": {},
   "source": [
    "## Nova seleção de variáveis (Teste 2):"
   ]
  },
  {
   "cell_type": "code",
   "execution_count": 17,
   "metadata": {},
   "outputs": [
    {
     "name": "stderr",
     "output_type": "stream",
     "text": [
      "C:\\Users\\gabri\\Anaconda3\\lib\\site-packages\\ipykernel_launcher.py:2: DataConversionWarning: A column-vector y was passed when a 1d array was expected. Please change the shape of y to (n_samples,), for example using ravel().\n",
      "  \n"
     ]
    },
    {
     "name": "stdout",
     "output_type": "stream",
     "text": [
      " 1) Touches_home                   0.172265\n",
      " 2) Passes_home                    0.165900\n",
      " 3) Passes_away                    0.158659\n",
      " 4) Touches_away                   0.154282\n",
      " 5) Possession_away                0.088736\n",
      " 6) Possession_home                0.083353\n",
      " 7) Shots_on_target_away           0.078670\n",
      " 8) Shots_on_target_home           0.068798\n",
      " 9) Shots_away                     0.015023\n",
      "10) Shots_home                     0.014314\n"
     ]
    }
   ],
   "source": [
    "# encontrando a ordem de importância das variáveis, de acordo com o Random Forest\n",
    "\n",
    "# calculando um novo Random Forest\n",
    "forest = RandomForestClassifier(n_estimators=500,random_state=42)\n",
    "forest.fit(RF_X_train2, RF_y_train2)\n",
    "\n",
    "# organizando as variáveis\n",
    "features = stats.columns\n",
    "importances = forest.feature_importances_\n",
    "\n",
    "# imprimindo a tabela\n",
    "indices = np.argsort(importances)[::-1]\n",
    "indices\n",
    "\n",
    "for f in range(RF_X_train2.shape[1]):\n",
    "    print(\"%2d) %-*s %f\" % (f + 1, 30,features[indices[f]], importances[indices[f]]))"
   ]
  },
  {
   "cell_type": "code",
   "execution_count": 18,
   "metadata": {},
   "outputs": [
    {
     "name": "stdout",
     "output_type": "stream",
     "text": [
      "['Touches_home', 'Passes_home', 'Passes_away', 'Touches_away', 'Possession_away', 'Possession_home', 'Shots_on_target_away', 'Shots_on_target_home', 'Shots_away', 'Shots_home']\n"
     ]
    }
   ],
   "source": [
    "# Após testarmos as quantidades, utilizaremos as 23 primeiras vairiáveis da lista acima, que é a melhor opção\n",
    "# porque obtém-se o melhor resultado\n",
    "\n",
    "relevant_features = []\n",
    "for i in range(len(features[indices])):\n",
    "    if i <= 22:\n",
    "        relevant_features.append(features[indices][i])\n",
    "    else:\n",
    "        pass\n",
    "print(relevant_features)"
   ]
  },
  {
   "cell_type": "markdown",
   "metadata": {},
   "source": [
    "----"
   ]
  },
  {
   "cell_type": "markdown",
   "metadata": {},
   "source": [
    "# Regressão Multinominal (Tentativa 1):\n",
    "(A **Tentativa 1** se refere ao uso de todos os dados)\n",
    "\n",
    "A Regressão Multinomial é usada para relacionar uma variável nominal dependente (nesse caso, resultado de um jogo) e outras variáveis independentes (número de passes, time adversário, estádio)."
   ]
  },
  {
   "cell_type": "code",
   "execution_count": 19,
   "metadata": {},
   "outputs": [
    {
     "ename": "NameError",
     "evalue": "name 'y_train1' is not defined",
     "output_type": "error",
     "traceback": [
      "\u001b[1;31m---------------------------------------------------------------------------\u001b[0m",
      "\u001b[1;31mNameError\u001b[0m                                 Traceback (most recent call last)",
      "\u001b[1;32m<ipython-input-19-23122b21efd9>\u001b[0m in \u001b[0;36m<module>\u001b[1;34m\u001b[0m\n\u001b[1;32m----> 1\u001b[1;33m \u001b[0mlogit_model\u001b[0m \u001b[1;33m=\u001b[0m \u001b[0msm\u001b[0m\u001b[1;33m.\u001b[0m\u001b[0mMNLogit\u001b[0m\u001b[1;33m(\u001b[0m\u001b[0mendog\u001b[0m\u001b[1;33m=\u001b[0m\u001b[0my_train1\u001b[0m\u001b[1;33m.\u001b[0m\u001b[0mflatten\u001b[0m\u001b[1;33m(\u001b[0m\u001b[1;33m)\u001b[0m\u001b[1;33m,\u001b[0m \u001b[0mexog\u001b[0m\u001b[1;33m=\u001b[0m\u001b[0mX_train1\u001b[0m\u001b[1;33m)\u001b[0m\u001b[1;33m\u001b[0m\u001b[1;33m\u001b[0m\u001b[0m\n\u001b[0m\u001b[0;32m      2\u001b[0m \u001b[0mresult\u001b[0m \u001b[1;33m=\u001b[0m \u001b[0mlogit_model\u001b[0m\u001b[1;33m.\u001b[0m\u001b[0mfit\u001b[0m\u001b[1;33m(\u001b[0m\u001b[1;33m)\u001b[0m\u001b[1;33m\u001b[0m\u001b[1;33m\u001b[0m\u001b[0m\n\u001b[0;32m      3\u001b[0m \u001b[1;33m\u001b[0m\u001b[0m\n\u001b[0;32m      4\u001b[0m \u001b[0mstats1\u001b[0m \u001b[1;33m=\u001b[0m \u001b[0mresult\u001b[0m\u001b[1;33m.\u001b[0m\u001b[0msummary\u001b[0m\u001b[1;33m(\u001b[0m\u001b[1;33m)\u001b[0m\u001b[1;33m\u001b[0m\u001b[1;33m\u001b[0m\u001b[0m\n\u001b[0;32m      5\u001b[0m \u001b[0mstats2\u001b[0m \u001b[1;33m=\u001b[0m \u001b[0mresult\u001b[0m\u001b[1;33m.\u001b[0m\u001b[0msummary2\u001b[0m\u001b[1;33m(\u001b[0m\u001b[1;33m)\u001b[0m\u001b[1;33m\u001b[0m\u001b[1;33m\u001b[0m\u001b[0m\n",
      "\u001b[1;31mNameError\u001b[0m: name 'y_train1' is not defined"
     ]
    }
   ],
   "source": [
    "# aplicando o método de Regressão Multinomial (RM)\n",
    "# Y, endog é a variável endógena (de dentro) e o X, exog é a exógena (de fora)\n",
    "# tirando os resultados (y) de uma organização em forma de tabela e tornando-o uma lista com o .flatten()\n",
    "\n",
    "logit_model = sm.MNLogit(endog=y_train1.flatten(), exog=X_train1)\n",
    "result = logit_model.fit()\n",
    "\n",
    "# criando tabelas que explicitam os dados comparados e permitem a análise dos resultados\n",
    "stats1 = result.summary()\n",
    "stats2 = result.summary2()\n",
    "\n",
    "print(stats1)"
   ]
  },
  {
   "cell_type": "code",
   "execution_count": 20,
   "metadata": {},
   "outputs": [
    {
     "ename": "NameError",
     "evalue": "name 'stats2' is not defined",
     "output_type": "error",
     "traceback": [
      "\u001b[1;31m---------------------------------------------------------------------------\u001b[0m",
      "\u001b[1;31mNameError\u001b[0m                                 Traceback (most recent call last)",
      "\u001b[1;32m<ipython-input-20-7f314cfc4a6b>\u001b[0m in \u001b[0;36m<module>\u001b[1;34m\u001b[0m\n\u001b[1;32m----> 1\u001b[1;33m \u001b[0mprint\u001b[0m\u001b[1;33m(\u001b[0m\u001b[0mstats2\u001b[0m\u001b[1;33m)\u001b[0m\u001b[1;33m\u001b[0m\u001b[1;33m\u001b[0m\u001b[0m\n\u001b[0m",
      "\u001b[1;31mNameError\u001b[0m: name 'stats2' is not defined"
     ]
    }
   ],
   "source": [
    "print(stats2)"
   ]
  },
  {
   "cell_type": "code",
   "execution_count": 21,
   "metadata": {},
   "outputs": [],
   "source": [
    "#\n",
    "def Determina_Acuracia_Multinominal(predict, teste_y):\n",
    "    lista_maiores = [max(i) for i in predict]\n",
    "    lista_index = []\n",
    "    for i in range(len(predict)):\n",
    "        for p in range(3):\n",
    "            if predict[i][p] == lista_maiores[i]:\n",
    "                lista_index.append(p)\n",
    "\n",
    "    flat_list_of_results = []\n",
    "    for sublist in np.ndarray.tolist(teste_y):  #y_test\n",
    "        for item in sublist:\n",
    "            flat_list_of_results.append(item)\n",
    "\n",
    "    comparativo_rm = pd.DataFrame({\n",
    "        'Resultado': flat_list_of_results,\n",
    "        'Modelo': lista_index\n",
    "    })\n",
    "\n",
    "    corretos = 0\n",
    "    for i in range(len(comparativo_rm['Resultado'])):\n",
    "        if comparativo_rm['Resultado'][i] == comparativo_rm['Modelo'][i]:\n",
    "            corretos += 1\n",
    "\n",
    "    accuracy = corretos / (len(comparativo_rm['Resultado']))\n",
    "\n",
    "    print(\n",
    "        'A acurácia desse modelo de Regressão Multinominal é: {}'\n",
    "        .format(accuracy))"
   ]
  },
  {
   "cell_type": "code",
   "execution_count": 22,
   "metadata": {
    "scrolled": true
   },
   "outputs": [
    {
     "ename": "NameError",
     "evalue": "name 'result' is not defined",
     "output_type": "error",
     "traceback": [
      "\u001b[1;31m---------------------------------------------------------------------------\u001b[0m",
      "\u001b[1;31mNameError\u001b[0m                                 Traceback (most recent call last)",
      "\u001b[1;32m<ipython-input-22-6d845dcc2391>\u001b[0m in \u001b[0;36m<module>\u001b[1;34m\u001b[0m\n\u001b[1;32m----> 1\u001b[1;33m \u001b[0mr1_rm\u001b[0m \u001b[1;33m=\u001b[0m \u001b[0mresult\u001b[0m\u001b[1;33m.\u001b[0m\u001b[0mpredict\u001b[0m\u001b[1;33m(\u001b[0m\u001b[0mexog\u001b[0m\u001b[1;33m=\u001b[0m\u001b[0mX_test1\u001b[0m\u001b[1;33m)\u001b[0m\u001b[1;33m\u001b[0m\u001b[1;33m\u001b[0m\u001b[0m\n\u001b[0m\u001b[0;32m      2\u001b[0m \u001b[0mDetermina_Acuracia_Multinominal\u001b[0m\u001b[1;33m(\u001b[0m\u001b[0mr1_rm\u001b[0m\u001b[1;33m,\u001b[0m \u001b[0my_test1\u001b[0m\u001b[1;33m)\u001b[0m\u001b[1;33m\u001b[0m\u001b[1;33m\u001b[0m\u001b[0m\n",
      "\u001b[1;31mNameError\u001b[0m: name 'result' is not defined"
     ]
    }
   ],
   "source": [
    "# determinando a acurácia do modelo Regressão Multinominal\n",
    "r1_rm = result.predict(exog=X_test1)\n",
    "Determina_Acuracia_Multinominal(r1_rm, y_test1)"
   ]
  },
  {
   "cell_type": "markdown",
   "metadata": {},
   "source": [
    "# Regressão Multinominal (Tentativa 2):\n",
    "(A **Tentativa 2** se refere ao uso dos \"Fatores Relevantes\")"
   ]
  },
  {
   "cell_type": "markdown",
   "metadata": {},
   "source": [
    "Por meio dos valores de \"p\", conclui-se que  serão eliminadas as variáveis que são maiores que 0.1 em pelo menos duas das listas do summary, ou seja: (x6, x7, x15, x18, x20, x21, x22, x26, x27, x28, x30, x31 e x32)."
   ]
  },
  {
   "cell_type": "code",
   "execution_count": 23,
   "metadata": {},
   "outputs": [
    {
     "name": "stdout",
     "output_type": "stream",
     "text": [
      "Optimization terminated successfully.\n",
      "         Current function value: 0.784299\n",
      "         Iterations 7\n",
      "                          MNLogit Regression Results                          \n",
      "==============================================================================\n",
      "Dep. Variable:                      y   No. Observations:                 3644\n",
      "Model:                        MNLogit   Df Residuals:                     3606\n",
      "Method:                           MLE   Df Model:                           36\n",
      "Date:                Mon, 08 Jun 2020   Pseudo R-squ.:                  0.2618\n",
      "Time:                        05:42:33   Log-Likelihood:                -2858.0\n",
      "converged:                       True   LL-Null:                       -3871.7\n",
      "Covariance Type:            nonrobust   LLR p-value:                     0.000\n",
      "==============================================================================\n",
      "       y=1       coef    std err          z      P>|z|      [0.025      0.975]\n",
      "------------------------------------------------------------------------------\n",
      "x1             0.1358      0.018      7.468      0.000       0.100       0.171\n",
      "x2            -0.1480      0.020     -7.508      0.000      -0.187      -0.109\n",
      "x3            -0.3739      0.027    -13.787      0.000      -0.427      -0.321\n",
      "x4             0.1748      0.025      6.987      0.000       0.126       0.224\n",
      "x5             0.0267      0.013      2.122      0.034       0.002       0.051\n",
      "x6             0.0028      0.002      1.585      0.113      -0.001       0.006\n",
      "x7            -0.0155      0.002     -7.779      0.000      -0.019      -0.012\n",
      "x8             0.0117      0.003      4.421      0.000       0.007       0.017\n",
      "x9             0.0140      0.008      1.679      0.093      -0.002       0.030\n",
      "x10           -0.0047      0.008     -0.574      0.566      -0.021       0.011\n",
      "x11           -0.0293      0.004     -7.070      0.000      -0.037      -0.021\n",
      "x12            0.0360      0.004      8.024      0.000       0.027       0.045\n",
      "x13            0.0366      0.020      1.833      0.067      -0.003       0.076\n",
      "x14           -0.0640      0.025     -2.539      0.011      -0.113      -0.015\n",
      "x15            0.1087      0.040      2.722      0.006       0.030       0.187\n",
      "x16            0.7726      0.225      3.433      0.001       0.331       1.214\n",
      "x17           -0.3683      0.152     -2.417      0.016      -0.667      -0.070\n",
      "x18           -0.0019      0.001     -1.964      0.049      -0.004   -4.47e-06\n",
      "x19            0.0022      0.001      2.120      0.034       0.000       0.004\n",
      "------------------------------------------------------------------------------\n",
      "       y=2       coef    std err          z      P>|z|      [0.025      0.975]\n",
      "------------------------------------------------------------------------------\n",
      "x1             0.1854      0.021      8.698      0.000       0.144       0.227\n",
      "x2            -0.2542      0.023    -11.099      0.000      -0.299      -0.209\n",
      "x3            -0.4992      0.032    -15.608      0.000      -0.562      -0.437\n",
      "x4             0.4984      0.028     17.798      0.000       0.444       0.553\n",
      "x5             0.0364      0.014      2.518      0.012       0.008       0.065\n",
      "x6             0.0040      0.002      1.946      0.052   -2.82e-05       0.008\n",
      "x7            -0.0230      0.002     -9.724      0.000      -0.028      -0.018\n",
      "x8             0.0217      0.003      7.170      0.000       0.016       0.028\n",
      "x9            -0.0036      0.010     -0.372      0.710      -0.023       0.015\n",
      "x10            0.0170      0.009      1.825      0.068      -0.001       0.035\n",
      "x11           -0.0641      0.005    -12.495      0.000      -0.074      -0.054\n",
      "x12            0.0605      0.005     11.978      0.000       0.051       0.070\n",
      "x13            0.0455      0.023      1.993      0.046       0.001       0.090\n",
      "x14           -0.1068      0.029     -3.620      0.000      -0.165      -0.049\n",
      "x15            0.1400      0.045      3.122      0.002       0.052       0.228\n",
      "x16            1.5415      0.232      6.633      0.000       1.086       1.997\n",
      "x17           -0.9865      0.203     -4.861      0.000      -1.384      -0.589\n",
      "x18           -0.0063      0.001     -5.105      0.000      -0.009      -0.004\n",
      "x19            0.0048      0.001      4.504      0.000       0.003       0.007\n",
      "==============================================================================\n"
     ]
    }
   ],
   "source": [
    "# o índice das variáveis que tem p > 0.1 são os descritos acima\n",
    "# para obtermos os índices correspondentes na lista de dados, fazemos estes - 1\n",
    "\n",
    "index_inrrelevant = [5, 6, 14, 17, 19, 20, 21, 25, 26, 27, 29, 30, 31]\n",
    "new_relevant_features = list(stats.drop(stats.columns[index_inrrelevant], axis = 1).columns)\n",
    "\n",
    "# X - dados de features relevantes\n",
    "# Y - resultados\n",
    "X2 = (stats.loc[: , new_relevant_features]).values\n",
    "y2 = results.values\n",
    "\n",
    "# separando teste e treino\n",
    "X_train2, X_test2, y_train2, y_test2 = train_test_split(X2, y2, test_size = .2, random_state = 42)\n",
    "\n",
    "# aplicando a Regressão Multinominal\n",
    "logit_model2 = sm.MNLogit(endog=y_train2.flatten(), exog=X_train2)\n",
    "result2 = logit_model2.fit()\n",
    "\n",
    "# obtendo os dados desse teste\n",
    "stats1_2 = result2.summary()\n",
    "stats2_2= result2.summary2()\n",
    "\n",
    "print(stats1_2)"
   ]
  },
  {
   "cell_type": "code",
   "execution_count": 24,
   "metadata": {},
   "outputs": [
    {
     "name": "stdout",
     "output_type": "stream",
     "text": [
      "                        Results: MNLogit\n",
      "================================================================\n",
      "Model:              MNLogit          Pseudo R-squared: 0.262    \n",
      "Dependent Variable: y                AIC:              5791.9686\n",
      "Date:               2020-06-08 05:42 BIC:              6027.6004\n",
      "No. Observations:   3644             Log-Likelihood:   -2858.0  \n",
      "Df Model:           36               LL-Null:          -3871.7  \n",
      "Df Residuals:       3606             LLR p-value:      0.0000   \n",
      "Converged:          1.0000           Scale:            1.0000   \n",
      "No. Iterations:     7.0000                                      \n",
      "--------------------------------------------------------------\n",
      " y = 0    Coef.   Std.Err.     t      P>|t|    [0.025   0.975]\n",
      "--------------------------------------------------------------\n",
      " x1       0.1358    0.0182    7.4680  0.0000   0.1002   0.1715\n",
      " x2      -0.1480    0.0197   -7.5077  0.0000  -0.1866  -0.1094\n",
      " x3      -0.3739    0.0271  -13.7868  0.0000  -0.4271  -0.3208\n",
      " x4       0.1748    0.0250    6.9868  0.0000   0.1257   0.2238\n",
      " x5       0.0267    0.0126    2.1222  0.0338   0.0020   0.0514\n",
      " x6       0.0028    0.0017    1.5846  0.1131  -0.0007   0.0062\n",
      " x7      -0.0155    0.0020   -7.7790  0.0000  -0.0194  -0.0116\n",
      " x8       0.0117    0.0027    4.4214  0.0000   0.0065   0.0169\n",
      " x9       0.0140    0.0083    1.6787  0.0932  -0.0023   0.0303\n",
      "x10      -0.0047    0.0081   -0.5736  0.5663  -0.0206   0.0113\n",
      "x11      -0.0293    0.0041   -7.0696  0.0000  -0.0374  -0.0212\n",
      "x12       0.0360    0.0045    8.0236  0.0000   0.0272   0.0448\n",
      "x13       0.0366    0.0200    1.8334  0.0667  -0.0025   0.0758\n",
      "x14      -0.0640    0.0252   -2.5394  0.0111  -0.1134  -0.0146\n",
      "x15       0.1087    0.0399    2.7221  0.0065   0.0304   0.1869\n",
      "x16       0.7726    0.2251    3.4328  0.0006   0.3315   1.2138\n",
      "x17      -0.3683    0.1524   -2.4174  0.0156  -0.6670  -0.0697\n",
      "x18      -0.0019    0.0010   -1.9645  0.0495  -0.0039  -0.0000\n",
      "x19       0.0022    0.0010    2.1197  0.0340   0.0002   0.0042\n",
      "--------------------------------------------------------------\n",
      " y = 1    Coef.   Std.Err.     t      P>|t|    [0.025   0.975]\n",
      "--------------------------------------------------------------\n",
      " x1       0.1854    0.0213    8.6979  0.0000   0.1436   0.2271\n",
      " x2      -0.2542    0.0229  -11.0991  0.0000  -0.2991  -0.2093\n",
      " x3      -0.4992    0.0320  -15.6080  0.0000  -0.5619  -0.4365\n",
      " x4       0.4984    0.0280   17.7976  0.0000   0.4436   0.5533\n",
      " x5       0.0364    0.0144    2.5176  0.0118   0.0081   0.0647\n",
      " x6       0.0040    0.0020    1.9461  0.0516  -0.0000   0.0080\n",
      " x7      -0.0230    0.0024   -9.7245  0.0000  -0.0276  -0.0183\n",
      " x8       0.0217    0.0030    7.1702  0.0000   0.0158   0.0277\n",
      " x9      -0.0036    0.0097   -0.3720  0.7099  -0.0226   0.0154\n",
      "x10       0.0170    0.0093    1.8252  0.0680  -0.0013   0.0352\n",
      "x11      -0.0641    0.0051  -12.4953  0.0000  -0.0741  -0.0540\n",
      "x12       0.0605    0.0050   11.9780  0.0000   0.0506   0.0704\n",
      "x13       0.0455    0.0228    1.9928  0.0463   0.0007   0.0903\n",
      "x14      -0.1068    0.0295   -3.6198  0.0003  -0.1646  -0.0490\n",
      "x15       0.1400    0.0448    3.1223  0.0018   0.0521   0.2278\n",
      "x16       1.5415    0.2324    6.6330  0.0000   1.0860   1.9970\n",
      "x17      -0.9865    0.2029   -4.8615  0.0000  -1.3842  -0.5888\n",
      "x18      -0.0063    0.0012   -5.1052  0.0000  -0.0087  -0.0039\n",
      "x19       0.0048    0.0011    4.5043  0.0000   0.0027   0.0069\n",
      "================================================================\n",
      "\n"
     ]
    }
   ],
   "source": [
    "print(stats2_2)"
   ]
  },
  {
   "cell_type": "code",
   "execution_count": 25,
   "metadata": {},
   "outputs": [
    {
     "name": "stdout",
     "output_type": "stream",
     "text": [
      "A acurácia desse modelo de Regressão Multinominal é: 0.6271929824561403\n"
     ]
    }
   ],
   "source": [
    "# Predição 2 - Regressão Multinominal (Retirada de algumas variáveis)\n",
    "r1_rm2 = result2.predict(exog=X_test2)\n",
    "Determina_Acuracia_Multinominal(r1_rm2, y_test2)"
   ]
  },
  {
   "cell_type": "markdown",
   "metadata": {},
   "source": [
    "# Regressão Multinominal (Tentativa 3):"
   ]
  },
  {
   "cell_type": "markdown",
   "metadata": {},
   "source": [
    "Observando novamente os valores de p, ainda é possível elininar mais variáveis, como x6, x9 e x10."
   ]
  },
  {
   "cell_type": "code",
   "execution_count": 26,
   "metadata": {},
   "outputs": [
    {
     "name": "stdout",
     "output_type": "stream",
     "text": [
      "Optimization terminated successfully.\n",
      "         Current function value: 0.820474\n",
      "         Iterations 6\n",
      "                          MNLogit Regression Results                          \n",
      "==============================================================================\n",
      "Dep. Variable:                      y   No. Observations:                 3644\n",
      "Model:                        MNLogit   Df Residuals:                     3612\n",
      "Method:                           MLE   Df Model:                           30\n",
      "Date:                Mon, 08 Jun 2020   Pseudo R-squ.:                  0.2277\n",
      "Time:                        05:42:34   Log-Likelihood:                -2989.8\n",
      "converged:                       True   LL-Null:                       -3871.5\n",
      "Covariance Type:            nonrobust   LLR p-value:                     0.000\n",
      "==============================================================================\n",
      "       y=1       coef    std err          z      P>|z|      [0.025      0.975]\n",
      "------------------------------------------------------------------------------\n",
      "x1             0.1712      0.018      9.668      0.000       0.136       0.206\n",
      "x2            -0.1394      0.019     -7.223      0.000      -0.177      -0.102\n",
      "x3            -0.3953      0.026    -15.014      0.000      -0.447      -0.344\n",
      "x4             0.1650      0.025      6.674      0.000       0.117       0.213\n",
      "x5             0.0484      0.012      4.016      0.000       0.025       0.072\n",
      "x6            -0.0179      0.002     -9.097      0.000      -0.022      -0.014\n",
      "x7             0.0144      0.002      6.793      0.000       0.010       0.019\n",
      "x8             0.0170      0.007      2.363      0.018       0.003       0.031\n",
      "x9            -0.0155      0.004     -4.099      0.000      -0.023      -0.008\n",
      "x10            0.0001      0.019      0.006      0.995      -0.037       0.038\n",
      "x11           -0.0296      0.024     -1.208      0.227      -0.078       0.018\n",
      "x12            0.1302      0.039      3.341      0.001       0.054       0.207\n",
      "x13            0.5435      0.216      2.515      0.012       0.120       0.967\n",
      "x14           -0.5667      0.154     -3.680      0.000      -0.868      -0.265\n",
      "x15           -0.0026      0.001     -2.618      0.009      -0.004      -0.001\n",
      "x16            0.0019      0.001      1.886      0.059   -7.46e-05       0.004\n",
      "------------------------------------------------------------------------------\n",
      "       y=2       coef    std err          z      P>|z|      [0.025      0.975]\n",
      "------------------------------------------------------------------------------\n",
      "x1             0.2544      0.020     12.578      0.000       0.215       0.294\n",
      "x2            -0.2461      0.022    -11.180      0.000      -0.289      -0.203\n",
      "x3            -0.5315      0.031    -17.308      0.000      -0.592      -0.471\n",
      "x4             0.4897      0.027     17.980      0.000       0.436       0.543\n",
      "x5             0.0748      0.014      5.512      0.000       0.048       0.101\n",
      "x6            -0.0276      0.002    -12.190      0.000      -0.032      -0.023\n",
      "x7             0.0263      0.002     11.065      0.000       0.022       0.031\n",
      "x8             0.0131      0.008      1.590      0.112      -0.003       0.029\n",
      "x9            -0.0407      0.005     -8.793      0.000      -0.050      -0.032\n",
      "x10           -0.0164      0.022     -0.764      0.445      -0.059       0.026\n",
      "x11           -0.0738      0.028     -2.622      0.009      -0.129      -0.019\n",
      "x12            0.1653      0.043      3.836      0.000       0.081       0.250\n",
      "x13            1.2903      0.211      6.103      0.000       0.876       1.705\n",
      "x14           -1.1277      0.195     -5.779      0.000      -1.510      -0.745\n",
      "x15           -0.0072      0.001     -5.966      0.000      -0.010      -0.005\n",
      "x16            0.0044      0.001      4.168      0.000       0.002       0.006\n",
      "==============================================================================\n"
     ]
    }
   ],
   "source": [
    "# índice da tabela - 1 = índice da lista\n",
    "index_inrrelevant3 = [5, 8, 9]\n",
    "for i in range(len(index_inrrelevant3)):\n",
    "    new_relevant_features.pop(index_inrrelevant3[i])\n",
    "\n",
    "# X - dados das variáveis consideradas relevantes\n",
    "# Y - resultados\n",
    "X3 = (stats.loc[: , new_relevant_features]).values\n",
    "y3 = results.values\n",
    "\n",
    "# separando teste e treino\n",
    "X_train3, X_test3, y_train3, y_test3 = train_test_split(X3, y3, test_size = .2, random_state = 43)\n",
    "\n",
    "# aplicando o modelo de Regressão Multinominal\n",
    "logit_model3 = sm.MNLogit(endog=y_train3.flatten(), exog=X_train3)\n",
    "result3 = logit_model3.fit()\n",
    "\n",
    "# obtendo os dados desse teste\n",
    "stats1_3 = result3.summary()\n",
    "stats2_3= result3.summary()\n",
    "\n",
    "print(stats1_3)"
   ]
  },
  {
   "cell_type": "code",
   "execution_count": 27,
   "metadata": {},
   "outputs": [
    {
     "name": "stdout",
     "output_type": "stream",
     "text": [
      "                          MNLogit Regression Results                          \n",
      "==============================================================================\n",
      "Dep. Variable:                      y   No. Observations:                 3644\n",
      "Model:                        MNLogit   Df Residuals:                     3612\n",
      "Method:                           MLE   Df Model:                           30\n",
      "Date:                Mon, 08 Jun 2020   Pseudo R-squ.:                  0.2277\n",
      "Time:                        05:42:34   Log-Likelihood:                -2989.8\n",
      "converged:                       True   LL-Null:                       -3871.5\n",
      "Covariance Type:            nonrobust   LLR p-value:                     0.000\n",
      "==============================================================================\n",
      "       y=1       coef    std err          z      P>|z|      [0.025      0.975]\n",
      "------------------------------------------------------------------------------\n",
      "x1             0.1712      0.018      9.668      0.000       0.136       0.206\n",
      "x2            -0.1394      0.019     -7.223      0.000      -0.177      -0.102\n",
      "x3            -0.3953      0.026    -15.014      0.000      -0.447      -0.344\n",
      "x4             0.1650      0.025      6.674      0.000       0.117       0.213\n",
      "x5             0.0484      0.012      4.016      0.000       0.025       0.072\n",
      "x6            -0.0179      0.002     -9.097      0.000      -0.022      -0.014\n",
      "x7             0.0144      0.002      6.793      0.000       0.010       0.019\n",
      "x8             0.0170      0.007      2.363      0.018       0.003       0.031\n",
      "x9            -0.0155      0.004     -4.099      0.000      -0.023      -0.008\n",
      "x10            0.0001      0.019      0.006      0.995      -0.037       0.038\n",
      "x11           -0.0296      0.024     -1.208      0.227      -0.078       0.018\n",
      "x12            0.1302      0.039      3.341      0.001       0.054       0.207\n",
      "x13            0.5435      0.216      2.515      0.012       0.120       0.967\n",
      "x14           -0.5667      0.154     -3.680      0.000      -0.868      -0.265\n",
      "x15           -0.0026      0.001     -2.618      0.009      -0.004      -0.001\n",
      "x16            0.0019      0.001      1.886      0.059   -7.46e-05       0.004\n",
      "------------------------------------------------------------------------------\n",
      "       y=2       coef    std err          z      P>|z|      [0.025      0.975]\n",
      "------------------------------------------------------------------------------\n",
      "x1             0.2544      0.020     12.578      0.000       0.215       0.294\n",
      "x2            -0.2461      0.022    -11.180      0.000      -0.289      -0.203\n",
      "x3            -0.5315      0.031    -17.308      0.000      -0.592      -0.471\n",
      "x4             0.4897      0.027     17.980      0.000       0.436       0.543\n",
      "x5             0.0748      0.014      5.512      0.000       0.048       0.101\n",
      "x6            -0.0276      0.002    -12.190      0.000      -0.032      -0.023\n",
      "x7             0.0263      0.002     11.065      0.000       0.022       0.031\n",
      "x8             0.0131      0.008      1.590      0.112      -0.003       0.029\n",
      "x9            -0.0407      0.005     -8.793      0.000      -0.050      -0.032\n",
      "x10           -0.0164      0.022     -0.764      0.445      -0.059       0.026\n",
      "x11           -0.0738      0.028     -2.622      0.009      -0.129      -0.019\n",
      "x12            0.1653      0.043      3.836      0.000       0.081       0.250\n",
      "x13            1.2903      0.211      6.103      0.000       0.876       1.705\n",
      "x14           -1.1277      0.195     -5.779      0.000      -1.510      -0.745\n",
      "x15           -0.0072      0.001     -5.966      0.000      -0.010      -0.005\n",
      "x16            0.0044      0.001      4.168      0.000       0.002       0.006\n",
      "==============================================================================\n"
     ]
    }
   ],
   "source": [
    "print(stats2_3)"
   ]
  },
  {
   "cell_type": "code",
   "execution_count": 28,
   "metadata": {},
   "outputs": [
    {
     "name": "stdout",
     "output_type": "stream",
     "text": [
      "A acurácia desse modelo de Regressão Multinominal é: 0.6173245614035088\n"
     ]
    }
   ],
   "source": [
    "# Predição 3 - Regressão Multinominal (Retirada de algumas variáveis)\n",
    "r1_rm3 = result3.predict(exog=X_test3)\n",
    "Determina_Acuracia_Multinominal(r1_rm3, y_test3)"
   ]
  },
  {
   "cell_type": "markdown",
   "metadata": {},
   "source": [
    "O modelo obteve menos acertos ao passo que as variáveis com valor p maior que 0.1 foram retiradas. Assim, usa-se outro métodos para identificar melhor modelo e quantidade de variáveis que melhor descrevem o modelo."
   ]
  },
  {
   "cell_type": "markdown",
   "metadata": {},
   "source": [
    "----"
   ]
  },
  {
   "cell_type": "markdown",
   "metadata": {},
   "source": [
    "# Nova Seleção de Melhores Variáveis"
   ]
  },
  {
   "cell_type": "code",
   "execution_count": 29,
   "metadata": {},
   "outputs": [
    {
     "ename": "NameError",
     "evalue": "name 'X_train1' is not defined",
     "output_type": "error",
     "traceback": [
      "\u001b[1;31m---------------------------------------------------------------------------\u001b[0m",
      "\u001b[1;31mNameError\u001b[0m                                 Traceback (most recent call last)",
      "\u001b[1;32m<ipython-input-29-91ccaa31625a>\u001b[0m in \u001b[0;36m<module>\u001b[1;34m\u001b[0m\n\u001b[0;32m      1\u001b[0m \u001b[0mforest\u001b[0m \u001b[1;33m=\u001b[0m \u001b[0mRandomForestClassifier\u001b[0m\u001b[1;33m(\u001b[0m\u001b[0mn_estimators\u001b[0m\u001b[1;33m=\u001b[0m\u001b[1;36m500\u001b[0m\u001b[1;33m,\u001b[0m\u001b[0mrandom_state\u001b[0m\u001b[1;33m=\u001b[0m\u001b[1;36m42\u001b[0m\u001b[1;33m)\u001b[0m\u001b[1;33m\u001b[0m\u001b[1;33m\u001b[0m\u001b[0m\n\u001b[1;32m----> 2\u001b[1;33m \u001b[0mforest\u001b[0m\u001b[1;33m.\u001b[0m\u001b[0mfit\u001b[0m\u001b[1;33m(\u001b[0m\u001b[0mX_train1\u001b[0m\u001b[1;33m,\u001b[0m \u001b[0my_train1\u001b[0m\u001b[1;33m)\u001b[0m\u001b[1;33m\u001b[0m\u001b[1;33m\u001b[0m\u001b[0m\n\u001b[0m\u001b[0;32m      3\u001b[0m \u001b[1;33m\u001b[0m\u001b[0m\n\u001b[0;32m      4\u001b[0m \u001b[0mfeatures\u001b[0m \u001b[1;33m=\u001b[0m \u001b[0mstats\u001b[0m\u001b[1;33m.\u001b[0m\u001b[0mcolumns\u001b[0m\u001b[1;33m\u001b[0m\u001b[1;33m\u001b[0m\u001b[0m\n\u001b[0;32m      5\u001b[0m \u001b[0mimportances\u001b[0m \u001b[1;33m=\u001b[0m \u001b[0mforest\u001b[0m\u001b[1;33m.\u001b[0m\u001b[0mfeature_importances_\u001b[0m\u001b[1;33m\u001b[0m\u001b[1;33m\u001b[0m\u001b[0m\n",
      "\u001b[1;31mNameError\u001b[0m: name 'X_train1' is not defined"
     ]
    }
   ],
   "source": [
    "# aplicando o Random Forest\n",
    "forest = RandomForestClassifier(n_estimators=500,random_state=42)\n",
    "forest.fit(X_train1, y_train1)\n",
    "\n",
    "# definindo as variáveis relevantes\n",
    "features = stats.columns\n",
    "importances = forest.feature_importances_\n",
    "\n",
    "indices = np.argsort(importances)[::-1]\n",
    "indices\n",
    "for f in range(X_train1.shape[1]):\n",
    "    print(\"%2d) %-*s %f\" % (f + 1, 30,features[indices[f]], importances[indices[f]]))"
   ]
  },
  {
   "cell_type": "code",
   "execution_count": 30,
   "metadata": {},
   "outputs": [
    {
     "data": {
      "text/plain": [
       "['Touches_home',\n",
       " 'Passes_home',\n",
       " 'Passes_away',\n",
       " 'Touches_away',\n",
       " 'Possession_away',\n",
       " 'Possession_home',\n",
       " 'Shots_on_target_away',\n",
       " 'Shots_on_target_home',\n",
       " 'Shots_away',\n",
       " 'Shots_home']"
      ]
     },
     "execution_count": 30,
     "metadata": {},
     "output_type": "execute_result"
    }
   ],
   "source": [
    "# Por tentativa e erro, utilizando-se as  23 primeiras vairiáveis da lista acima\n",
    "# obtem-se o melhor resultado\n",
    "relevant_features = []\n",
    "for i in range(len(features[indices])):\n",
    "    if i <= 22:\n",
    "        relevant_features.append(features[indices][i])\n",
    "    else:\n",
    "        pass\n",
    "relevant_features"
   ]
  },
  {
   "cell_type": "markdown",
   "metadata": {},
   "source": [
    "# Random Forest (Tentativa 3):"
   ]
  },
  {
   "cell_type": "code",
   "execution_count": 31,
   "metadata": {},
   "outputs": [],
   "source": [
    "# Predição com as novas variáveis relevantes\n",
    "# X - dados das variáveis consideradas relevantes\n",
    "# Y - resultados\n",
    "RF_X3 = (stats.loc[: , relevant_features]).values\n",
    "RF_y3 = results.values"
   ]
  },
  {
   "cell_type": "code",
   "execution_count": 32,
   "metadata": {},
   "outputs": [],
   "source": [
    "# separando treino e teste\n",
    "RF_X_train3, RF_X_test3, RF_y_train3, RF_y_test3 = train_test_split(RF_X3, RF_y3, test_size = .25, random_state = 42)"
   ]
  },
  {
   "cell_type": "code",
   "execution_count": 33,
   "metadata": {},
   "outputs": [
    {
     "name": "stderr",
     "output_type": "stream",
     "text": [
      "C:\\Users\\gabri\\Anaconda3\\lib\\site-packages\\ipykernel_launcher.py:2: DataConversionWarning: A column-vector y was passed when a 1d array was expected. Please change the shape of y to (n_samples,), for example using ravel().\n",
      "  \n"
     ]
    },
    {
     "data": {
      "text/plain": [
       "RandomForestClassifier(n_estimators=500, random_state=42)"
      ]
     },
     "execution_count": 33,
     "metadata": {},
     "output_type": "execute_result"
    }
   ],
   "source": [
    "# aplicando o Random Forest\n",
    "classificador_RF = RandomForestClassifier(n_estimators=500, random_state=42)\n",
    "classificador_RF.fit(RF_X_train3, RF_y_train3)"
   ]
  },
  {
   "cell_type": "code",
   "execution_count": 34,
   "metadata": {},
   "outputs": [
    {
     "name": "stdout",
     "output_type": "stream",
     "text": [
      "Acurácia do modelo Random Forest com as novas relevant features:  0.5539947322212467\n"
     ]
    }
   ],
   "source": [
    "# medindo a acurácia desse modelo\n",
    "RF_y_pred3 = classificador_RF.predict(RF_X_test3)\n",
    "print('Acurácia do modelo Random Forest com as novas relevant features: ', accuracy_score(RF_y_test3, RF_y_pred3))"
   ]
  },
  {
   "cell_type": "markdown",
   "metadata": {},
   "source": [
    "----\n",
    "# Regressão Multinominal (Tentativa 4):"
   ]
  },
  {
   "cell_type": "code",
   "execution_count": 35,
   "metadata": {},
   "outputs": [
    {
     "ename": "NameError",
     "evalue": "name 'y_train' is not defined",
     "output_type": "error",
     "traceback": [
      "\u001b[1;31m---------------------------------------------------------------------------\u001b[0m",
      "\u001b[1;31mNameError\u001b[0m                                 Traceback (most recent call last)",
      "\u001b[1;32m<ipython-input-35-fb7605250e1b>\u001b[0m in \u001b[0;36m<module>\u001b[1;34m\u001b[0m\n\u001b[1;32m----> 1\u001b[1;33m \u001b[0mlogit_model\u001b[0m \u001b[1;33m=\u001b[0m \u001b[0msm\u001b[0m\u001b[1;33m.\u001b[0m\u001b[0mMNLogit\u001b[0m\u001b[1;33m(\u001b[0m\u001b[0mendog\u001b[0m\u001b[1;33m=\u001b[0m\u001b[0my_train\u001b[0m\u001b[1;33m.\u001b[0m\u001b[0mflatten\u001b[0m\u001b[1;33m(\u001b[0m\u001b[1;33m)\u001b[0m\u001b[1;33m,\u001b[0m \u001b[0mexog\u001b[0m\u001b[1;33m=\u001b[0m\u001b[0mX_train\u001b[0m\u001b[1;33m)\u001b[0m\u001b[1;33m\u001b[0m\u001b[1;33m\u001b[0m\u001b[0m\n\u001b[0m\u001b[0;32m      2\u001b[0m \u001b[0mresult\u001b[0m \u001b[1;33m=\u001b[0m \u001b[0mlogit_model\u001b[0m\u001b[1;33m.\u001b[0m\u001b[0mfit\u001b[0m\u001b[1;33m(\u001b[0m\u001b[1;33m)\u001b[0m\u001b[1;33m\u001b[0m\u001b[1;33m\u001b[0m\u001b[0m\n\u001b[0;32m      3\u001b[0m \u001b[0mr4_rm\u001b[0m \u001b[1;33m=\u001b[0m \u001b[0mresult\u001b[0m\u001b[1;33m.\u001b[0m\u001b[0mpredict\u001b[0m\u001b[1;33m(\u001b[0m\u001b[0mexog\u001b[0m\u001b[1;33m=\u001b[0m\u001b[0mX_test\u001b[0m\u001b[1;33m)\u001b[0m\u001b[1;33m\u001b[0m\u001b[1;33m\u001b[0m\u001b[0m\n\u001b[0;32m      4\u001b[0m \u001b[0mDetermina_Acuracia_Multinominal\u001b[0m\u001b[1;33m(\u001b[0m\u001b[0mr4_rm\u001b[0m\u001b[1;33m,\u001b[0m \u001b[0my_test\u001b[0m\u001b[1;33m)\u001b[0m\u001b[1;33m\u001b[0m\u001b[1;33m\u001b[0m\u001b[0m\n",
      "\u001b[1;31mNameError\u001b[0m: name 'y_train' is not defined"
     ]
    }
   ],
   "source": [
    "# aplicando a Regressão Multinominal\n",
    "logit_model = sm.MNLogit(endog=y_train.flatten(), exog=X_train)\n",
    "result = logit_model.fit()\n",
    "r4_rm = result.predict(exog=X_test)\n",
    "Determina_Acuracia_Multinominal(r4_rm, y_test)"
   ]
  },
  {
   "cell_type": "markdown",
   "metadata": {},
   "source": [
    "Até o momento, a regressão Multinominal 4 está obtendo a mehor acurácia."
   ]
  },
  {
   "cell_type": "markdown",
   "metadata": {},
   "source": [
    "----"
   ]
  },
  {
   "cell_type": "markdown",
   "metadata": {},
   "source": [
    "# Regressão Naive Bayes Multinomial (Tentativa 1):\n",
    "(usando todos os dados)"
   ]
  },
  {
   "cell_type": "code",
   "execution_count": 37,
   "metadata": {},
   "outputs": [],
   "source": [
    "# X - todos os dados\n",
    "# Y - resultados\n",
    "NB_X1 = stats.values\n",
    "NB_y1 = results.values"
   ]
  },
  {
   "cell_type": "code",
   "execution_count": 38,
   "metadata": {},
   "outputs": [],
   "source": [
    "# separa treino e teste\n",
    "NB_X_train1, NB_X_test1, NB_y_train1, NB_y_test1 = train_test_split(NB_X1, NB_y1, test_size = .25, random_state = 42)"
   ]
  },
  {
   "cell_type": "code",
   "execution_count": 39,
   "metadata": {},
   "outputs": [
    {
     "name": "stderr",
     "output_type": "stream",
     "text": [
      "C:\\Users\\gabri\\Anaconda3\\lib\\site-packages\\sklearn\\utils\\validation.py:73: DataConversionWarning: A column-vector y was passed when a 1d array was expected. Please change the shape of y to (n_samples, ), for example using ravel().\n",
      "  return f(**kwargs)\n"
     ]
    },
    {
     "data": {
      "text/plain": [
       "MultinomialNB()"
      ]
     },
     "execution_count": 39,
     "metadata": {},
     "output_type": "execute_result"
    }
   ],
   "source": [
    "# aplicando Naive Bayes Multinominal\n",
    "classificador_NB_multinomial = MultinomialNB()\n",
    "classificador_NB_multinomial.fit(NB_X_train1, NB_y_train1)"
   ]
  },
  {
   "cell_type": "code",
   "execution_count": 40,
   "metadata": {},
   "outputs": [
    {
     "name": "stdout",
     "output_type": "stream",
     "text": [
      "Acurácia do modelo Naive Bayes Multinomial usando todos os dados: 0.4793678665496049\n"
     ]
    }
   ],
   "source": [
    "# medindo a acurácia desse modelo\n",
    "NB_y_pred1 = classificador_NB_multinomial.predict(NB_X_test1)\n",
    "print('Acurácia do modelo Naive Bayes Multinomial usando todos os dados:', accuracy_score(NB_y_test1, NB_y_pred1))"
   ]
  },
  {
   "cell_type": "markdown",
   "metadata": {},
   "source": [
    "----"
   ]
  },
  {
   "cell_type": "markdown",
   "metadata": {},
   "source": [
    "# Regressão Naive Bayes Multinomial (Tentativa 2):\n",
    "((usando as Relevant Features)"
   ]
  },
  {
   "cell_type": "code",
   "execution_count": 41,
   "metadata": {},
   "outputs": [],
   "source": [
    "# X - todos os dados\n",
    "# Y - resultados\n",
    "NB_X2 = (stats.loc[: , relevant_features]).values\n",
    "NB_y2 = results.values"
   ]
  },
  {
   "cell_type": "code",
   "execution_count": 42,
   "metadata": {},
   "outputs": [],
   "source": [
    "# separa treino e teste\n",
    "NB_X_train2, NB_X_test2, NB_y_train2, NB_y_test2 = train_test_split(NB_X2, NB_y2, test_size = .25, random_state = 42)"
   ]
  },
  {
   "cell_type": "code",
   "execution_count": 43,
   "metadata": {},
   "outputs": [
    {
     "name": "stderr",
     "output_type": "stream",
     "text": [
      "C:\\Users\\gabri\\Anaconda3\\lib\\site-packages\\sklearn\\utils\\validation.py:73: DataConversionWarning: A column-vector y was passed when a 1d array was expected. Please change the shape of y to (n_samples, ), for example using ravel().\n",
      "  return f(**kwargs)\n"
     ]
    },
    {
     "data": {
      "text/plain": [
       "MultinomialNB()"
      ]
     },
     "execution_count": 43,
     "metadata": {},
     "output_type": "execute_result"
    }
   ],
   "source": [
    "classificador_NB_multinomial = MultinomialNB()\n",
    "classificador_NB_multinomial.fit(NB_X_train2, NB_y_train2)"
   ]
  },
  {
   "cell_type": "code",
   "execution_count": 44,
   "metadata": {},
   "outputs": [
    {
     "name": "stdout",
     "output_type": "stream",
     "text": [
      "Acurácia do modelo Naive Bayes Multinomial usando as relevant features: 0.4363476733977173\n"
     ]
    }
   ],
   "source": [
    "# medindo a acurácia desse modelo\n",
    "NB_y_pred2 = classificador_NB_multinomial.predict(NB_X_test2)\n",
    "print('Acurácia do modelo Naive Bayes Multinomial usando as relevant features:', accuracy_score(NB_y_test2, NB_y_pred2))"
   ]
  },
  {
   "cell_type": "markdown",
   "metadata": {},
   "source": [
    "----"
   ]
  },
  {
   "cell_type": "markdown",
   "metadata": {},
   "source": [
    "# K Neighbors Classifier (Tentativa 1):\n",
    "(usando todos os dados)"
   ]
  },
  {
   "cell_type": "code",
   "execution_count": 45,
   "metadata": {},
   "outputs": [],
   "source": [
    "KN_X1 = stats.values\n",
    "KN_y1 = results.values"
   ]
  },
  {
   "cell_type": "code",
   "execution_count": 46,
   "metadata": {},
   "outputs": [],
   "source": [
    "# separa treino e teste\n",
    "KN_X_train1, KN_X_test1, KN_y_train1, KN_y_test1 = train_test_split(KN_X1, KN_y1, test_size = .25, random_state = 42)"
   ]
  },
  {
   "cell_type": "code",
   "execution_count": 47,
   "metadata": {},
   "outputs": [
    {
     "name": "stderr",
     "output_type": "stream",
     "text": [
      "C:\\Users\\gabri\\Anaconda3\\lib\\site-packages\\ipykernel_launcher.py:2: DataConversionWarning: A column-vector y was passed when a 1d array was expected. Please change the shape of y to (n_samples, ), for example using ravel().\n",
      "  \n"
     ]
    },
    {
     "data": {
      "text/plain": [
       "KNeighborsClassifier(n_neighbors=26)"
      ]
     },
     "execution_count": 47,
     "metadata": {},
     "output_type": "execute_result"
    }
   ],
   "source": [
    "classificador_KNeigh = KNeighborsClassifier(n_neighbors=26)\n",
    "classificador_KNeigh.fit(KN_X_train1, KN_y_train1)"
   ]
  },
  {
   "cell_type": "code",
   "execution_count": 48,
   "metadata": {},
   "outputs": [
    {
     "name": "stdout",
     "output_type": "stream",
     "text": [
      "Acurácia do modelo K Neighbors usando todos os dados:  0.5039508340649693\n"
     ]
    }
   ],
   "source": [
    "# medindo a acurácia desse modelo\n",
    "KN_y_pred1 = classificador_KNeigh.predict(KN_X_test1)\n",
    "print('Acurácia do modelo K Neighbors usando todos os dados: ', accuracy_score(KN_y_test1, KN_y_pred1))"
   ]
  },
  {
   "cell_type": "markdown",
   "metadata": {},
   "source": [
    "# K Neighbors Classifier (Tentativa 2):\n",
    "(usando as Relevant Features)"
   ]
  },
  {
   "cell_type": "code",
   "execution_count": 49,
   "metadata": {},
   "outputs": [],
   "source": [
    "KN_X2 = (stats.loc[: , relevant_features]).values\n",
    "KN_y2 = results.values"
   ]
  },
  {
   "cell_type": "code",
   "execution_count": 50,
   "metadata": {},
   "outputs": [],
   "source": [
    "# separa treino e teste\n",
    "KN_X_train2, KN_X_test2, KN_y_train2, KN_y_test2 = train_test_split(KN_X2, KN_y2, test_size = .25, random_state = 42)"
   ]
  },
  {
   "cell_type": "code",
   "execution_count": 51,
   "metadata": {},
   "outputs": [
    {
     "name": "stderr",
     "output_type": "stream",
     "text": [
      "C:\\Users\\gabri\\Anaconda3\\lib\\site-packages\\ipykernel_launcher.py:2: DataConversionWarning: A column-vector y was passed when a 1d array was expected. Please change the shape of y to (n_samples, ), for example using ravel().\n",
      "  \n"
     ]
    },
    {
     "data": {
      "text/plain": [
       "KNeighborsClassifier(n_neighbors=25)"
      ]
     },
     "execution_count": 51,
     "metadata": {},
     "output_type": "execute_result"
    }
   ],
   "source": [
    "classificador_KNeigh = KNeighborsClassifier(n_neighbors=25)\n",
    "classificador_KNeigh.fit(KN_X_train2, KN_y_train2)"
   ]
  },
  {
   "cell_type": "code",
   "execution_count": 52,
   "metadata": {},
   "outputs": [
    {
     "name": "stdout",
     "output_type": "stream",
     "text": [
      "Acurácia do modelo K Neighbors usando os relevants features: 0.45829675153643545\n"
     ]
    }
   ],
   "source": [
    "# medindo a acurácia desse modelo\n",
    "KN_y_pred2 = classificador_KNeigh.predict(KN_X_test2)\n",
    "print('Acurácia do modelo K Neighbors usando os relevants features:', accuracy_score(KN_y_test2, KN_y_pred2))"
   ]
  },
  {
   "cell_type": "markdown",
   "metadata": {},
   "source": [
    "----"
   ]
  },
  {
   "cell_type": "markdown",
   "metadata": {},
   "source": [
    "# Gradient Boosting Classificador (Tentativa 1):\n",
    "(usando todos os dados)"
   ]
  },
  {
   "cell_type": "code",
   "execution_count": 53,
   "metadata": {},
   "outputs": [],
   "source": [
    "GB_X1 = stats.values\n",
    "GB_y1 = results.values"
   ]
  },
  {
   "cell_type": "code",
   "execution_count": 54,
   "metadata": {},
   "outputs": [],
   "source": [
    "# separa treino e teste\n",
    "GB_X_train1, GB_X_test1, GB_y_train1, GB_y_test1 = train_test_split(GB_X1, GB_y1, test_size = .25, random_state=0)"
   ]
  },
  {
   "cell_type": "code",
   "execution_count": 55,
   "metadata": {},
   "outputs": [
    {
     "name": "stderr",
     "output_type": "stream",
     "text": [
      "C:\\Users\\gabri\\Anaconda3\\lib\\site-packages\\sklearn\\utils\\validation.py:73: DataConversionWarning: A column-vector y was passed when a 1d array was expected. Please change the shape of y to (n_samples, ), for example using ravel().\n",
      "  return f(**kwargs)\n"
     ]
    },
    {
     "data": {
      "text/plain": [
       "GradientBoostingClassifier(random_state=0)"
      ]
     },
     "execution_count": 55,
     "metadata": {},
     "output_type": "execute_result"
    }
   ],
   "source": [
    "classificador_Gradiente = GradientBoostingClassifier(random_state=0)\n",
    "classificador_Gradiente.fit(GB_X_train1, GB_y_train1)"
   ]
  },
  {
   "cell_type": "code",
   "execution_count": 56,
   "metadata": {},
   "outputs": [
    {
     "name": "stdout",
     "output_type": "stream",
     "text": [
      "Acurácia do modelo Gradient Boosting usando todos os dados:  0.6488147497805092\n"
     ]
    }
   ],
   "source": [
    "# medindo a acurácia desse modelo\n",
    "GB_y_pred1 = classificador_Gradiente.predict(GB_X_test1)\n",
    "print('Acurácia do modelo Gradient Boosting usando todos os dados: ', accuracy_score(GB_y_test1, GB_y_pred1))"
   ]
  },
  {
   "cell_type": "markdown",
   "metadata": {},
   "source": [
    "# Gradient Boosting Classificador (Tentativa 2):\n",
    "(usando as relevant features)"
   ]
  },
  {
   "cell_type": "code",
   "execution_count": 57,
   "metadata": {},
   "outputs": [],
   "source": [
    "GB_X2 = (stats.loc[: , relevant_features]).values\n",
    "GB_y2 = results.values"
   ]
  },
  {
   "cell_type": "code",
   "execution_count": 58,
   "metadata": {},
   "outputs": [],
   "source": [
    "# separa treino e teste\n",
    "GB_X_train2, GB_X_test2, GB_y_train2, GB_y_test2 = train_test_split(GB_X2, GB_y2, test_size = .25, random_state=0)"
   ]
  },
  {
   "cell_type": "code",
   "execution_count": 59,
   "metadata": {},
   "outputs": [
    {
     "name": "stderr",
     "output_type": "stream",
     "text": [
      "C:\\Users\\gabri\\Anaconda3\\lib\\site-packages\\sklearn\\utils\\validation.py:73: DataConversionWarning: A column-vector y was passed when a 1d array was expected. Please change the shape of y to (n_samples, ), for example using ravel().\n",
      "  return f(**kwargs)\n"
     ]
    },
    {
     "data": {
      "text/plain": [
       "GradientBoostingClassifier(random_state=0)"
      ]
     },
     "execution_count": 59,
     "metadata": {},
     "output_type": "execute_result"
    }
   ],
   "source": [
    "classificador_Gradiente = GradientBoostingClassifier(random_state=0)\n",
    "classificador_Gradiente.fit(GB_X_train2, GB_y_train2)"
   ]
  },
  {
   "cell_type": "code",
   "execution_count": 60,
   "metadata": {},
   "outputs": [
    {
     "name": "stdout",
     "output_type": "stream",
     "text": [
      "Acurácia do modelo Gradient Boosting usando as relevant features:  0.5987708516242318\n"
     ]
    }
   ],
   "source": [
    "# medindo a acurácia desse modelo\n",
    "GB_y_pred2 = classificador_Gradiente.predict(GB_X_test2)\n",
    "print('Acurácia do modelo Gradient Boosting usando as relevant features: ', accuracy_score(GB_y_test2, GB_y_pred2))"
   ]
  },
  {
   "cell_type": "markdown",
   "metadata": {},
   "source": [
    "----"
   ]
  },
  {
   "cell_type": "markdown",
   "metadata": {},
   "source": [
    "# Fazendo Predições com o Modelo"
   ]
  },
  {
   "cell_type": "code",
   "execution_count": 61,
   "metadata": {},
   "outputs": [
    {
     "ename": "NameError",
     "evalue": "name 'result' is not defined",
     "output_type": "error",
     "traceback": [
      "\u001b[1;31m---------------------------------------------------------------------------\u001b[0m",
      "\u001b[1;31mNameError\u001b[0m                                 Traceback (most recent call last)",
      "\u001b[1;32m<ipython-input-61-79bb2dd8c7f1>\u001b[0m in \u001b[0;36m<module>\u001b[1;34m\u001b[0m\n\u001b[0;32m      6\u001b[0m \u001b[1;33m\u001b[0m\u001b[0m\n\u001b[0;32m      7\u001b[0m \u001b[1;33m\u001b[0m\u001b[0m\n\u001b[1;32m----> 8\u001b[1;33m \u001b[0mHistorico_Confrontos\u001b[0m\u001b[1;33m(\u001b[0m\u001b[0mdados\u001b[0m\u001b[1;33m,\u001b[0m \u001b[1;34m'Everton'\u001b[0m\u001b[1;33m,\u001b[0m \u001b[1;34m'Liverpool'\u001b[0m\u001b[1;33m,\u001b[0m \u001b[0mresult\u001b[0m\u001b[1;33m)\u001b[0m\u001b[1;33m\u001b[0m\u001b[1;33m\u001b[0m\u001b[0m\n\u001b[0m",
      "\u001b[1;31mNameError\u001b[0m: name 'result' is not defined"
     ]
    }
   ],
   "source": [
    "def Historico_Confrontos(df, home, away, result_model):\n",
    "    matches = df.loc[(df['Home_team'] == home) & (df['Away_team'] == away), :]\n",
    "    resumo = matches.loc[:, relevant_features].mean().to_frame().T\n",
    "    resultado = result_model.predict(exog=resumo)\n",
    "    return resultado\n",
    "\n",
    "\n",
    "Historico_Confrontos(dados, 'Everton', 'Liverpool', result)"
   ]
  },
  {
   "cell_type": "code",
   "execution_count": null,
   "metadata": {},
   "outputs": [],
   "source": []
  },
  {
   "cell_type": "code",
   "execution_count": null,
   "metadata": {},
   "outputs": [],
   "source": []
  }
 ],
 "metadata": {
  "kernelspec": {
   "display_name": "Python 3",
   "language": "python",
   "name": "python3"
  },
  "language_info": {
   "codemirror_mode": {
    "name": "ipython",
    "version": 3
   },
   "file_extension": ".py",
   "mimetype": "text/x-python",
   "name": "python",
   "nbconvert_exporter": "python",
   "pygments_lexer": "ipython3",
   "version": "3.7.4"
  }
 },
 "nbformat": 4,
 "nbformat_minor": 4
}
