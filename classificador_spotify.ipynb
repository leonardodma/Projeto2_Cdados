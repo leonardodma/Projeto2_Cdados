{
 "cells": [
  {
   "cell_type": "markdown",
   "metadata": {},
   "source": [
    "# Classificador Spotify \n",
    "\n",
    "### Integrantes:\n",
    "* `Andresa Bicudo`\n",
    "* `Gabriel Yamashita`\n",
    "* `Leonardo Malta`"
   ]
  },
  {
   "cell_type": "code",
   "execution_count": 18,
   "metadata": {},
   "outputs": [],
   "source": [
    "# Importando Bibliotecas \n",
    "%matplotlib inline\n",
    "import pandas as pd\n",
    "import matplotlib.pyplot as plt\n",
    "import numpy as np\n",
    "import os\n",
    "import re\n",
    "import functools\n",
    "import operator\n",
    "import re"
   ]
  },
  {
   "cell_type": "code",
   "execution_count": 33,
   "metadata": {},
   "outputs": [
    {
     "name": "stdout",
     "output_type": "stream",
     "text": [
      "Esperamos trabalhar no diretório\n",
      "C:\\Users\\gabri\\Desktop\\Projeto2_Cdados-master\n"
     ]
    }
   ],
   "source": [
    "print('Esperamos trabalhar no diretório')\n",
    "print(os.getcwd())"
   ]
  },
  {
   "cell_type": "code",
   "execution_count": 51,
   "metadata": {
    "scrolled": true
   },
   "outputs": [
    {
     "data": {
      "text/html": [
       "<div>\n",
       "<style scoped>\n",
       "    .dataframe tbody tr th:only-of-type {\n",
       "        vertical-align: middle;\n",
       "    }\n",
       "\n",
       "    .dataframe tbody tr th {\n",
       "        vertical-align: top;\n",
       "    }\n",
       "\n",
       "    .dataframe thead th {\n",
       "        text-align: right;\n",
       "    }\n",
       "</style>\n",
       "<table border=\"1\" class=\"dataframe\">\n",
       "  <thead>\n",
       "    <tr style=\"text-align: right;\">\n",
       "      <th></th>\n",
       "      <th>name</th>\n",
       "      <th>like</th>\n",
       "      <th>danceability</th>\n",
       "      <th>energy</th>\n",
       "      <th>key</th>\n",
       "      <th>loudness</th>\n",
       "      <th>mode</th>\n",
       "      <th>speechiness</th>\n",
       "      <th>acousticness</th>\n",
       "      <th>instrumentalness</th>\n",
       "      <th>liveness</th>\n",
       "      <th>valence</th>\n",
       "      <th>tempo</th>\n",
       "      <th>id</th>\n",
       "      <th>uri</th>\n",
       "      <th>track_href</th>\n",
       "      <th>analysis_url</th>\n",
       "      <th>duration_ms</th>\n",
       "      <th>time_signature</th>\n",
       "    </tr>\n",
       "  </thead>\n",
       "  <tbody>\n",
       "    <tr>\n",
       "      <th>0</th>\n",
       "      <td>Ouvi Dizer</td>\n",
       "      <td>1</td>\n",
       "      <td>0.641</td>\n",
       "      <td>0.614</td>\n",
       "      <td>7</td>\n",
       "      <td>-7.847</td>\n",
       "      <td>1</td>\n",
       "      <td>0.0532</td>\n",
       "      <td>0.0745</td>\n",
       "      <td>0.0</td>\n",
       "      <td>0.093</td>\n",
       "      <td>0.727</td>\n",
       "      <td>81.011</td>\n",
       "      <td>1qCLx3nX25NuhfPjM5E1qV</td>\n",
       "      <td>spotify:track:1qCLx3nX25NuhfPjM5E1qV</td>\n",
       "      <td>https://api.spotify.com/v1/tracks/1qCLx3nX25Nu...</td>\n",
       "      <td>https://api.spotify.com/v1/audio-analysis/1qCL...</td>\n",
       "      <td>210889</td>\n",
       "      <td>4</td>\n",
       "    </tr>\n",
       "    <tr>\n",
       "      <th>1</th>\n",
       "      <td>Pain 1993 (with Playboi Carti)</td>\n",
       "      <td>0</td>\n",
       "      <td>0.825</td>\n",
       "      <td>0.373</td>\n",
       "      <td>5</td>\n",
       "      <td>-5.532</td>\n",
       "      <td>0</td>\n",
       "      <td>0.1080</td>\n",
       "      <td>0.1630</td>\n",
       "      <td>0.0</td>\n",
       "      <td>0.368</td>\n",
       "      <td>0.120</td>\n",
       "      <td>77.271</td>\n",
       "      <td>6Kj17Afjo1OKJYpf5VzCeo</td>\n",
       "      <td>spotify:track:6Kj17Afjo1OKJYpf5VzCeo</td>\n",
       "      <td>https://api.spotify.com/v1/tracks/6Kj17Afjo1OK...</td>\n",
       "      <td>https://api.spotify.com/v1/audio-analysis/6Kj1...</td>\n",
       "      <td>149078</td>\n",
       "      <td>4</td>\n",
       "    </tr>\n",
       "  </tbody>\n",
       "</table>\n",
       "</div>"
      ],
      "text/plain": [
       "                             name  like  danceability  energy  key  loudness  \\\n",
       "0                      Ouvi Dizer     1         0.641   0.614    7    -7.847   \n",
       "1  Pain 1993 (with Playboi Carti)     0         0.825   0.373    5    -5.532   \n",
       "\n",
       "   mode  speechiness  acousticness  instrumentalness  liveness  valence  \\\n",
       "0     1       0.0532        0.0745               0.0     0.093    0.727   \n",
       "1     0       0.1080        0.1630               0.0     0.368    0.120   \n",
       "\n",
       "    tempo                      id                                   uri  \\\n",
       "0  81.011  1qCLx3nX25NuhfPjM5E1qV  spotify:track:1qCLx3nX25NuhfPjM5E1qV   \n",
       "1  77.271  6Kj17Afjo1OKJYpf5VzCeo  spotify:track:6Kj17Afjo1OKJYpf5VzCeo   \n",
       "\n",
       "                                          track_href  \\\n",
       "0  https://api.spotify.com/v1/tracks/1qCLx3nX25Nu...   \n",
       "1  https://api.spotify.com/v1/tracks/6Kj17Afjo1OK...   \n",
       "\n",
       "                                        analysis_url  duration_ms  \\\n",
       "0  https://api.spotify.com/v1/audio-analysis/1qCL...       210889   \n",
       "1  https://api.spotify.com/v1/audio-analysis/6Kj1...       149078   \n",
       "\n",
       "   time_signature  \n",
       "0               4  \n",
       "1               4  "
      ]
     },
     "execution_count": 51,
     "metadata": {},
     "output_type": "execute_result"
    }
   ],
   "source": [
    "dados = pd.read_excel('streaming_history.xlsx')\n",
    "dados.head(2)"
   ]
  },
  {
   "cell_type": "code",
   "execution_count": 35,
   "metadata": {},
   "outputs": [
    {
     "data": {
      "text/html": [
       "<div>\n",
       "<style scoped>\n",
       "    .dataframe tbody tr th:only-of-type {\n",
       "        vertical-align: middle;\n",
       "    }\n",
       "\n",
       "    .dataframe tbody tr th {\n",
       "        vertical-align: top;\n",
       "    }\n",
       "\n",
       "    .dataframe thead th {\n",
       "        text-align: right;\n",
       "    }\n",
       "</style>\n",
       "<table border=\"1\" class=\"dataframe\">\n",
       "  <thead>\n",
       "    <tr style=\"text-align: right;\">\n",
       "      <th></th>\n",
       "      <th>name</th>\n",
       "      <th>like</th>\n",
       "      <th>danceability</th>\n",
       "      <th>energy</th>\n",
       "      <th>key</th>\n",
       "      <th>loudness</th>\n",
       "      <th>mode</th>\n",
       "      <th>speechiness</th>\n",
       "      <th>acousticness</th>\n",
       "      <th>instrumentalness</th>\n",
       "      <th>liveness</th>\n",
       "      <th>valence</th>\n",
       "      <th>tempo</th>\n",
       "      <th>id</th>\n",
       "      <th>uri</th>\n",
       "      <th>track_href</th>\n",
       "      <th>analysis_url</th>\n",
       "      <th>duration_ms</th>\n",
       "      <th>time_signature</th>\n",
       "    </tr>\n",
       "  </thead>\n",
       "  <tbody>\n",
       "    <tr>\n",
       "      <th>0</th>\n",
       "      <td>Ouvi Dizer</td>\n",
       "      <td>like</td>\n",
       "      <td>0.641</td>\n",
       "      <td>0.614</td>\n",
       "      <td>7</td>\n",
       "      <td>-7.847</td>\n",
       "      <td>1</td>\n",
       "      <td>0.0532</td>\n",
       "      <td>0.0745</td>\n",
       "      <td>0.000000</td>\n",
       "      <td>0.093</td>\n",
       "      <td>0.727</td>\n",
       "      <td>81.011</td>\n",
       "      <td>1qCLx3nX25NuhfPjM5E1qV</td>\n",
       "      <td>spotify:track:1qCLx3nX25NuhfPjM5E1qV</td>\n",
       "      <td>https://api.spotify.com/v1/tracks/1qCLx3nX25Nu...</td>\n",
       "      <td>https://api.spotify.com/v1/audio-analysis/1qCL...</td>\n",
       "      <td>210889</td>\n",
       "      <td>4</td>\n",
       "    </tr>\n",
       "    <tr>\n",
       "      <th>1</th>\n",
       "      <td>Pain 1993 (with Playboi Carti)</td>\n",
       "      <td>hate</td>\n",
       "      <td>0.825</td>\n",
       "      <td>0.373</td>\n",
       "      <td>5</td>\n",
       "      <td>-5.532</td>\n",
       "      <td>0</td>\n",
       "      <td>0.1080</td>\n",
       "      <td>0.1630</td>\n",
       "      <td>0.000000</td>\n",
       "      <td>0.368</td>\n",
       "      <td>0.120</td>\n",
       "      <td>77.271</td>\n",
       "      <td>6Kj17Afjo1OKJYpf5VzCeo</td>\n",
       "      <td>spotify:track:6Kj17Afjo1OKJYpf5VzCeo</td>\n",
       "      <td>https://api.spotify.com/v1/tracks/6Kj17Afjo1OK...</td>\n",
       "      <td>https://api.spotify.com/v1/audio-analysis/6Kj1...</td>\n",
       "      <td>149078</td>\n",
       "      <td>4</td>\n",
       "    </tr>\n",
       "    <tr>\n",
       "      <th>2</th>\n",
       "      <td>Sentimento Bom</td>\n",
       "      <td>hate</td>\n",
       "      <td>0.780</td>\n",
       "      <td>0.607</td>\n",
       "      <td>9</td>\n",
       "      <td>-6.440</td>\n",
       "      <td>1</td>\n",
       "      <td>0.0864</td>\n",
       "      <td>0.2060</td>\n",
       "      <td>0.000016</td>\n",
       "      <td>0.440</td>\n",
       "      <td>0.732</td>\n",
       "      <td>130.076</td>\n",
       "      <td>0vyKzl0o1lem1sHg5wXgSD</td>\n",
       "      <td>spotify:track:0vyKzl0o1lem1sHg5wXgSD</td>\n",
       "      <td>https://api.spotify.com/v1/tracks/0vyKzl0o1lem...</td>\n",
       "      <td>https://api.spotify.com/v1/audio-analysis/0vyK...</td>\n",
       "      <td>241813</td>\n",
       "      <td>4</td>\n",
       "    </tr>\n",
       "    <tr>\n",
       "      <th>3</th>\n",
       "      <td>All Star</td>\n",
       "      <td>love</td>\n",
       "      <td>0.512</td>\n",
       "      <td>0.391</td>\n",
       "      <td>9</td>\n",
       "      <td>-10.400</td>\n",
       "      <td>1</td>\n",
       "      <td>0.0492</td>\n",
       "      <td>0.8890</td>\n",
       "      <td>0.000003</td>\n",
       "      <td>0.714</td>\n",
       "      <td>0.277</td>\n",
       "      <td>138.094</td>\n",
       "      <td>3g5FrnRdbmDQyWNiDIprts</td>\n",
       "      <td>spotify:track:3g5FrnRdbmDQyWNiDIprts</td>\n",
       "      <td>https://api.spotify.com/v1/tracks/3g5FrnRdbmDQ...</td>\n",
       "      <td>https://api.spotify.com/v1/audio-analysis/3g5F...</td>\n",
       "      <td>233613</td>\n",
       "      <td>4</td>\n",
       "    </tr>\n",
       "    <tr>\n",
       "      <th>4</th>\n",
       "      <td>Contrato de RenovaÃ§Ã£o - Ao Vivo</td>\n",
       "      <td>like</td>\n",
       "      <td>0.577</td>\n",
       "      <td>0.752</td>\n",
       "      <td>9</td>\n",
       "      <td>-7.447</td>\n",
       "      <td>1</td>\n",
       "      <td>0.0654</td>\n",
       "      <td>0.7290</td>\n",
       "      <td>0.000000</td>\n",
       "      <td>0.929</td>\n",
       "      <td>0.844</td>\n",
       "      <td>90.213</td>\n",
       "      <td>4C2eQoWJ1pkAFiZ0CDQ3Gt</td>\n",
       "      <td>spotify:track:4C2eQoWJ1pkAFiZ0CDQ3Gt</td>\n",
       "      <td>https://api.spotify.com/v1/tracks/4C2eQoWJ1pkA...</td>\n",
       "      <td>https://api.spotify.com/v1/audio-analysis/4C2e...</td>\n",
       "      <td>226951</td>\n",
       "      <td>4</td>\n",
       "    </tr>\n",
       "    <tr>\n",
       "      <th>...</th>\n",
       "      <td>...</td>\n",
       "      <td>...</td>\n",
       "      <td>...</td>\n",
       "      <td>...</td>\n",
       "      <td>...</td>\n",
       "      <td>...</td>\n",
       "      <td>...</td>\n",
       "      <td>...</td>\n",
       "      <td>...</td>\n",
       "      <td>...</td>\n",
       "      <td>...</td>\n",
       "      <td>...</td>\n",
       "      <td>...</td>\n",
       "      <td>...</td>\n",
       "      <td>...</td>\n",
       "      <td>...</td>\n",
       "      <td>...</td>\n",
       "      <td>...</td>\n",
       "      <td>...</td>\n",
       "    </tr>\n",
       "    <tr>\n",
       "      <th>795</th>\n",
       "      <td>Birds (feat. Elisa)</td>\n",
       "      <td>love</td>\n",
       "      <td>0.627</td>\n",
       "      <td>0.527</td>\n",
       "      <td>1</td>\n",
       "      <td>-7.012</td>\n",
       "      <td>0</td>\n",
       "      <td>0.0294</td>\n",
       "      <td>0.0219</td>\n",
       "      <td>0.000000</td>\n",
       "      <td>0.160</td>\n",
       "      <td>0.293</td>\n",
       "      <td>119.995</td>\n",
       "      <td>2uZVfvOK7MTjBTRICYmpso</td>\n",
       "      <td>spotify:track:2uZVfvOK7MTjBTRICYmpso</td>\n",
       "      <td>https://api.spotify.com/v1/tracks/2uZVfvOK7MTj...</td>\n",
       "      <td>https://api.spotify.com/v1/audio-analysis/2uZV...</td>\n",
       "      <td>219435</td>\n",
       "      <td>4</td>\n",
       "    </tr>\n",
       "    <tr>\n",
       "      <th>796</th>\n",
       "      <td>Apesar De VocÃª</td>\n",
       "      <td>like</td>\n",
       "      <td>0.568</td>\n",
       "      <td>0.574</td>\n",
       "      <td>4</td>\n",
       "      <td>-8.993</td>\n",
       "      <td>0</td>\n",
       "      <td>0.0683</td>\n",
       "      <td>0.4680</td>\n",
       "      <td>0.000000</td>\n",
       "      <td>0.362</td>\n",
       "      <td>0.680</td>\n",
       "      <td>107.821</td>\n",
       "      <td>2GAFZG9Z7UGS1iMm4Idrnr</td>\n",
       "      <td>spotify:track:2GAFZG9Z7UGS1iMm4Idrnr</td>\n",
       "      <td>https://api.spotify.com/v1/tracks/2GAFZG9Z7UGS...</td>\n",
       "      <td>https://api.spotify.com/v1/audio-analysis/2GAF...</td>\n",
       "      <td>235547</td>\n",
       "      <td>4</td>\n",
       "    </tr>\n",
       "    <tr>\n",
       "      <th>797</th>\n",
       "      <td>Eu Quero SÃ³ VocÃª - Ao Vivo</td>\n",
       "      <td>love</td>\n",
       "      <td>0.544</td>\n",
       "      <td>0.867</td>\n",
       "      <td>0</td>\n",
       "      <td>-4.790</td>\n",
       "      <td>1</td>\n",
       "      <td>0.0427</td>\n",
       "      <td>0.5710</td>\n",
       "      <td>0.000000</td>\n",
       "      <td>0.962</td>\n",
       "      <td>0.356</td>\n",
       "      <td>94.411</td>\n",
       "      <td>6bhZdLajNDDiW88gRc7Pj2</td>\n",
       "      <td>spotify:track:6bhZdLajNDDiW88gRc7Pj2</td>\n",
       "      <td>https://api.spotify.com/v1/tracks/6bhZdLajNDDi...</td>\n",
       "      <td>https://api.spotify.com/v1/audio-analysis/6bhZ...</td>\n",
       "      <td>191720</td>\n",
       "      <td>4</td>\n",
       "    </tr>\n",
       "    <tr>\n",
       "      <th>798</th>\n",
       "      <td>Mr. Jones</td>\n",
       "      <td>hate</td>\n",
       "      <td>0.578</td>\n",
       "      <td>0.817</td>\n",
       "      <td>0</td>\n",
       "      <td>-6.542</td>\n",
       "      <td>1</td>\n",
       "      <td>0.0363</td>\n",
       "      <td>0.1830</td>\n",
       "      <td>0.000003</td>\n",
       "      <td>0.285</td>\n",
       "      <td>0.726</td>\n",
       "      <td>141.621</td>\n",
       "      <td>5DiXcVovI0FcY2s0icWWUu</td>\n",
       "      <td>spotify:track:5DiXcVovI0FcY2s0icWWUu</td>\n",
       "      <td>https://api.spotify.com/v1/tracks/5DiXcVovI0Fc...</td>\n",
       "      <td>https://api.spotify.com/v1/audio-analysis/5DiX...</td>\n",
       "      <td>272293</td>\n",
       "      <td>4</td>\n",
       "    </tr>\n",
       "    <tr>\n",
       "      <th>799</th>\n",
       "      <td>Letting Go</td>\n",
       "      <td>like</td>\n",
       "      <td>0.716</td>\n",
       "      <td>0.890</td>\n",
       "      <td>8</td>\n",
       "      <td>-5.399</td>\n",
       "      <td>0</td>\n",
       "      <td>0.0375</td>\n",
       "      <td>0.0206</td>\n",
       "      <td>0.000000</td>\n",
       "      <td>0.235</td>\n",
       "      <td>0.556</td>\n",
       "      <td>125.016</td>\n",
       "      <td>2BvwE4nDTTgxM38jATfROo</td>\n",
       "      <td>spotify:track:2BvwE4nDTTgxM38jATfROo</td>\n",
       "      <td>https://api.spotify.com/v1/tracks/2BvwE4nDTTgx...</td>\n",
       "      <td>https://api.spotify.com/v1/audio-analysis/2Bvw...</td>\n",
       "      <td>193920</td>\n",
       "      <td>4</td>\n",
       "    </tr>\n",
       "  </tbody>\n",
       "</table>\n",
       "<p>800 rows × 19 columns</p>\n",
       "</div>"
      ],
      "text/plain": [
       "                                  name  like  danceability  energy  key  \\\n",
       "0                           Ouvi Dizer  like         0.641   0.614    7   \n",
       "1       Pain 1993 (with Playboi Carti)  hate         0.825   0.373    5   \n",
       "2                       Sentimento Bom  hate         0.780   0.607    9   \n",
       "3                             All Star  love         0.512   0.391    9   \n",
       "4    Contrato de RenovaÃ§Ã£o - Ao Vivo  like         0.577   0.752    9   \n",
       "..                                 ...   ...           ...     ...  ...   \n",
       "795                Birds (feat. Elisa)  love         0.627   0.527    1   \n",
       "796                    Apesar De VocÃª  like         0.568   0.574    4   \n",
       "797       Eu Quero SÃ³ VocÃª - Ao Vivo  love         0.544   0.867    0   \n",
       "798                          Mr. Jones  hate         0.578   0.817    0   \n",
       "799                         Letting Go  like         0.716   0.890    8   \n",
       "\n",
       "     loudness  mode  speechiness  acousticness  instrumentalness  liveness  \\\n",
       "0      -7.847     1       0.0532        0.0745          0.000000     0.093   \n",
       "1      -5.532     0       0.1080        0.1630          0.000000     0.368   \n",
       "2      -6.440     1       0.0864        0.2060          0.000016     0.440   \n",
       "3     -10.400     1       0.0492        0.8890          0.000003     0.714   \n",
       "4      -7.447     1       0.0654        0.7290          0.000000     0.929   \n",
       "..        ...   ...          ...           ...               ...       ...   \n",
       "795    -7.012     0       0.0294        0.0219          0.000000     0.160   \n",
       "796    -8.993     0       0.0683        0.4680          0.000000     0.362   \n",
       "797    -4.790     1       0.0427        0.5710          0.000000     0.962   \n",
       "798    -6.542     1       0.0363        0.1830          0.000003     0.285   \n",
       "799    -5.399     0       0.0375        0.0206          0.000000     0.235   \n",
       "\n",
       "     valence    tempo                      id  \\\n",
       "0      0.727   81.011  1qCLx3nX25NuhfPjM5E1qV   \n",
       "1      0.120   77.271  6Kj17Afjo1OKJYpf5VzCeo   \n",
       "2      0.732  130.076  0vyKzl0o1lem1sHg5wXgSD   \n",
       "3      0.277  138.094  3g5FrnRdbmDQyWNiDIprts   \n",
       "4      0.844   90.213  4C2eQoWJ1pkAFiZ0CDQ3Gt   \n",
       "..       ...      ...                     ...   \n",
       "795    0.293  119.995  2uZVfvOK7MTjBTRICYmpso   \n",
       "796    0.680  107.821  2GAFZG9Z7UGS1iMm4Idrnr   \n",
       "797    0.356   94.411  6bhZdLajNDDiW88gRc7Pj2   \n",
       "798    0.726  141.621  5DiXcVovI0FcY2s0icWWUu   \n",
       "799    0.556  125.016  2BvwE4nDTTgxM38jATfROo   \n",
       "\n",
       "                                      uri  \\\n",
       "0    spotify:track:1qCLx3nX25NuhfPjM5E1qV   \n",
       "1    spotify:track:6Kj17Afjo1OKJYpf5VzCeo   \n",
       "2    spotify:track:0vyKzl0o1lem1sHg5wXgSD   \n",
       "3    spotify:track:3g5FrnRdbmDQyWNiDIprts   \n",
       "4    spotify:track:4C2eQoWJ1pkAFiZ0CDQ3Gt   \n",
       "..                                    ...   \n",
       "795  spotify:track:2uZVfvOK7MTjBTRICYmpso   \n",
       "796  spotify:track:2GAFZG9Z7UGS1iMm4Idrnr   \n",
       "797  spotify:track:6bhZdLajNDDiW88gRc7Pj2   \n",
       "798  spotify:track:5DiXcVovI0FcY2s0icWWUu   \n",
       "799  spotify:track:2BvwE4nDTTgxM38jATfROo   \n",
       "\n",
       "                                            track_href  \\\n",
       "0    https://api.spotify.com/v1/tracks/1qCLx3nX25Nu...   \n",
       "1    https://api.spotify.com/v1/tracks/6Kj17Afjo1OK...   \n",
       "2    https://api.spotify.com/v1/tracks/0vyKzl0o1lem...   \n",
       "3    https://api.spotify.com/v1/tracks/3g5FrnRdbmDQ...   \n",
       "4    https://api.spotify.com/v1/tracks/4C2eQoWJ1pkA...   \n",
       "..                                                 ...   \n",
       "795  https://api.spotify.com/v1/tracks/2uZVfvOK7MTj...   \n",
       "796  https://api.spotify.com/v1/tracks/2GAFZG9Z7UGS...   \n",
       "797  https://api.spotify.com/v1/tracks/6bhZdLajNDDi...   \n",
       "798  https://api.spotify.com/v1/tracks/5DiXcVovI0Fc...   \n",
       "799  https://api.spotify.com/v1/tracks/2BvwE4nDTTgx...   \n",
       "\n",
       "                                          analysis_url  duration_ms  \\\n",
       "0    https://api.spotify.com/v1/audio-analysis/1qCL...       210889   \n",
       "1    https://api.spotify.com/v1/audio-analysis/6Kj1...       149078   \n",
       "2    https://api.spotify.com/v1/audio-analysis/0vyK...       241813   \n",
       "3    https://api.spotify.com/v1/audio-analysis/3g5F...       233613   \n",
       "4    https://api.spotify.com/v1/audio-analysis/4C2e...       226951   \n",
       "..                                                 ...          ...   \n",
       "795  https://api.spotify.com/v1/audio-analysis/2uZV...       219435   \n",
       "796  https://api.spotify.com/v1/audio-analysis/2GAF...       235547   \n",
       "797  https://api.spotify.com/v1/audio-analysis/6bhZ...       191720   \n",
       "798  https://api.spotify.com/v1/audio-analysis/5DiX...       272293   \n",
       "799  https://api.spotify.com/v1/audio-analysis/2Bvw...       193920   \n",
       "\n",
       "     time_signature  \n",
       "0                 4  \n",
       "1                 4  \n",
       "2                 4  \n",
       "3                 4  \n",
       "4                 4  \n",
       "..              ...  \n",
       "795               4  \n",
       "796               4  \n",
       "797               4  \n",
       "798               4  \n",
       "799               4  \n",
       "\n",
       "[800 rows x 19 columns]"
      ]
     },
     "execution_count": 35,
     "metadata": {},
     "output_type": "execute_result"
    }
   ],
   "source": [
    "# Transformando variável quantitativa em qualitativa \n",
    "dados.loc[:,'like'] = dados['like'].astype('category')\n",
    "dados.like.cat.categories = ['hate', 'like', 'love']\n",
    "dados"
   ]
  },
  {
   "cell_type": "code",
   "execution_count": 36,
   "metadata": {},
   "outputs": [
    {
     "data": {
      "text/plain": [
       "love    355\n",
       "like    284\n",
       "hate    161\n",
       "Name: like, dtype: int64"
      ]
     },
     "execution_count": 36,
     "metadata": {},
     "output_type": "execute_result"
    }
   ],
   "source": [
    "dados.like.value_counts()"
   ]
  },
  {
   "cell_type": "markdown",
   "metadata": {},
   "source": [
    "## Análise Inicial:"
   ]
  },
  {
   "cell_type": "code",
   "execution_count": 37,
   "metadata": {},
   "outputs": [],
   "source": [
    "hate = dados.loc[dados['like'] == 'hate', :]\n",
    "like = dados.loc[dados['like'] == 'like', :]\n",
    "love = dados.loc[dados['like'] == 'love', :]"
   ]
  },
  {
   "cell_type": "code",
   "execution_count": 38,
   "metadata": {},
   "outputs": [],
   "source": [
    "# Função que cria faixas de valores para histogramas\n",
    "def CriaFaixa(lista):\n",
    "    a = lista.min()\n",
    "    b = lista.max()\n",
    "    passo = (b-a)/10\n",
    "    faixa = list(np.arange(a,b,passo))\n",
    "    return faixa"
   ]
  },
  {
   "cell_type": "markdown",
   "metadata": {},
   "source": [
    "### Histogramas Comparativos:"
   ]
  },
  {
   "cell_type": "code",
   "execution_count": 39,
   "metadata": {},
   "outputs": [
    {
     "data": {
      "text/plain": [
       "Text(0, 0.5, 'frequency')"
      ]
     },
     "execution_count": 39,
     "metadata": {},
     "output_type": "execute_result"
    },
    {
     "data": {
      "image/png": "[encoded data removed]",
      "text/plain": [
       "<Figure size 1080x360 with 3 Axes>"
      ]
     },
     "metadata": {
      "needs_background": "light"
     },
     "output_type": "display_data"
    }
   ],
   "source": [
    "# Danceability\n",
    "f, axs = plt.subplots(2,2,figsize=(15,5))\n",
    "\n",
    "plt.subplot(1, 3, 1)\n",
    "plt.hist(hate.danceability, bins=CriaFaixa(hate.danceability), density=True)\n",
    "plt.title('Hate')\n",
    "plt.xlabel('danceability')\n",
    "plt.ylabel('frequency')\n",
    "\n",
    "plt.subplot(1, 3, 2)\n",
    "plt.hist(like.danceability, bins=CriaFaixa(like.danceability), density=True)\n",
    "plt.title('Like')\n",
    "plt.xlabel('danceability')\n",
    "plt.ylabel('frequency')\n",
    "\n",
    "plt.subplot(1, 3, 3)\n",
    "plt.hist(love.danceability, bins=CriaFaixa(love.danceability), density=True)\n",
    "plt.title('Love')\n",
    "plt.xlabel('danceability')\n",
    "plt.ylabel('frequency')"
   ]
  },
  {
   "cell_type": "code",
   "execution_count": 41,
   "metadata": {},
   "outputs": [
    {
     "data": {
      "text/plain": [
       "Text(0, 0.5, 'frequency')"
      ]
     },
     "execution_count": 41,
     "metadata": {},
     "output_type": "execute_result"
    },
    {
     "data": {
      "image/png": "[encoded data removed]",
      "text/plain": [
       "<Figure size 1080x360 with 3 Axes>"
      ]
     },
     "metadata": {
      "needs_background": "light"
     },
     "output_type": "display_data"
    }
   ],
   "source": [
    "# Energy\n",
    "f, axs = plt.subplots(2,2,figsize=(15,5))\n",
    "\n",
    "plt.subplot(1, 3, 1)\n",
    "plt.hist(hate.energy, bins=CriaFaixa(hate.energy), density=True)\n",
    "plt.title('Hate')\n",
    "plt.xlabel('energy')\n",
    "plt.ylabel('frequency')\n",
    "\n",
    "plt.subplot(1, 3, 2)\n",
    "plt.hist(like.energy, bins=CriaFaixa(like.energy), density=True)\n",
    "plt.title('Like')\n",
    "plt.xlabel('energy')\n",
    "plt.ylabel('frequency')\n",
    "\n",
    "plt.subplot(1, 3, 3)\n",
    "plt.hist(love.energy, bins=CriaFaixa(love.energy), density=True)\n",
    "plt.title('Love')\n",
    "plt.xlabel('energy')\n",
    "plt.ylabel('frequency')"
   ]
  },
  {
   "cell_type": "code",
   "execution_count": 43,
   "metadata": {},
   "outputs": [
    {
     "data": {
      "text/plain": [
       "Text(0, 0.5, 'frequency')"
      ]
     },
     "execution_count": 43,
     "metadata": {},
     "output_type": "execute_result"
    },
    {
     "data": {
      "image/png": "[encoded data removed]",
      "text/plain": [
       "<Figure size 1080x360 with 3 Axes>"
      ]
     },
     "metadata": {
      "needs_background": "light"
     },
     "output_type": "display_data"
    }
   ],
   "source": [
    "# Key\n",
    "f, axs = plt.subplots(2,2,figsize=(15,5))\n",
    "\n",
    "plt.subplot(1, 3, 1)\n",
    "plt.hist(hate.key, bins=CriaFaixa(hate.key), density=True)\n",
    "plt.title('Hate')\n",
    "plt.xlabel('key')\n",
    "plt.ylabel('frequency')\n",
    "\n",
    "plt.subplot(1, 3, 2)\n",
    "plt.hist(like.key, bins=CriaFaixa(like.key), density=True)\n",
    "plt.title('Like')\n",
    "plt.xlabel('key')\n",
    "plt.ylabel('frequency')\n",
    "\n",
    "plt.subplot(1, 3, 3)\n",
    "plt.hist(love.key, bins=CriaFaixa(love.key), density=True)\n",
    "plt.title('Love')\n",
    "plt.xlabel('key')\n",
    "plt.ylabel('frequency')"
   ]
  },
  {
   "cell_type": "code",
   "execution_count": 42,
   "metadata": {},
   "outputs": [
    {
     "data": {
      "text/plain": [
       "Text(0, 0.5, 'frequency')"
      ]
     },
     "execution_count": 42,
     "metadata": {},
     "output_type": "execute_result"
    },
    {
     "data": {
      "image/png": "[encoded data removed]",
      "text/plain": [
       "<Figure size 1080x360 with 3 Axes>"
      ]
     },
     "metadata": {
      "needs_background": "light"
     },
     "output_type": "display_data"
    }
   ],
   "source": [
    "# Loudness\n",
    "f, axs = plt.subplots(2,2,figsize=(15,5))\n",
    "\n",
    "plt.subplot(1, 3, 1)\n",
    "plt.hist(hate.loudness, bins=CriaFaixa(hate.loudness), density=True)\n",
    "plt.title('Hate')\n",
    "plt.xlabel('loudness')\n",
    "plt.ylabel('frequency')\n",
    "\n",
    "plt.subplot(1, 3, 2)\n",
    "plt.hist(like.loudness, bins=CriaFaixa(like.loudness), density=True)\n",
    "plt.title('Like')\n",
    "plt.xlabel('loudness')\n",
    "plt.ylabel('frequency')\n",
    "\n",
    "plt.subplot(1, 3, 3)\n",
    "plt.hist(love.loudness, bins=CriaFaixa(love.loudness), density=True)\n",
    "plt.title('Love')\n",
    "plt.xlabel('loudness')\n",
    "plt.ylabel('frequency')"
   ]
  },
  {
   "cell_type": "code",
   "execution_count": 46,
   "metadata": {},
   "outputs": [
    {
     "data": {
      "text/plain": [
       "Text(0, 0.5, 'frequency')"
      ]
     },
     "execution_count": 46,
     "metadata": {},
     "output_type": "execute_result"
    },
    {
     "data": {
      "image/png": "[encoded data removed]",
      "text/plain": [
       "<Figure size 1080x360 with 3 Axes>"
      ]
     },
     "metadata": {
      "needs_background": "light"
     },
     "output_type": "display_data"
    }
   ],
   "source": [
    "# Speechiness\n",
    "f, axs = plt.subplots(2,2,figsize=(15,5))\n",
    "\n",
    "plt.subplot(1, 3, 1)\n",
    "plt.hist(hate.speechiness, bins=CriaFaixa(hate.speechiness), density=True)\n",
    "plt.title('Hate')\n",
    "plt.xlabel('speechiness')\n",
    "plt.ylabel('frequency')\n",
    "\n",
    "plt.subplot(1, 3, 2)\n",
    "plt.hist(like.speechiness, bins=CriaFaixa(like.speechiness), density=True)\n",
    "plt.title('Like')\n",
    "plt.xlabel('speechiness')\n",
    "plt.ylabel('frequency')\n",
    "\n",
    "plt.subplot(1, 3, 3)\n",
    "plt.hist(love.speechiness, bins=CriaFaixa(love.speechiness), density=True)\n",
    "plt.title('Love')\n",
    "plt.xlabel('speechiness')\n",
    "plt.ylabel('frequency')"
   ]
  },
  {
   "cell_type": "code",
   "execution_count": 47,
   "metadata": {},
   "outputs": [
    {
     "data": {
      "text/plain": [
       "Text(0, 0.5, 'frequency')"
      ]
     },
     "execution_count": 47,
     "metadata": {},
     "output_type": "execute_result"
    },
    {
     "data": {
      "image/png": "[encoded data removed]",
      "text/plain": [
       "<Figure size 1080x360 with 3 Axes>"
      ]
     },
     "metadata": {
      "needs_background": "light"
     },
     "output_type": "display_data"
    }
   ],
   "source": [
    "# Acousticness\n",
    "f, axs = plt.subplots(2,2,figsize=(15,5))\n",
    "\n",
    "plt.subplot(1, 3, 1)\n",
    "plt.hist(hate.acousticness, bins=CriaFaixa(hate.acousticness), density=True)\n",
    "plt.title('Hate')\n",
    "plt.xlabel('acousticness')\n",
    "plt.ylabel('frequency')\n",
    "\n",
    "plt.subplot(1, 3, 2)\n",
    "plt.hist(like.acousticness, bins=CriaFaixa(like.acousticness), density=True)\n",
    "plt.title('Like')\n",
    "plt.xlabel('acousticness')\n",
    "plt.ylabel('frequency')\n",
    "\n",
    "plt.subplot(1, 3, 3)\n",
    "plt.hist(love.acousticness, bins=CriaFaixa(love.acousticness), density=True)\n",
    "plt.title('Love')\n",
    "plt.xlabel('acousticness')\n",
    "plt.ylabel('frequency')"
   ]
  },
  {
   "cell_type": "code",
   "execution_count": 48,
   "metadata": {},
   "outputs": [
    {
     "data": {
      "text/plain": [
       "Text(0, 0.5, 'frequency')"
      ]
     },
     "execution_count": 48,
     "metadata": {},
     "output_type": "execute_result"
    },
    {
     "data": {
      "image/png": "[encoded data removed]",
      "text/plain": [
       "<Figure size 1080x360 with 3 Axes>"
      ]
     },
     "metadata": {
      "needs_background": "light"
     },
     "output_type": "display_data"
    }
   ],
   "source": [
    "# Instrumentalness\n",
    "f, axs = plt.subplots(2,2,figsize=(15,5))\n",
    "\n",
    "plt.subplot(1, 3, 1)\n",
    "plt.hist(hate.instrumentalness, bins=CriaFaixa(hate.instrumentalness), density=True)\n",
    "plt.title('Hate')\n",
    "plt.xlabel('instrumentalness')\n",
    "plt.ylabel('frequency')\n",
    "\n",
    "plt.subplot(1, 3, 2)\n",
    "plt.hist(like.instrumentalness, bins=CriaFaixa(like.instrumentalness), density=True)\n",
    "plt.title('Like')\n",
    "plt.xlabel('instrumentalness')\n",
    "plt.ylabel('frequency')\n",
    "\n",
    "plt.subplot(1, 3, 3)\n",
    "plt.hist(love.instrumentalness, bins=CriaFaixa(love.instrumentalness), density=True)\n",
    "plt.title('Love')\n",
    "plt.xlabel('instrumentalness')\n",
    "plt.ylabel('frequency')"
   ]
  },
  {
   "cell_type": "code",
   "execution_count": 49,
   "metadata": {},
   "outputs": [
    {
     "data": {
      "text/plain": [
       "Text(0, 0.5, 'frequency')"
      ]
     },
     "execution_count": 49,
     "metadata": {},
     "output_type": "execute_result"
    },
    {
     "data": {
      "image/png": "[encoded data removed]",
      "text/plain": [
       "<Figure size 1080x360 with 3 Axes>"
      ]
     },
     "metadata": {
      "needs_background": "light"
     },
     "output_type": "display_data"
    }
   ],
   "source": [
    "# Valence\n",
    "f, axs = plt.subplots(2,2,figsize=(15,5))\n",
    "\n",
    "plt.subplot(1, 3, 1)\n",
    "plt.hist(hate.valence, bins=CriaFaixa(hate.valence), density=True)\n",
    "plt.title('Hate')\n",
    "plt.xlabel('valence')\n",
    "plt.ylabel('frequency')\n",
    "\n",
    "plt.subplot(1, 3, 2)\n",
    "plt.hist(like.valence, bins=CriaFaixa(like.valence), density=True)\n",
    "plt.title('Like')\n",
    "plt.xlabel('valence')\n",
    "plt.ylabel('frequency')\n",
    "\n",
    "plt.subplot(1, 3, 3)\n",
    "plt.hist(love.valence, bins=CriaFaixa(love.valence), density=True)\n",
    "plt.title('Love')\n",
    "plt.xlabel('valence')\n",
    "plt.ylabel('frequency')"
   ]
  },
  {
   "cell_type": "code",
   "execution_count": 50,
   "metadata": {},
   "outputs": [
    {
     "data": {
      "text/plain": [
       "Text(0, 0.5, 'frequency')"
      ]
     },
     "execution_count": 50,
     "metadata": {},
     "output_type": "execute_result"
    },
    {
     "data": {
      "image/png": "[encoded data removed]",
      "text/plain": [
       "<Figure size 1080x360 with 3 Axes>"
      ]
     },
     "metadata": {
      "needs_background": "light"
     },
     "output_type": "display_data"
    }
   ],
   "source": [
    "# Tempo\n",
    "f, axs = plt.subplots(2,2,figsize=(15,5))\n",
    "\n",
    "plt.subplot(1, 3, 1)\n",
    "plt.hist(hate.tempo, bins=CriaFaixa(hate.tempo), density=True)\n",
    "plt.title('Hate')\n",
    "plt.xlabel('tempo')\n",
    "plt.ylabel('frequency')\n",
    "\n",
    "plt.subplot(1, 3, 2)\n",
    "plt.hist(like.tempo, bins=CriaFaixa(like.tempo), density=True)\n",
    "plt.title('Like')\n",
    "plt.xlabel('tempo')\n",
    "plt.ylabel('frequency')\n",
    "\n",
    "plt.subplot(1, 3, 3)\n",
    "plt.hist(love.tempo, bins=CriaFaixa(love.tempo), density=True)\n",
    "plt.title('Love')\n",
    "plt.xlabel('tempo')\n",
    "plt.ylabel('frequency')"
   ]
  },
  {
   "cell_type": "code",
   "execution_count": 52,
   "metadata": {},
   "outputs": [
    {
     "data": {
      "text/plain": [
       "Text(0, 0.5, 'frequency')"
      ]
     },
     "execution_count": 52,
     "metadata": {},
     "output_type": "execute_result"
    },
    {
     "data": {
      "image/png": "[encoded data removed]",
      "text/plain": [
       "<Figure size 1080x360 with 3 Axes>"
      ]
     },
     "metadata": {
      "needs_background": "light"
     },
     "output_type": "display_data"
    }
   ],
   "source": [
    "# Duration_ms\n",
    "f, axs = plt.subplots(2,2,figsize=(15,5))\n",
    "\n",
    "plt.subplot(1, 3, 1)\n",
    "plt.hist(hate.duration_ms, bins=CriaFaixa(hate.duration_ms), density=True)\n",
    "plt.title('Hate')\n",
    "plt.xlabel('duration_ms')\n",
    "plt.ylabel('frequency')\n",
    "\n",
    "plt.subplot(1, 3, 2)\n",
    "plt.hist(like.duration_ms, bins=CriaFaixa(like.duration_ms), density=True)\n",
    "plt.title('Like')\n",
    "plt.xlabel('duration_ms')\n",
    "plt.ylabel('frequency')\n",
    "\n",
    "plt.subplot(1, 3, 3)\n",
    "plt.hist(love.duration_ms, bins=CriaFaixa(love.duration_ms), density=True)\n",
    "plt.title('Love')\n",
    "plt.xlabel('duration_ms')\n",
    "plt.ylabel('frequency')"
   ]
  },
  {
   "cell_type": "code",
   "execution_count": null,
   "metadata": {},
   "outputs": [],
   "source": []
  }
 ],
 "metadata": {
  "kernelspec": {
   "display_name": "Python 3",
   "language": "python",
   "name": "python3"
  },
  "language_info": {
   "codemirror_mode": {
    "name": "ipython",
    "version": 3
   },
   "file_extension": ".py",
   "mimetype": "text/x-python",
   "name": "python",
   "nbconvert_exporter": "python",
   "pygments_lexer": "ipython3",
   "version": "3.7.2"
  }
 },
 "nbformat": 4,
 "nbformat_minor": 4
}
