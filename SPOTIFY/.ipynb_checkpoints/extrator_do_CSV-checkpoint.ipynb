{
 "cells": [
  {
   "cell_type": "markdown",
   "metadata": {},
   "source": [
    "# Obtendo Histórico de Músicas do Leonardo:"
   ]
  },
  {
   "cell_type": "code",
   "execution_count": 1,
   "metadata": {},
   "outputs": [],
   "source": [
    "# Importando Bibliotecas\n",
    "import requests\n",
    "import datetime\n",
    "import spotipy\n",
    "import spotipy.util as util\n",
    "import ast\n",
    "from typing import List\n",
    "from os import listdir"
   ]
  },
  {
   "cell_type": "code",
   "execution_count": 2,
   "metadata": {},
   "outputs": [
    {
     "data": {
      "text/plain": [
       "'BQDO0Em8MUBwkdSzIH3q-NHN434LKMn0p9YvuLhvUZUmySWLSftQZxV9iL8yyRdMYzy73WIcN9QQmzZwOu01QitUMfPSzCmIDFawQUCC2tie270Rla8Bud_AggKQfS8R6y7W4_XdfOAa-rIL-Di8zWTA0pw-Y-6o'"
      ]
     },
     "execution_count": 2,
     "metadata": {},
     "output_type": "execute_result"
    }
   ],
   "source": [
    "# Referência: https://towardsdatascience.com/get-your-spotify-streaming-history-with-python-d5a208bbcbd3\n",
    "username = 'leonardodmabreu'\n",
    "client_id ='97a6154236f84c0f8e835a1171e30881'\n",
    "client_secret = 'd4d778c7d61f409190187b360ef11b6b'\n",
    "redirect_uri = 'http://localhost:7777/callback'\n",
    "scope = 'user-read-recently-played'\n",
    "\n",
    "token = util.prompt_for_user_token(username=username, \n",
    "                                   scope=scope, \n",
    "                                   client_id=client_id,   \n",
    "                                   client_secret=client_secret,     \n",
    "                                   redirect_uri=redirect_uri)\n",
    "token"
   ]
  },
  {
   "cell_type": "code",
   "execution_count": 3,
   "metadata": {},
   "outputs": [
    {
     "name": "stdout",
     "output_type": "stream",
     "text": [
      "0gzqZ9d1jIKo9psEIthwXe\n"
     ]
    }
   ],
   "source": [
    "def get_id(track_name: str, token: str) -> str:\n",
    "    headers = {\n",
    "    'Accept': 'application/json',\n",
    "    'Content-Type': 'application/json',\n",
    "    'Authorization': f'Bearer ' + token,\n",
    "    }\n",
    "    params = [\n",
    "    ('q', track_name),\n",
    "    ('type', 'track'),\n",
    "    ]\n",
    "    try:\n",
    "        response = requests.get('https://api.spotify.com/v1/search', \n",
    "                    headers = headers, params = params, timeout = 5)\n",
    "        json = response.json()\n",
    "        first_result = json['tracks']['items'][0]\n",
    "        track_id = first_result['id']\n",
    "        return track_id\n",
    "    except:\n",
    "        return None\n",
    "    \n",
    "# TESTE\n",
    "lucy_id = get_id('Beautiful Day', token)\n",
    "print(lucy_id)"
   ]
  },
  {
   "cell_type": "code",
   "execution_count": 29,
   "metadata": {},
   "outputs": [
    {
     "name": "stdout",
     "output_type": "stream",
     "text": [
      "{'danceability': 0.311, 'energy': 0.325, 'key': 2, 'loudness': -9.042, 'mode': 1, 'speechiness': 0.0283, 'acousticness': 0.0469, 'instrumentalness': 0, 'liveness': 0.139, 'valence': 0.668, 'tempo': 65.09, 'type': 'audio_features', 'id': '25yQPHgC35WNnnOUqFhgVR', 'uri': 'spotify:track:25yQPHgC35WNnnOUqFhgVR', 'track_href': 'https://api.spotify.com/v1/tracks/25yQPHgC35WNnnOUqFhgVR', 'analysis_url': 'https://api.spotify.com/v1/audio-analysis/25yQPHgC35WNnnOUqFhgVR', 'duration_ms': 208467, 'time_signature': 1}\n"
     ]
    }
   ],
   "source": [
    "def get_features(track_id: str, token: str) -> dict:\n",
    "    sp = spotipy.Spotify(auth=token)\n",
    "    try:\n",
    "        features = sp.audio_features([track_id])\n",
    "        return features[0]\n",
    "    except:\n",
    "        return None\n",
    "    \n",
    "# TESTE\n",
    "lucy_features = get_features(lucy_id, token)\n",
    "print(lucy_features)"
   ]
  },
  {
   "cell_type": "code",
   "execution_count": 30,
   "metadata": {},
   "outputs": [],
   "source": [
    "# Função que coleta os dados do histórico do Spotify, extrai o JSON e converte em dicionários\n",
    "def get_streamings(path: str = 'MyData') -> List[dict]:\n",
    "    \n",
    "    files = ['MyData/' + x for x in listdir(path)\n",
    "             if x.split('.')[0][:-1] == 'StreamingHistory']\n",
    "    \n",
    "    all_streamings = []\n",
    "    \n",
    "    for file in files: \n",
    "        with open(file, 'r', encoding='UTF-8') as f:\n",
    "            new_streamings = ast.literal_eval(f.read())\n",
    "            all_streamings += [streaming for streaming \n",
    "                               in new_streamings]\n",
    "    return all_streamings\n",
    "\n",
    "\n",
    "streamings = get_streamings()\n",
    "unique_tracks = list(set([streaming['trackName'] \n",
    "                for streaming in streamings]))\n",
    "\n",
    "all_features = {}\n",
    "for track in unique_tracks:\n",
    "    track_id = get_id(track, token)\n",
    "    features = get_features(track_id, token)\n",
    "    if features:\n",
    "        all_features[track] = features\n",
    "        \n",
    "with_features = []\n",
    "for track_name, features in all_features.items():\n",
    "    with_features.append({'name': track_name, **features})"
   ]
  },
  {
   "cell_type": "markdown",
   "metadata": {},
   "source": [
    "# TRANSFORMANDO EM CSV:"
   ]
  },
  {
   "cell_type": "code",
   "execution_count": 31,
   "metadata": {},
   "outputs": [],
   "source": [
    "import pandas as pd\n",
    "df = pd.DataFrame(with_features)\n",
    "df.to_csv('streaming_history.csv')"
   ]
  }
 ],
 "metadata": {
  "kernelspec": {
   "display_name": "Python 3",
   "language": "python",
   "name": "python3"
  },
  "language_info": {
   "codemirror_mode": {
    "name": "ipython",
    "version": 3
   },
   "file_extension": ".py",
   "mimetype": "text/x-python",
   "name": "python",
   "nbconvert_exporter": "python",
   "pygments_lexer": "ipython3",
   "version": "3.7.6"
  }
 },
 "nbformat": 4,
 "nbformat_minor": 4
}
