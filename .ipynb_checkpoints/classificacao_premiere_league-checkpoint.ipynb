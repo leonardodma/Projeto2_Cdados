{
 "cells": [
  {
   "cell_type": "markdown",
   "metadata": {},
   "source": [
    "# Integrantes:\n",
    "\n",
    "* Andresa Bicudo\n",
    "* Gabriel Yamashita\n",
    "* Leonardo Malta"
   ]
  },
  {
   "cell_type": "markdown",
   "metadata": {},
   "source": [
    "----"
   ]
  },
  {
   "cell_type": "markdown",
   "metadata": {},
   "source": [
    "# Introdução \n",
    "A pandemia do corona vírus fez com que o futebol parasse, inclusive o campeonato inglês (Premiere League). Existem campeonatos que foram interrompidos, como o campeonato francês, mesmo sem ter finalizado todos os jogos e também há campeonatos que retonaram porém com desempenhos diferentes de cada equipe. Isso fez com que surgisse o seguinte questionamento: o que provavelmente ocorreria com o campeonato inglês se a pandemia não tivesse a interrompido?"
   ]
  },
  {
   "cell_type": "markdown",
   "metadata": {},
   "source": [
    "----"
   ]
  },
  {
   "cell_type": "markdown",
   "metadata": {},
   "source": [
    "# Objetivo:\n",
    "Prever o restante do campeonato inglês com base no desempenho e estatísitcas das equipes até a 30ª rodada. "
   ]
  },
  {
   "cell_type": "markdown",
   "metadata": {},
   "source": [
    "----"
   ]
  },
  {
   "cell_type": "markdown",
   "metadata": {},
   "source": [
    "# Imports:"
   ]
  },
  {
   "cell_type": "code",
   "execution_count": 159,
   "metadata": {},
   "outputs": [],
   "source": [
    "# Importanto Bibliotecas para o Trabalho:\n",
    "%matplotlib inline\n",
    "import pandas as pd\n",
    "import matplotlib.pyplot as plt\n",
    "import numpy as np\n",
    "import seaborn as sns\n",
    "import statsmodels.api as sm\n",
    "\n",
    "import scipy as scp\n",
    "import sklearn\n",
    "\n",
    "from sklearn.metrics import accuracy_score\n",
    "\n",
    "from sklearn.ensemble import RandomForestClassifier\n",
    "from sklearn.naive_bayes import MultinomialNB\n",
    "from sklearn.linear_model import LogisticRegression\n",
    "from sklearn.naive_bayes import GaussianNB\n",
    "from sklearn.neighbors import KNeighborsClassifier\n",
    "from sklearn.ensemble import GradientBoostingClassifier\n",
    "\n",
    "from sklearn.model_selection import train_test_split\n",
    "from sklearn.preprocessing import StandardScaler\n",
    "from statsmodels.stats.outliers_influence import variance_inflation_factor\n",
    "\n",
    "pd.set_option('display.max_columns', None)\n",
    "pd.set_option('display.max_rows', None)"
   ]
  },
  {
   "cell_type": "markdown",
   "metadata": {},
   "source": [
    "----"
   ]
  },
  {
   "cell_type": "markdown",
   "metadata": {},
   "source": [
    "# Separação dos Dados:"
   ]
  },
  {
   "cell_type": "code",
   "execution_count": 160,
   "metadata": {
    "scrolled": false
   },
   "outputs": [
    {
     "data": {
      "text/html": [
       "<div>\n",
       "<style scoped>\n",
       "    .dataframe tbody tr th:only-of-type {\n",
       "        vertical-align: middle;\n",
       "    }\n",
       "\n",
       "    .dataframe tbody tr th {\n",
       "        vertical-align: top;\n",
       "    }\n",
       "\n",
       "    .dataframe thead th {\n",
       "        text-align: right;\n",
       "    }\n",
       "</style>\n",
       "<table border=\"1\" class=\"dataframe\">\n",
       "  <thead>\n",
       "    <tr style=\"text-align: right;\">\n",
       "      <th></th>\n",
       "      <th>MatchID</th>\n",
       "      <th>Home_team</th>\n",
       "      <th>Away_team</th>\n",
       "      <th>Score_home</th>\n",
       "      <th>Score_away</th>\n",
       "      <th>Possession_home</th>\n",
       "      <th>Possession_away</th>\n",
       "      <th>Shots_on_target_home</th>\n",
       "      <th>Shots_on_target_away</th>\n",
       "      <th>Shots_home</th>\n",
       "      <th>Shots_away</th>\n",
       "      <th>Touches_home</th>\n",
       "      <th>Touches_away</th>\n",
       "      <th>Passes_home</th>\n",
       "      <th>Passes_away</th>\n",
       "      <th>Tackles_home</th>\n",
       "      <th>Tackles_away</th>\n",
       "      <th>Clearances_home</th>\n",
       "      <th>Clearances_away</th>\n",
       "      <th>Corners_home</th>\n",
       "      <th>Corners_away</th>\n",
       "      <th>Offsides_home</th>\n",
       "      <th>Offsides_away</th>\n",
       "      <th>Yellow_cards_home</th>\n",
       "      <th>Yellow_cards_away</th>\n",
       "      <th>Fouls_conceded_home</th>\n",
       "      <th>Fouls_conceded_away</th>\n",
       "      <th>Red_cards_home</th>\n",
       "      <th>Red_cards_away</th>\n",
       "      <th>year</th>\n",
       "      <th>Expenditures_home</th>\n",
       "      <th>Arrivals_home</th>\n",
       "      <th>Income_home</th>\n",
       "      <th>Departures_home</th>\n",
       "      <th>Expenditures_away</th>\n",
       "      <th>Arrivals_away</th>\n",
       "      <th>Income_away</th>\n",
       "      <th>Departures_away</th>\n",
       "    </tr>\n",
       "  </thead>\n",
       "  <tbody>\n",
       "    <tr>\n",
       "      <th>0</th>\n",
       "      <td>5937</td>\n",
       "      <td>Blackburn</td>\n",
       "      <td>Reading</td>\n",
       "      <td>3</td>\n",
       "      <td>3</td>\n",
       "      <td>54.0</td>\n",
       "      <td>46.0</td>\n",
       "      <td>6</td>\n",
       "      <td>4</td>\n",
       "      <td>15</td>\n",
       "      <td>11</td>\n",
       "      <td>553</td>\n",
       "      <td>464</td>\n",
       "      <td>356</td>\n",
       "      <td>287</td>\n",
       "      <td>22</td>\n",
       "      <td>13</td>\n",
       "      <td>33</td>\n",
       "      <td>19</td>\n",
       "      <td>5</td>\n",
       "      <td>10</td>\n",
       "      <td>5</td>\n",
       "      <td>3</td>\n",
       "      <td>2</td>\n",
       "      <td>0</td>\n",
       "      <td>18</td>\n",
       "      <td>7</td>\n",
       "      <td>0</td>\n",
       "      <td>0</td>\n",
       "      <td>2007</td>\n",
       "      <td>18.84</td>\n",
       "      <td>21</td>\n",
       "      <td>19.28</td>\n",
       "      <td>25</td>\n",
       "      <td>10.52</td>\n",
       "      <td>25</td>\n",
       "      <td>0.00</td>\n",
       "      <td>19</td>\n",
       "    </tr>\n",
       "    <tr>\n",
       "      <th>1</th>\n",
       "      <td>5938</td>\n",
       "      <td>Bolton</td>\n",
       "      <td>Aston Villa</td>\n",
       "      <td>2</td>\n",
       "      <td>2</td>\n",
       "      <td>47.1</td>\n",
       "      <td>52.9</td>\n",
       "      <td>2</td>\n",
       "      <td>2</td>\n",
       "      <td>11</td>\n",
       "      <td>7</td>\n",
       "      <td>457</td>\n",
       "      <td>493</td>\n",
       "      <td>318</td>\n",
       "      <td>343</td>\n",
       "      <td>24</td>\n",
       "      <td>15</td>\n",
       "      <td>23</td>\n",
       "      <td>20</td>\n",
       "      <td>7</td>\n",
       "      <td>6</td>\n",
       "      <td>0</td>\n",
       "      <td>2</td>\n",
       "      <td>2</td>\n",
       "      <td>1</td>\n",
       "      <td>10</td>\n",
       "      <td>11</td>\n",
       "      <td>0</td>\n",
       "      <td>0</td>\n",
       "      <td>2007</td>\n",
       "      <td>19.38</td>\n",
       "      <td>16</td>\n",
       "      <td>4.39</td>\n",
       "      <td>16</td>\n",
       "      <td>28.16</td>\n",
       "      <td>17</td>\n",
       "      <td>2.08</td>\n",
       "      <td>18</td>\n",
       "    </tr>\n",
       "    <tr>\n",
       "      <th>2</th>\n",
       "      <td>5939</td>\n",
       "      <td>Chelsea</td>\n",
       "      <td>Everton</td>\n",
       "      <td>1</td>\n",
       "      <td>1</td>\n",
       "      <td>59.3</td>\n",
       "      <td>40.7</td>\n",
       "      <td>7</td>\n",
       "      <td>6</td>\n",
       "      <td>20</td>\n",
       "      <td>11</td>\n",
       "      <td>615</td>\n",
       "      <td>471</td>\n",
       "      <td>425</td>\n",
       "      <td>305</td>\n",
       "      <td>23</td>\n",
       "      <td>22</td>\n",
       "      <td>10</td>\n",
       "      <td>28</td>\n",
       "      <td>10</td>\n",
       "      <td>2</td>\n",
       "      <td>6</td>\n",
       "      <td>2</td>\n",
       "      <td>2</td>\n",
       "      <td>1</td>\n",
       "      <td>13</td>\n",
       "      <td>7</td>\n",
       "      <td>0</td>\n",
       "      <td>0</td>\n",
       "      <td>2007</td>\n",
       "      <td>101.43</td>\n",
       "      <td>23</td>\n",
       "      <td>59.96</td>\n",
       "      <td>22</td>\n",
       "      <td>20.41</td>\n",
       "      <td>11</td>\n",
       "      <td>2.85</td>\n",
       "      <td>16</td>\n",
       "    </tr>\n",
       "    <tr>\n",
       "      <th>3</th>\n",
       "      <td>5940</td>\n",
       "      <td>Liverpool</td>\n",
       "      <td>Charlton</td>\n",
       "      <td>2</td>\n",
       "      <td>2</td>\n",
       "      <td>61.6</td>\n",
       "      <td>38.4</td>\n",
       "      <td>5</td>\n",
       "      <td>4</td>\n",
       "      <td>23</td>\n",
       "      <td>9</td>\n",
       "      <td>632</td>\n",
       "      <td>420</td>\n",
       "      <td>453</td>\n",
       "      <td>271</td>\n",
       "      <td>20</td>\n",
       "      <td>14</td>\n",
       "      <td>22</td>\n",
       "      <td>29</td>\n",
       "      <td>9</td>\n",
       "      <td>2</td>\n",
       "      <td>6</td>\n",
       "      <td>4</td>\n",
       "      <td>0</td>\n",
       "      <td>0</td>\n",
       "      <td>5</td>\n",
       "      <td>13</td>\n",
       "      <td>0</td>\n",
       "      <td>0</td>\n",
       "      <td>2007</td>\n",
       "      <td>52.44</td>\n",
       "      <td>27</td>\n",
       "      <td>23.94</td>\n",
       "      <td>28</td>\n",
       "      <td>24.68</td>\n",
       "      <td>31</td>\n",
       "      <td>2.59</td>\n",
       "      <td>36</td>\n",
       "    </tr>\n",
       "    <tr>\n",
       "      <th>4</th>\n",
       "      <td>5941</td>\n",
       "      <td>Man Utd</td>\n",
       "      <td>West Ham</td>\n",
       "      <td>0</td>\n",
       "      <td>1</td>\n",
       "      <td>65.3</td>\n",
       "      <td>34.7</td>\n",
       "      <td>7</td>\n",
       "      <td>2</td>\n",
       "      <td>30</td>\n",
       "      <td>8</td>\n",
       "      <td>825</td>\n",
       "      <td>506</td>\n",
       "      <td>619</td>\n",
       "      <td>333</td>\n",
       "      <td>28</td>\n",
       "      <td>26</td>\n",
       "      <td>18</td>\n",
       "      <td>47</td>\n",
       "      <td>14</td>\n",
       "      <td>3</td>\n",
       "      <td>0</td>\n",
       "      <td>1</td>\n",
       "      <td>0</td>\n",
       "      <td>2</td>\n",
       "      <td>13</td>\n",
       "      <td>12</td>\n",
       "      <td>0</td>\n",
       "      <td>0</td>\n",
       "      <td>2007</td>\n",
       "      <td>31.01</td>\n",
       "      <td>25</td>\n",
       "      <td>20.52</td>\n",
       "      <td>29</td>\n",
       "      <td>79.63</td>\n",
       "      <td>22</td>\n",
       "      <td>7.70</td>\n",
       "      <td>23</td>\n",
       "    </tr>\n",
       "  </tbody>\n",
       "</table>\n",
       "</div>"
      ],
      "text/plain": [
       "   MatchID  Home_team    Away_team  Score_home  Score_away  Possession_home  \\\n",
       "0     5937  Blackburn      Reading           3           3             54.0   \n",
       "1     5938     Bolton  Aston Villa           2           2             47.1   \n",
       "2     5939    Chelsea      Everton           1           1             59.3   \n",
       "3     5940  Liverpool     Charlton           2           2             61.6   \n",
       "4     5941    Man Utd     West Ham           0           1             65.3   \n",
       "\n",
       "   Possession_away  Shots_on_target_home  Shots_on_target_away  Shots_home  \\\n",
       "0             46.0                     6                     4          15   \n",
       "1             52.9                     2                     2          11   \n",
       "2             40.7                     7                     6          20   \n",
       "3             38.4                     5                     4          23   \n",
       "4             34.7                     7                     2          30   \n",
       "\n",
       "   Shots_away  Touches_home  Touches_away  Passes_home  Passes_away  \\\n",
       "0          11           553           464          356          287   \n",
       "1           7           457           493          318          343   \n",
       "2          11           615           471          425          305   \n",
       "3           9           632           420          453          271   \n",
       "4           8           825           506          619          333   \n",
       "\n",
       "   Tackles_home  Tackles_away  Clearances_home  Clearances_away  Corners_home  \\\n",
       "0            22            13               33               19             5   \n",
       "1            24            15               23               20             7   \n",
       "2            23            22               10               28            10   \n",
       "3            20            14               22               29             9   \n",
       "4            28            26               18               47            14   \n",
       "\n",
       "   Corners_away  Offsides_home  Offsides_away  Yellow_cards_home  \\\n",
       "0            10              5              3                  2   \n",
       "1             6              0              2                  2   \n",
       "2             2              6              2                  2   \n",
       "3             2              6              4                  0   \n",
       "4             3              0              1                  0   \n",
       "\n",
       "   Yellow_cards_away  Fouls_conceded_home  Fouls_conceded_away  \\\n",
       "0                  0                   18                    7   \n",
       "1                  1                   10                   11   \n",
       "2                  1                   13                    7   \n",
       "3                  0                    5                   13   \n",
       "4                  2                   13                   12   \n",
       "\n",
       "   Red_cards_home  Red_cards_away  year  Expenditures_home  Arrivals_home  \\\n",
       "0               0               0  2007              18.84             21   \n",
       "1               0               0  2007              19.38             16   \n",
       "2               0               0  2007             101.43             23   \n",
       "3               0               0  2007              52.44             27   \n",
       "4               0               0  2007              31.01             25   \n",
       "\n",
       "   Income_home  Departures_home  Expenditures_away  Arrivals_away  \\\n",
       "0        19.28               25              10.52             25   \n",
       "1         4.39               16              28.16             17   \n",
       "2        59.96               22              20.41             11   \n",
       "3        23.94               28              24.68             31   \n",
       "4        20.52               29              79.63             22   \n",
       "\n",
       "   Income_away  Departures_away  \n",
       "0         0.00               19  \n",
       "1         2.08               18  \n",
       "2         2.85               16  \n",
       "3         2.59               36  \n",
       "4         7.70               23  "
      ]
     },
     "execution_count": 160,
     "metadata": {},
     "output_type": "execute_result"
    }
   ],
   "source": [
    "# carregando os dados do Excell para o pandas\n",
    "dados = pd.read_excel('masterdata.xlsx')\n",
    "dados.head(5)"
   ]
  },
  {
   "cell_type": "code",
   "execution_count": 161,
   "metadata": {},
   "outputs": [
    {
     "data": {
      "text/html": [
       "<div>\n",
       "<style scoped>\n",
       "    .dataframe tbody tr th:only-of-type {\n",
       "        vertical-align: middle;\n",
       "    }\n",
       "\n",
       "    .dataframe tbody tr th {\n",
       "        vertical-align: top;\n",
       "    }\n",
       "\n",
       "    .dataframe thead th {\n",
       "        text-align: right;\n",
       "    }\n",
       "</style>\n",
       "<table border=\"1\" class=\"dataframe\">\n",
       "  <thead>\n",
       "    <tr style=\"text-align: right;\">\n",
       "      <th></th>\n",
       "      <th>MatchID</th>\n",
       "      <th>Home_team</th>\n",
       "      <th>Away_team</th>\n",
       "      <th>Score_home</th>\n",
       "      <th>Score_away</th>\n",
       "      <th>Possession_home</th>\n",
       "      <th>Possession_away</th>\n",
       "      <th>Shots_on_target_home</th>\n",
       "      <th>Shots_on_target_away</th>\n",
       "      <th>Shots_home</th>\n",
       "      <th>Shots_away</th>\n",
       "      <th>Touches_home</th>\n",
       "      <th>Touches_away</th>\n",
       "      <th>Passes_home</th>\n",
       "      <th>Passes_away</th>\n",
       "      <th>Tackles_home</th>\n",
       "      <th>Tackles_away</th>\n",
       "      <th>Clearances_home</th>\n",
       "      <th>Clearances_away</th>\n",
       "      <th>Corners_home</th>\n",
       "      <th>Corners_away</th>\n",
       "      <th>Offsides_home</th>\n",
       "      <th>Offsides_away</th>\n",
       "      <th>Yellow_cards_home</th>\n",
       "      <th>Yellow_cards_away</th>\n",
       "      <th>Fouls_conceded_home</th>\n",
       "      <th>Fouls_conceded_away</th>\n",
       "      <th>Red_cards_home</th>\n",
       "      <th>Red_cards_away</th>\n",
       "      <th>year</th>\n",
       "      <th>Expenditures_home</th>\n",
       "      <th>Arrivals_home</th>\n",
       "      <th>Income_home</th>\n",
       "      <th>Departures_home</th>\n",
       "      <th>Expenditures_away</th>\n",
       "      <th>Arrivals_away</th>\n",
       "      <th>Income_away</th>\n",
       "      <th>Departures_away</th>\n",
       "      <th>Result</th>\n",
       "    </tr>\n",
       "  </thead>\n",
       "  <tbody>\n",
       "    <tr>\n",
       "      <th>0</th>\n",
       "      <td>5937</td>\n",
       "      <td>Blackburn</td>\n",
       "      <td>Reading</td>\n",
       "      <td>3</td>\n",
       "      <td>3</td>\n",
       "      <td>54.0</td>\n",
       "      <td>46.0</td>\n",
       "      <td>6</td>\n",
       "      <td>4</td>\n",
       "      <td>15</td>\n",
       "      <td>11</td>\n",
       "      <td>553</td>\n",
       "      <td>464</td>\n",
       "      <td>356</td>\n",
       "      <td>287</td>\n",
       "      <td>22</td>\n",
       "      <td>13</td>\n",
       "      <td>33</td>\n",
       "      <td>19</td>\n",
       "      <td>5</td>\n",
       "      <td>10</td>\n",
       "      <td>5</td>\n",
       "      <td>3</td>\n",
       "      <td>2</td>\n",
       "      <td>0</td>\n",
       "      <td>18</td>\n",
       "      <td>7</td>\n",
       "      <td>0</td>\n",
       "      <td>0</td>\n",
       "      <td>2007</td>\n",
       "      <td>18.84</td>\n",
       "      <td>21</td>\n",
       "      <td>19.28</td>\n",
       "      <td>25</td>\n",
       "      <td>10.52</td>\n",
       "      <td>25</td>\n",
       "      <td>0.00</td>\n",
       "      <td>19</td>\n",
       "      <td>1</td>\n",
       "    </tr>\n",
       "    <tr>\n",
       "      <th>1</th>\n",
       "      <td>5938</td>\n",
       "      <td>Bolton</td>\n",
       "      <td>Aston Villa</td>\n",
       "      <td>2</td>\n",
       "      <td>2</td>\n",
       "      <td>47.1</td>\n",
       "      <td>52.9</td>\n",
       "      <td>2</td>\n",
       "      <td>2</td>\n",
       "      <td>11</td>\n",
       "      <td>7</td>\n",
       "      <td>457</td>\n",
       "      <td>493</td>\n",
       "      <td>318</td>\n",
       "      <td>343</td>\n",
       "      <td>24</td>\n",
       "      <td>15</td>\n",
       "      <td>23</td>\n",
       "      <td>20</td>\n",
       "      <td>7</td>\n",
       "      <td>6</td>\n",
       "      <td>0</td>\n",
       "      <td>2</td>\n",
       "      <td>2</td>\n",
       "      <td>1</td>\n",
       "      <td>10</td>\n",
       "      <td>11</td>\n",
       "      <td>0</td>\n",
       "      <td>0</td>\n",
       "      <td>2007</td>\n",
       "      <td>19.38</td>\n",
       "      <td>16</td>\n",
       "      <td>4.39</td>\n",
       "      <td>16</td>\n",
       "      <td>28.16</td>\n",
       "      <td>17</td>\n",
       "      <td>2.08</td>\n",
       "      <td>18</td>\n",
       "      <td>1</td>\n",
       "    </tr>\n",
       "    <tr>\n",
       "      <th>2</th>\n",
       "      <td>5939</td>\n",
       "      <td>Chelsea</td>\n",
       "      <td>Everton</td>\n",
       "      <td>1</td>\n",
       "      <td>1</td>\n",
       "      <td>59.3</td>\n",
       "      <td>40.7</td>\n",
       "      <td>7</td>\n",
       "      <td>6</td>\n",
       "      <td>20</td>\n",
       "      <td>11</td>\n",
       "      <td>615</td>\n",
       "      <td>471</td>\n",
       "      <td>425</td>\n",
       "      <td>305</td>\n",
       "      <td>23</td>\n",
       "      <td>22</td>\n",
       "      <td>10</td>\n",
       "      <td>28</td>\n",
       "      <td>10</td>\n",
       "      <td>2</td>\n",
       "      <td>6</td>\n",
       "      <td>2</td>\n",
       "      <td>2</td>\n",
       "      <td>1</td>\n",
       "      <td>13</td>\n",
       "      <td>7</td>\n",
       "      <td>0</td>\n",
       "      <td>0</td>\n",
       "      <td>2007</td>\n",
       "      <td>101.43</td>\n",
       "      <td>23</td>\n",
       "      <td>59.96</td>\n",
       "      <td>22</td>\n",
       "      <td>20.41</td>\n",
       "      <td>11</td>\n",
       "      <td>2.85</td>\n",
       "      <td>16</td>\n",
       "      <td>1</td>\n",
       "    </tr>\n",
       "    <tr>\n",
       "      <th>3</th>\n",
       "      <td>5940</td>\n",
       "      <td>Liverpool</td>\n",
       "      <td>Charlton</td>\n",
       "      <td>2</td>\n",
       "      <td>2</td>\n",
       "      <td>61.6</td>\n",
       "      <td>38.4</td>\n",
       "      <td>5</td>\n",
       "      <td>4</td>\n",
       "      <td>23</td>\n",
       "      <td>9</td>\n",
       "      <td>632</td>\n",
       "      <td>420</td>\n",
       "      <td>453</td>\n",
       "      <td>271</td>\n",
       "      <td>20</td>\n",
       "      <td>14</td>\n",
       "      <td>22</td>\n",
       "      <td>29</td>\n",
       "      <td>9</td>\n",
       "      <td>2</td>\n",
       "      <td>6</td>\n",
       "      <td>4</td>\n",
       "      <td>0</td>\n",
       "      <td>0</td>\n",
       "      <td>5</td>\n",
       "      <td>13</td>\n",
       "      <td>0</td>\n",
       "      <td>0</td>\n",
       "      <td>2007</td>\n",
       "      <td>52.44</td>\n",
       "      <td>27</td>\n",
       "      <td>23.94</td>\n",
       "      <td>28</td>\n",
       "      <td>24.68</td>\n",
       "      <td>31</td>\n",
       "      <td>2.59</td>\n",
       "      <td>36</td>\n",
       "      <td>1</td>\n",
       "    </tr>\n",
       "    <tr>\n",
       "      <th>4</th>\n",
       "      <td>5941</td>\n",
       "      <td>Man Utd</td>\n",
       "      <td>West Ham</td>\n",
       "      <td>0</td>\n",
       "      <td>1</td>\n",
       "      <td>65.3</td>\n",
       "      <td>34.7</td>\n",
       "      <td>7</td>\n",
       "      <td>2</td>\n",
       "      <td>30</td>\n",
       "      <td>8</td>\n",
       "      <td>825</td>\n",
       "      <td>506</td>\n",
       "      <td>619</td>\n",
       "      <td>333</td>\n",
       "      <td>28</td>\n",
       "      <td>26</td>\n",
       "      <td>18</td>\n",
       "      <td>47</td>\n",
       "      <td>14</td>\n",
       "      <td>3</td>\n",
       "      <td>0</td>\n",
       "      <td>1</td>\n",
       "      <td>0</td>\n",
       "      <td>2</td>\n",
       "      <td>13</td>\n",
       "      <td>12</td>\n",
       "      <td>0</td>\n",
       "      <td>0</td>\n",
       "      <td>2007</td>\n",
       "      <td>31.01</td>\n",
       "      <td>25</td>\n",
       "      <td>20.52</td>\n",
       "      <td>29</td>\n",
       "      <td>79.63</td>\n",
       "      <td>22</td>\n",
       "      <td>7.70</td>\n",
       "      <td>23</td>\n",
       "      <td>2</td>\n",
       "    </tr>\n",
       "  </tbody>\n",
       "</table>\n",
       "</div>"
      ],
      "text/plain": [
       "   MatchID  Home_team    Away_team  Score_home  Score_away  Possession_home  \\\n",
       "0     5937  Blackburn      Reading           3           3             54.0   \n",
       "1     5938     Bolton  Aston Villa           2           2             47.1   \n",
       "2     5939    Chelsea      Everton           1           1             59.3   \n",
       "3     5940  Liverpool     Charlton           2           2             61.6   \n",
       "4     5941    Man Utd     West Ham           0           1             65.3   \n",
       "\n",
       "   Possession_away  Shots_on_target_home  Shots_on_target_away  Shots_home  \\\n",
       "0             46.0                     6                     4          15   \n",
       "1             52.9                     2                     2          11   \n",
       "2             40.7                     7                     6          20   \n",
       "3             38.4                     5                     4          23   \n",
       "4             34.7                     7                     2          30   \n",
       "\n",
       "   Shots_away  Touches_home  Touches_away  Passes_home  Passes_away  \\\n",
       "0          11           553           464          356          287   \n",
       "1           7           457           493          318          343   \n",
       "2          11           615           471          425          305   \n",
       "3           9           632           420          453          271   \n",
       "4           8           825           506          619          333   \n",
       "\n",
       "   Tackles_home  Tackles_away  Clearances_home  Clearances_away  Corners_home  \\\n",
       "0            22            13               33               19             5   \n",
       "1            24            15               23               20             7   \n",
       "2            23            22               10               28            10   \n",
       "3            20            14               22               29             9   \n",
       "4            28            26               18               47            14   \n",
       "\n",
       "   Corners_away  Offsides_home  Offsides_away  Yellow_cards_home  \\\n",
       "0            10              5              3                  2   \n",
       "1             6              0              2                  2   \n",
       "2             2              6              2                  2   \n",
       "3             2              6              4                  0   \n",
       "4             3              0              1                  0   \n",
       "\n",
       "   Yellow_cards_away  Fouls_conceded_home  Fouls_conceded_away  \\\n",
       "0                  0                   18                    7   \n",
       "1                  1                   10                   11   \n",
       "2                  1                   13                    7   \n",
       "3                  0                    5                   13   \n",
       "4                  2                   13                   12   \n",
       "\n",
       "   Red_cards_home  Red_cards_away  year  Expenditures_home  Arrivals_home  \\\n",
       "0               0               0  2007              18.84             21   \n",
       "1               0               0  2007              19.38             16   \n",
       "2               0               0  2007             101.43             23   \n",
       "3               0               0  2007              52.44             27   \n",
       "4               0               0  2007              31.01             25   \n",
       "\n",
       "   Income_home  Departures_home  Expenditures_away  Arrivals_away  \\\n",
       "0        19.28               25              10.52             25   \n",
       "1         4.39               16              28.16             17   \n",
       "2        59.96               22              20.41             11   \n",
       "3        23.94               28              24.68             31   \n",
       "4        20.52               29              79.63             22   \n",
       "\n",
       "   Income_away  Departures_away  Result  \n",
       "0         0.00               19       1  \n",
       "1         2.08               18       1  \n",
       "2         2.85               16       1  \n",
       "3         2.59               36       1  \n",
       "4         7.70               23       2  "
      ]
     },
     "execution_count": 161,
     "metadata": {},
     "output_type": "execute_result"
    }
   ],
   "source": [
    "# separando os resultados em uma nova coluna e em números (0, 1 e 2)\n",
    "\n",
    "def Determina_Resultado(df, home, away):\n",
    "    if df[home] > df[away]: # se o time local ganhou do visitante\n",
    "        return 0\n",
    "    elif df[home] < df[away]: # se o time visitante ganhou do local\n",
    "        return 2\n",
    "    elif df[home] == df[away]: # se empatou\n",
    "        return 1\n",
    "\n",
    "# criando uma coluna com os números que representam os resultados\n",
    "dados['Result'] = dados.apply(\n",
    "    lambda dados: Determina_Resultado(dados, 'Score_home', 'Score_away'), axis=1)\n",
    "\n",
    "# testando se deu certo\n",
    "dados.head(5)"
   ]
  },
  {
   "cell_type": "markdown",
   "metadata": {},
   "source": [
    "----"
   ]
  },
  {
   "cell_type": "markdown",
   "metadata": {},
   "source": [
    "# Obtendo Variáveis de Interesse  "
   ]
  },
  {
   "cell_type": "code",
   "execution_count": 162,
   "metadata": {},
   "outputs": [
    {
     "data": {
      "text/html": [
       "<div>\n",
       "<style scoped>\n",
       "    .dataframe tbody tr th:only-of-type {\n",
       "        vertical-align: middle;\n",
       "    }\n",
       "\n",
       "    .dataframe tbody tr th {\n",
       "        vertical-align: top;\n",
       "    }\n",
       "\n",
       "    .dataframe thead th {\n",
       "        text-align: right;\n",
       "    }\n",
       "</style>\n",
       "<table border=\"1\" class=\"dataframe\">\n",
       "  <thead>\n",
       "    <tr style=\"text-align: right;\">\n",
       "      <th></th>\n",
       "      <th>Possession_home</th>\n",
       "      <th>Possession_away</th>\n",
       "      <th>Shots_on_target_home</th>\n",
       "      <th>Shots_on_target_away</th>\n",
       "      <th>Shots_home</th>\n",
       "      <th>Shots_away</th>\n",
       "      <th>Touches_home</th>\n",
       "      <th>Touches_away</th>\n",
       "      <th>Passes_home</th>\n",
       "      <th>Passes_away</th>\n",
       "      <th>Tackles_home</th>\n",
       "      <th>Tackles_away</th>\n",
       "      <th>Clearances_home</th>\n",
       "      <th>Clearances_away</th>\n",
       "      <th>Corners_home</th>\n",
       "      <th>Corners_away</th>\n",
       "      <th>Offsides_home</th>\n",
       "      <th>Offsides_away</th>\n",
       "      <th>Yellow_cards_home</th>\n",
       "      <th>Yellow_cards_away</th>\n",
       "      <th>Fouls_conceded_home</th>\n",
       "      <th>Fouls_conceded_away</th>\n",
       "      <th>Red_cards_home</th>\n",
       "      <th>Red_cards_away</th>\n",
       "      <th>Expenditures_home</th>\n",
       "      <th>Arrivals_home</th>\n",
       "      <th>Income_home</th>\n",
       "      <th>Departures_home</th>\n",
       "      <th>Expenditures_away</th>\n",
       "      <th>Arrivals_away</th>\n",
       "      <th>Income_away</th>\n",
       "      <th>Departures_away</th>\n",
       "    </tr>\n",
       "  </thead>\n",
       "  <tbody>\n",
       "    <tr>\n",
       "      <th>0</th>\n",
       "      <td>54.0</td>\n",
       "      <td>46.0</td>\n",
       "      <td>6</td>\n",
       "      <td>4</td>\n",
       "      <td>15</td>\n",
       "      <td>11</td>\n",
       "      <td>553</td>\n",
       "      <td>464</td>\n",
       "      <td>356</td>\n",
       "      <td>287</td>\n",
       "      <td>22</td>\n",
       "      <td>13</td>\n",
       "      <td>33</td>\n",
       "      <td>19</td>\n",
       "      <td>5</td>\n",
       "      <td>10</td>\n",
       "      <td>5</td>\n",
       "      <td>3</td>\n",
       "      <td>2</td>\n",
       "      <td>0</td>\n",
       "      <td>18</td>\n",
       "      <td>7</td>\n",
       "      <td>0</td>\n",
       "      <td>0</td>\n",
       "      <td>18.84</td>\n",
       "      <td>21</td>\n",
       "      <td>19.28</td>\n",
       "      <td>25</td>\n",
       "      <td>10.52</td>\n",
       "      <td>25</td>\n",
       "      <td>0.00</td>\n",
       "      <td>19</td>\n",
       "    </tr>\n",
       "    <tr>\n",
       "      <th>1</th>\n",
       "      <td>47.1</td>\n",
       "      <td>52.9</td>\n",
       "      <td>2</td>\n",
       "      <td>2</td>\n",
       "      <td>11</td>\n",
       "      <td>7</td>\n",
       "      <td>457</td>\n",
       "      <td>493</td>\n",
       "      <td>318</td>\n",
       "      <td>343</td>\n",
       "      <td>24</td>\n",
       "      <td>15</td>\n",
       "      <td>23</td>\n",
       "      <td>20</td>\n",
       "      <td>7</td>\n",
       "      <td>6</td>\n",
       "      <td>0</td>\n",
       "      <td>2</td>\n",
       "      <td>2</td>\n",
       "      <td>1</td>\n",
       "      <td>10</td>\n",
       "      <td>11</td>\n",
       "      <td>0</td>\n",
       "      <td>0</td>\n",
       "      <td>19.38</td>\n",
       "      <td>16</td>\n",
       "      <td>4.39</td>\n",
       "      <td>16</td>\n",
       "      <td>28.16</td>\n",
       "      <td>17</td>\n",
       "      <td>2.08</td>\n",
       "      <td>18</td>\n",
       "    </tr>\n",
       "    <tr>\n",
       "      <th>2</th>\n",
       "      <td>59.3</td>\n",
       "      <td>40.7</td>\n",
       "      <td>7</td>\n",
       "      <td>6</td>\n",
       "      <td>20</td>\n",
       "      <td>11</td>\n",
       "      <td>615</td>\n",
       "      <td>471</td>\n",
       "      <td>425</td>\n",
       "      <td>305</td>\n",
       "      <td>23</td>\n",
       "      <td>22</td>\n",
       "      <td>10</td>\n",
       "      <td>28</td>\n",
       "      <td>10</td>\n",
       "      <td>2</td>\n",
       "      <td>6</td>\n",
       "      <td>2</td>\n",
       "      <td>2</td>\n",
       "      <td>1</td>\n",
       "      <td>13</td>\n",
       "      <td>7</td>\n",
       "      <td>0</td>\n",
       "      <td>0</td>\n",
       "      <td>101.43</td>\n",
       "      <td>23</td>\n",
       "      <td>59.96</td>\n",
       "      <td>22</td>\n",
       "      <td>20.41</td>\n",
       "      <td>11</td>\n",
       "      <td>2.85</td>\n",
       "      <td>16</td>\n",
       "    </tr>\n",
       "    <tr>\n",
       "      <th>3</th>\n",
       "      <td>61.6</td>\n",
       "      <td>38.4</td>\n",
       "      <td>5</td>\n",
       "      <td>4</td>\n",
       "      <td>23</td>\n",
       "      <td>9</td>\n",
       "      <td>632</td>\n",
       "      <td>420</td>\n",
       "      <td>453</td>\n",
       "      <td>271</td>\n",
       "      <td>20</td>\n",
       "      <td>14</td>\n",
       "      <td>22</td>\n",
       "      <td>29</td>\n",
       "      <td>9</td>\n",
       "      <td>2</td>\n",
       "      <td>6</td>\n",
       "      <td>4</td>\n",
       "      <td>0</td>\n",
       "      <td>0</td>\n",
       "      <td>5</td>\n",
       "      <td>13</td>\n",
       "      <td>0</td>\n",
       "      <td>0</td>\n",
       "      <td>52.44</td>\n",
       "      <td>27</td>\n",
       "      <td>23.94</td>\n",
       "      <td>28</td>\n",
       "      <td>24.68</td>\n",
       "      <td>31</td>\n",
       "      <td>2.59</td>\n",
       "      <td>36</td>\n",
       "    </tr>\n",
       "    <tr>\n",
       "      <th>4</th>\n",
       "      <td>65.3</td>\n",
       "      <td>34.7</td>\n",
       "      <td>7</td>\n",
       "      <td>2</td>\n",
       "      <td>30</td>\n",
       "      <td>8</td>\n",
       "      <td>825</td>\n",
       "      <td>506</td>\n",
       "      <td>619</td>\n",
       "      <td>333</td>\n",
       "      <td>28</td>\n",
       "      <td>26</td>\n",
       "      <td>18</td>\n",
       "      <td>47</td>\n",
       "      <td>14</td>\n",
       "      <td>3</td>\n",
       "      <td>0</td>\n",
       "      <td>1</td>\n",
       "      <td>0</td>\n",
       "      <td>2</td>\n",
       "      <td>13</td>\n",
       "      <td>12</td>\n",
       "      <td>0</td>\n",
       "      <td>0</td>\n",
       "      <td>31.01</td>\n",
       "      <td>25</td>\n",
       "      <td>20.52</td>\n",
       "      <td>29</td>\n",
       "      <td>79.63</td>\n",
       "      <td>22</td>\n",
       "      <td>7.70</td>\n",
       "      <td>23</td>\n",
       "    </tr>\n",
       "  </tbody>\n",
       "</table>\n",
       "</div>"
      ],
      "text/plain": [
       "   Possession_home  Possession_away  Shots_on_target_home  \\\n",
       "0             54.0             46.0                     6   \n",
       "1             47.1             52.9                     2   \n",
       "2             59.3             40.7                     7   \n",
       "3             61.6             38.4                     5   \n",
       "4             65.3             34.7                     7   \n",
       "\n",
       "   Shots_on_target_away  Shots_home  Shots_away  Touches_home  Touches_away  \\\n",
       "0                     4          15          11           553           464   \n",
       "1                     2          11           7           457           493   \n",
       "2                     6          20          11           615           471   \n",
       "3                     4          23           9           632           420   \n",
       "4                     2          30           8           825           506   \n",
       "\n",
       "   Passes_home  Passes_away  Tackles_home  Tackles_away  Clearances_home  \\\n",
       "0          356          287            22            13               33   \n",
       "1          318          343            24            15               23   \n",
       "2          425          305            23            22               10   \n",
       "3          453          271            20            14               22   \n",
       "4          619          333            28            26               18   \n",
       "\n",
       "   Clearances_away  Corners_home  Corners_away  Offsides_home  Offsides_away  \\\n",
       "0               19             5            10              5              3   \n",
       "1               20             7             6              0              2   \n",
       "2               28            10             2              6              2   \n",
       "3               29             9             2              6              4   \n",
       "4               47            14             3              0              1   \n",
       "\n",
       "   Yellow_cards_home  Yellow_cards_away  Fouls_conceded_home  \\\n",
       "0                  2                  0                   18   \n",
       "1                  2                  1                   10   \n",
       "2                  2                  1                   13   \n",
       "3                  0                  0                    5   \n",
       "4                  0                  2                   13   \n",
       "\n",
       "   Fouls_conceded_away  Red_cards_home  Red_cards_away  Expenditures_home  \\\n",
       "0                    7               0               0              18.84   \n",
       "1                   11               0               0              19.38   \n",
       "2                    7               0               0             101.43   \n",
       "3                   13               0               0              52.44   \n",
       "4                   12               0               0              31.01   \n",
       "\n",
       "   Arrivals_home  Income_home  Departures_home  Expenditures_away  \\\n",
       "0             21        19.28               25              10.52   \n",
       "1             16         4.39               16              28.16   \n",
       "2             23        59.96               22              20.41   \n",
       "3             27        23.94               28              24.68   \n",
       "4             25        20.52               29              79.63   \n",
       "\n",
       "   Arrivals_away  Income_away  Departures_away  \n",
       "0             25         0.00               19  \n",
       "1             17         2.08               18  \n",
       "2             11         2.85               16  \n",
       "3             31         2.59               36  \n",
       "4             22         7.70               23  "
      ]
     },
     "execution_count": 162,
     "metadata": {},
     "output_type": "execute_result"
    }
   ],
   "source": [
    "# Definindo variáveis importantes: \n",
    "# removendo as colunas que não serão necessárias para calcular as probabilidades\n",
    "stats = dados.drop(columns=[\n",
    "    'MatchID', 'Home_team', 'Away_team', 'Score_home', 'Score_away',\n",
    "    'year', 'Result'])\n",
    "\n",
    "# definindo as colunas dos nomes dos times\n",
    "games = dados.loc[: , ['Home_team', 'Away_team']]\n",
    "\n",
    "# definindo as colunas do resultado (em 0, 1 e 2)\n",
    "results = dados.loc[: , ['Result']]\n",
    "\n",
    "stats.head(5)"
   ]
  },
  {
   "cell_type": "code",
   "execution_count": 163,
   "metadata": {},
   "outputs": [
    {
     "data": {
      "text/plain": [
       "<matplotlib.axes._subplots.AxesSubplot at 0x1daa9b3d508>"
      ]
     },
     "execution_count": 163,
     "metadata": {},
     "output_type": "execute_result"
    },
    {
     "data": {
      "image/png": "[encoded data removed]",
      "text/plain": [
       "<Figure size 432x288 with 2 Axes>"
      ]
     },
     "metadata": {
      "needs_background": "light"
     },
     "output_type": "display_data"
    }
   ],
   "source": [
    "# Obtendo a correlação dos dados para times que jogam em seu estádio:\n",
    "home_features = [i for i in list(stats) if '_home' in i]\n",
    "corr = stats[home_features].corr()\n",
    "sns.heatmap(corr, cmap=\"Blues\")"
   ]
  },
  {
   "cell_type": "markdown",
   "metadata": {},
   "source": [
    "# Fatores relevantes\n",
    "\n",
    "A partir da análise do heatmap, é possível saber se duas variáveis estão medindo características similares. \n",
    "Por exemplo, a quantidade de passes (\"touches_home\") está muito interligada com a posse de bola. \n",
    "Para eliminar as variáveis que se relacionam, usa-se o **\"Variance Inflation Factor\"**, que é um fator que indentifica multicolinearidade de duas variáveis. \n",
    "**Valores maiores que 5** significam que há muita correlação. \n",
    "\n",
    "Mais informações em: https://www.statisticshowto.com/variance-inflation-factor/."
   ]
  },
  {
   "cell_type": "code",
   "execution_count": 164,
   "metadata": {},
   "outputs": [
    {
     "data": {
      "text/plain": [
       "<enumerate at 0x1daa84f7098>"
      ]
     },
     "execution_count": 164,
     "metadata": {},
     "output_type": "execute_result"
    }
   ],
   "source": [
    "# Enumera elementos de uma lista para percorrer com o for\n",
    "enumerate(list(stats))"
   ]
  },
  {
   "cell_type": "code",
   "execution_count": 165,
   "metadata": {},
   "outputs": [
    {
     "name": "stdout",
     "output_type": "stream",
     "text": [
      "Número de itens relevantes: 10\n",
      "\n",
      "['Offsides_home', 'Offsides_away', 'Yellow_cards_home', 'Yellow_cards_away', 'Red_cards_home', 'Red_cards_away', 'Expenditures_home', 'Income_home', 'Expenditures_away', 'Income_away']\n"
     ]
    }
   ],
   "source": [
    "# detectando a multicolinearidade entre características a partir do fator de inflação de variância\n",
    "# armazenando esses valores numa lista\n",
    "variance_inflation = []\n",
    "for i, feature in enumerate(list(stats)):\n",
    "    vif_tup = (feature, variance_inflation_factor(stats.values, i))\n",
    "    variance_inflation.append(vif_tup)\n",
    "\n",
    "    \n",
    "# sabendo que os fatores maiores de 5 possuem alta multicolineariade\n",
    "# selecionaremos apenas os que são menores (ou iguais, mas nesse caso não há diferença) que 5\n",
    "# armazenando os relevantes em uma lista\n",
    "relevant_features_vi = []\n",
    "for i in range(len(variance_inflation)):\n",
    "    if variance_inflation[i][1] <= 5:\n",
    "        relevant_features_vi.append(variance_inflation[i][0])\n",
    "\n",
    "\n",
    "print('Número de itens relevantes: {0}\\n'.format(len(relevant_features_vi)))\n",
    "print(relevant_features_vi)"
   ]
  },
  {
   "cell_type": "markdown",
   "metadata": {},
   "source": [
    "# Random Forest - Tentativa 1 \n",
    "\n",
    "O Random Forest é um método de Regressão baseado em várias árvores de probabilidade. Cada uma delas faz as probabilidades trocando a ordem dos fatores. Caso apresente algum erro, ele será minimizado."
   ]
  },
  {
   "cell_type": "code",
   "execution_count": 166,
   "metadata": {},
   "outputs": [
    {
     "name": "stderr",
     "output_type": "stream",
     "text": [
      "C:\\Users\\user\\anaconda3\\lib\\site-packages\\ipykernel_launcher.py:8: DataConversionWarning: A column-vector y was passed when a 1d array was expected. Please change the shape of y to (n_samples,), for example using ravel().\n",
      "  \n"
     ]
    },
    {
     "data": {
      "text/plain": [
       "RandomForestClassifier(bootstrap=True, ccp_alpha=0.0, class_weight=None,\n",
       "                       criterion='gini', max_depth=None, max_features='auto',\n",
       "                       max_leaf_nodes=None, max_samples=None,\n",
       "                       min_impurity_decrease=0.0, min_impurity_split=None,\n",
       "                       min_samples_leaf=1, min_samples_split=2,\n",
       "                       min_weight_fraction_leaf=0.0, n_estimators=500,\n",
       "                       n_jobs=None, oob_score=False, random_state=42, verbose=0,\n",
       "                       warm_start=False)"
      ]
     },
     "execution_count": 166,
     "metadata": {},
     "output_type": "execute_result"
    }
   ],
   "source": [
    "# Teste sem retirada das variáveis\n",
    "X = stats.values\n",
    "y = results.values\n",
    "\n",
    "X_train, X_test, y_train, y_test = train_test_split(X, y, test_size=.25, random_state=42)\n",
    "\n",
    "classificador_RF = RandomForestClassifier(n_estimators=500, random_state=42)\n",
    "classificador_RF.fit(X_train, y_train)"
   ]
  },
  {
   "cell_type": "code",
   "execution_count": 167,
   "metadata": {},
   "outputs": [
    {
     "name": "stdout",
     "output_type": "stream",
     "text": [
      "Acurácia do modelo Random Forest com todas as variáveis: 0.6145741878841089\n"
     ]
    }
   ],
   "source": [
    "RF_y_pred = classificador_RF.predict(X_test)\n",
    "print('Acurácia do modelo Random Forest com todas as variáveis:',\n",
    "      accuracy_score(y_test, RF_y_pred))"
   ]
  },
  {
   "cell_type": "markdown",
   "metadata": {},
   "source": [
    "# Random Forest - Tentativa 2 "
   ]
  },
  {
   "cell_type": "code",
   "execution_count": 168,
   "metadata": {},
   "outputs": [],
   "source": [
    "# Predição com variáveis com variance inflation menores que 5:\n",
    "RF2_X = (stats.loc[:, relevant_features_vi]).values\n",
    "RF2_y = results.values"
   ]
  },
  {
   "cell_type": "code",
   "execution_count": 169,
   "metadata": {},
   "outputs": [
    {
     "name": "stderr",
     "output_type": "stream",
     "text": [
      "C:\\Users\\user\\anaconda3\\lib\\site-packages\\ipykernel_launcher.py:5: DataConversionWarning: A column-vector y was passed when a 1d array was expected. Please change the shape of y to (n_samples,), for example using ravel().\n",
      "  \"\"\"\n"
     ]
    },
    {
     "data": {
      "text/plain": [
       "RandomForestClassifier(bootstrap=True, ccp_alpha=0.0, class_weight=None,\n",
       "                       criterion='gini', max_depth=None, max_features='auto',\n",
       "                       max_leaf_nodes=None, max_samples=None,\n",
       "                       min_impurity_decrease=0.0, min_impurity_split=None,\n",
       "                       min_samples_leaf=1, min_samples_split=2,\n",
       "                       min_weight_fraction_leaf=0.0, n_estimators=500,\n",
       "                       n_jobs=None, oob_score=False, random_state=42, verbose=0,\n",
       "                       warm_start=False)"
      ]
     },
     "execution_count": 169,
     "metadata": {},
     "output_type": "execute_result"
    }
   ],
   "source": [
    "RF2_X_train, RF2_X_test, RF2_y_train, RF2_y_test = train_test_split(\n",
    "    RF2_X, RF2_y, test_size=.25, random_state=42)\n",
    "\n",
    "classificador_RF2 = RandomForestClassifier(n_estimators=500, random_state=42)\n",
    "classificador_RF2.fit(RF2_X_train, RF2_y_train)"
   ]
  },
  {
   "cell_type": "code",
   "execution_count": 170,
   "metadata": {},
   "outputs": [
    {
     "name": "stdout",
     "output_type": "stream",
     "text": [
      "Acurácia do modelo Random Forest somente com as variáveis determinadas pelo variance inflation : 0.52414398595259\n"
     ]
    }
   ],
   "source": [
    "RF2_y_pred = classificador_RF2.predict(RF2_X_test)\n",
    "print(\n",
    "    'Acurácia do modelo Random Forest somente com as variáveis determinadas pelo variance inflation :',\n",
    "    accuracy_score(RF2_y_test, RF2_y_pred))"
   ]
  },
  {
   "cell_type": "markdown",
   "metadata": {},
   "source": [
    "A conclusão que pode ser feita é a de que a \"variance inflation\" não é um bom parâmetro para determinar variáveis importantes. "
   ]
  },
  {
   "cell_type": "markdown",
   "metadata": {},
   "source": [
    "### Nova Seleção de Melhores Variáveis"
   ]
  },
  {
   "cell_type": "code",
   "execution_count": 171,
   "metadata": {},
   "outputs": [
    {
     "name": "stderr",
     "output_type": "stream",
     "text": [
      "C:\\Users\\user\\anaconda3\\lib\\site-packages\\ipykernel_launcher.py:2: DataConversionWarning: A column-vector y was passed when a 1d array was expected. Please change the shape of y to (n_samples,), for example using ravel().\n",
      "  \n"
     ]
    },
    {
     "name": "stdout",
     "output_type": "stream",
     "text": [
      " 1) Shots_on_target_home           0.072378\n",
      " 2) Shots_on_target_away           0.062956\n",
      " 3) Clearances_away                0.061040\n",
      " 4) Clearances_home                0.051419\n",
      " 5) Expenditures_away              0.039544\n",
      " 6) Passes_away                    0.038236\n",
      " 7) Expenditures_home              0.037388\n",
      " 8) Passes_home                    0.035814\n",
      " 9) Touches_away                   0.035299\n",
      "10) Income_away                    0.034413\n",
      "11) Income_home                    0.033671\n",
      "12) Touches_home                   0.033291\n",
      "13) Shots_away                     0.032093\n",
      "14) Shots_home                     0.030413\n",
      "15) Possession_away                0.030288\n",
      "16) Possession_home                0.029781\n",
      "17) Tackles_home                   0.029175\n",
      "18) Tackles_away                   0.028540\n",
      "19) Arrivals_away                  0.028441\n",
      "20) Departures_away                0.028000\n",
      "21) Departures_home                0.026548\n",
      "22) Arrivals_home                  0.026415\n",
      "23) Fouls_conceded_away            0.026146\n",
      "24) Fouls_conceded_home            0.024664\n",
      "25) Corners_home                   0.022994\n",
      "26) Corners_away                   0.022293\n",
      "27) Offsides_home                  0.019714\n",
      "28) Offsides_away                  0.018670\n",
      "29) Yellow_cards_home              0.017226\n",
      "30) Yellow_cards_away              0.015692\n",
      "31) Red_cards_home                 0.004346\n",
      "32) Red_cards_away                 0.003111\n"
     ]
    }
   ],
   "source": [
    "forest = RandomForestClassifier(n_estimators=500,random_state=42)\n",
    "forest.fit(X_train, y_train)\n",
    "\n",
    "features = stats.columns\n",
    "importances = forest.feature_importances_\n",
    "\n",
    "indices = np.argsort(importances)[::-1]\n",
    "indices\n",
    "for f in range(X_train.shape[1]):\n",
    "    print(\"%2d) %-*s %f\" % (f + 1, 30,features[indices[f]], importances[indices[f]]))"
   ]
  },
  {
   "cell_type": "code",
   "execution_count": 172,
   "metadata": {},
   "outputs": [
    {
     "name": "stderr",
     "output_type": "stream",
     "text": [
      "C:\\Users\\user\\anaconda3\\lib\\site-packages\\ipykernel_launcher.py:17: DataConversionWarning: A column-vector y was passed when a 1d array was expected. Please change the shape of y to (n_samples,), for example using ravel().\n"
     ]
    },
    {
     "data": {
      "text/plain": [
       "0.5645302897278315"
      ]
     },
     "execution_count": 172,
     "metadata": {},
     "output_type": "execute_result"
    }
   ],
   "source": [
    "# Prevendo o melhor resultado por meio do Random Forest \n",
    "def Resultado_RF(lista_variaveis, quantidade):\n",
    "    relevant_features = []\n",
    "    for i in range(len(lista_variaveis)): #features[indices]\n",
    "        if i <= quantidade:\n",
    "            relevant_features.append(lista_variaveis[i])\n",
    "        else:\n",
    "            pass\n",
    "    \n",
    "    RF3_X = (stats.loc[:, relevant_features]).values\n",
    "    RF3_y = results.values\n",
    "\n",
    "    RF3_X_train, RF3_X_test, RF3_y_train, RF3_y_test = train_test_split(\n",
    "        RF3_X, RF3_y, test_size=.25, random_state=42)\n",
    "\n",
    "    classificador_RF = RandomForestClassifier(n_estimators=500, random_state=42)\n",
    "    classificador_RF.fit(RF3_X_train, RF3_y_train)\n",
    "\n",
    "    RF3_y_pred = classificador_RF.predict(RF3_X_test)\n",
    "    \n",
    "    return accuracy_score(RF3_y_test, RF3_y_pred)\n",
    "\n",
    "# Teste Função\n",
    "Resultado_RF(features[indices], 1)"
   ]
  },
  {
   "cell_type": "code",
   "execution_count": 173,
   "metadata": {},
   "outputs": [
    {
     "name": "stderr",
     "output_type": "stream",
     "text": [
      "C:\\Users\\user\\anaconda3\\lib\\site-packages\\ipykernel_launcher.py:17: DataConversionWarning: A column-vector y was passed when a 1d array was expected. Please change the shape of y to (n_samples,), for example using ravel().\n",
      "C:\\Users\\user\\anaconda3\\lib\\site-packages\\ipykernel_launcher.py:17: DataConversionWarning: A column-vector y was passed when a 1d array was expected. Please change the shape of y to (n_samples,), for example using ravel().\n",
      "C:\\Users\\user\\anaconda3\\lib\\site-packages\\ipykernel_launcher.py:17: DataConversionWarning: A column-vector y was passed when a 1d array was expected. Please change the shape of y to (n_samples,), for example using ravel().\n",
      "C:\\Users\\user\\anaconda3\\lib\\site-packages\\ipykernel_launcher.py:17: DataConversionWarning: A column-vector y was passed when a 1d array was expected. Please change the shape of y to (n_samples,), for example using ravel().\n",
      "C:\\Users\\user\\anaconda3\\lib\\site-packages\\ipykernel_launcher.py:17: DataConversionWarning: A column-vector y was passed when a 1d array was expected. Please change the shape of y to (n_samples,), for example using ravel().\n",
      "C:\\Users\\user\\anaconda3\\lib\\site-packages\\ipykernel_launcher.py:17: DataConversionWarning: A column-vector y was passed when a 1d array was expected. Please change the shape of y to (n_samples,), for example using ravel().\n",
      "C:\\Users\\user\\anaconda3\\lib\\site-packages\\ipykernel_launcher.py:17: DataConversionWarning: A column-vector y was passed when a 1d array was expected. Please change the shape of y to (n_samples,), for example using ravel().\n",
      "C:\\Users\\user\\anaconda3\\lib\\site-packages\\ipykernel_launcher.py:17: DataConversionWarning: A column-vector y was passed when a 1d array was expected. Please change the shape of y to (n_samples,), for example using ravel().\n",
      "C:\\Users\\user\\anaconda3\\lib\\site-packages\\ipykernel_launcher.py:17: DataConversionWarning: A column-vector y was passed when a 1d array was expected. Please change the shape of y to (n_samples,), for example using ravel().\n",
      "C:\\Users\\user\\anaconda3\\lib\\site-packages\\ipykernel_launcher.py:17: DataConversionWarning: A column-vector y was passed when a 1d array was expected. Please change the shape of y to (n_samples,), for example using ravel().\n",
      "C:\\Users\\user\\anaconda3\\lib\\site-packages\\ipykernel_launcher.py:17: DataConversionWarning: A column-vector y was passed when a 1d array was expected. Please change the shape of y to (n_samples,), for example using ravel().\n",
      "C:\\Users\\user\\anaconda3\\lib\\site-packages\\ipykernel_launcher.py:17: DataConversionWarning: A column-vector y was passed when a 1d array was expected. Please change the shape of y to (n_samples,), for example using ravel().\n",
      "C:\\Users\\user\\anaconda3\\lib\\site-packages\\ipykernel_launcher.py:17: DataConversionWarning: A column-vector y was passed when a 1d array was expected. Please change the shape of y to (n_samples,), for example using ravel().\n",
      "C:\\Users\\user\\anaconda3\\lib\\site-packages\\ipykernel_launcher.py:17: DataConversionWarning: A column-vector y was passed when a 1d array was expected. Please change the shape of y to (n_samples,), for example using ravel().\n",
      "C:\\Users\\user\\anaconda3\\lib\\site-packages\\ipykernel_launcher.py:17: DataConversionWarning: A column-vector y was passed when a 1d array was expected. Please change the shape of y to (n_samples,), for example using ravel().\n",
      "C:\\Users\\user\\anaconda3\\lib\\site-packages\\ipykernel_launcher.py:17: DataConversionWarning: A column-vector y was passed when a 1d array was expected. Please change the shape of y to (n_samples,), for example using ravel().\n",
      "C:\\Users\\user\\anaconda3\\lib\\site-packages\\ipykernel_launcher.py:17: DataConversionWarning: A column-vector y was passed when a 1d array was expected. Please change the shape of y to (n_samples,), for example using ravel().\n",
      "C:\\Users\\user\\anaconda3\\lib\\site-packages\\ipykernel_launcher.py:17: DataConversionWarning: A column-vector y was passed when a 1d array was expected. Please change the shape of y to (n_samples,), for example using ravel().\n",
      "C:\\Users\\user\\anaconda3\\lib\\site-packages\\ipykernel_launcher.py:17: DataConversionWarning: A column-vector y was passed when a 1d array was expected. Please change the shape of y to (n_samples,), for example using ravel().\n",
      "C:\\Users\\user\\anaconda3\\lib\\site-packages\\ipykernel_launcher.py:17: DataConversionWarning: A column-vector y was passed when a 1d array was expected. Please change the shape of y to (n_samples,), for example using ravel().\n",
      "C:\\Users\\user\\anaconda3\\lib\\site-packages\\ipykernel_launcher.py:17: DataConversionWarning: A column-vector y was passed when a 1d array was expected. Please change the shape of y to (n_samples,), for example using ravel().\n",
      "C:\\Users\\user\\anaconda3\\lib\\site-packages\\ipykernel_launcher.py:17: DataConversionWarning: A column-vector y was passed when a 1d array was expected. Please change the shape of y to (n_samples,), for example using ravel().\n",
      "C:\\Users\\user\\anaconda3\\lib\\site-packages\\ipykernel_launcher.py:17: DataConversionWarning: A column-vector y was passed when a 1d array was expected. Please change the shape of y to (n_samples,), for example using ravel().\n",
      "C:\\Users\\user\\anaconda3\\lib\\site-packages\\ipykernel_launcher.py:17: DataConversionWarning: A column-vector y was passed when a 1d array was expected. Please change the shape of y to (n_samples,), for example using ravel().\n",
      "C:\\Users\\user\\anaconda3\\lib\\site-packages\\ipykernel_launcher.py:17: DataConversionWarning: A column-vector y was passed when a 1d array was expected. Please change the shape of y to (n_samples,), for example using ravel().\n",
      "C:\\Users\\user\\anaconda3\\lib\\site-packages\\ipykernel_launcher.py:17: DataConversionWarning: A column-vector y was passed when a 1d array was expected. Please change the shape of y to (n_samples,), for example using ravel().\n",
      "C:\\Users\\user\\anaconda3\\lib\\site-packages\\ipykernel_launcher.py:17: DataConversionWarning: A column-vector y was passed when a 1d array was expected. Please change the shape of y to (n_samples,), for example using ravel().\n",
      "C:\\Users\\user\\anaconda3\\lib\\site-packages\\ipykernel_launcher.py:17: DataConversionWarning: A column-vector y was passed when a 1d array was expected. Please change the shape of y to (n_samples,), for example using ravel().\n",
      "C:\\Users\\user\\anaconda3\\lib\\site-packages\\ipykernel_launcher.py:17: DataConversionWarning: A column-vector y was passed when a 1d array was expected. Please change the shape of y to (n_samples,), for example using ravel().\n",
      "C:\\Users\\user\\anaconda3\\lib\\site-packages\\ipykernel_launcher.py:17: DataConversionWarning: A column-vector y was passed when a 1d array was expected. Please change the shape of y to (n_samples,), for example using ravel().\n",
      "C:\\Users\\user\\anaconda3\\lib\\site-packages\\ipykernel_launcher.py:17: DataConversionWarning: A column-vector y was passed when a 1d array was expected. Please change the shape of y to (n_samples,), for example using ravel().\n",
      "C:\\Users\\user\\anaconda3\\lib\\site-packages\\ipykernel_launcher.py:17: DataConversionWarning: A column-vector y was passed when a 1d array was expected. Please change the shape of y to (n_samples,), for example using ravel().\n"
     ]
    },
    {
     "data": {
      "text/plain": [
       "[0.5302897278314311,\n",
       " 0.5645302897278315,\n",
       " 0.5258999122036875,\n",
       " 0.5618964003511853,\n",
       " 0.5926251097453907,\n",
       " 0.6189640035118525,\n",
       " 0.6128182616330115,\n",
       " 0.611062335381914,\n",
       " 0.6136962247585601,\n",
       " 0.6180860403863038,\n",
       " 0.617208077260755,\n",
       " 0.6136962247585601,\n",
       " 0.6154521510096576,\n",
       " 0.6119402985074627,\n",
       " 0.6093064091308165,\n",
       " 0.6101843722563652,\n",
       " 0.617208077260755,\n",
       " 0.6119402985074627,\n",
       " 0.6224758560140474,\n",
       " 0.617208077260755,\n",
       " 0.62071992976295,\n",
       " 0.6101843722563652,\n",
       " 0.6198419666374012,\n",
       " 0.6180860403863038,\n",
       " 0.6198419666374012,\n",
       " 0.6128182616330115,\n",
       " 0.617208077260755,\n",
       " 0.6154521510096576,\n",
       " 0.6180860403863038,\n",
       " 0.6163301141352063,\n",
       " 0.6145741878841089,\n",
       " 0.6215978928884986]"
      ]
     },
     "execution_count": 173,
     "metadata": {},
     "output_type": "execute_result"
    }
   ],
   "source": [
    "scores = []\n",
    "for i in range(len(features[indices])):\n",
    "    scores.append(Resultado_RF(features[indices], i))\n",
    "    \n",
    "scores"
   ]
  },
  {
   "cell_type": "code",
   "execution_count": 174,
   "metadata": {},
   "outputs": [
    {
     "data": {
      "text/plain": [
       "['Shots_on_target_home',\n",
       " 'Shots_on_target_away',\n",
       " 'Clearances_away',\n",
       " 'Clearances_home',\n",
       " 'Expenditures_away',\n",
       " 'Passes_away',\n",
       " 'Expenditures_home',\n",
       " 'Passes_home',\n",
       " 'Touches_away',\n",
       " 'Income_away',\n",
       " 'Income_home',\n",
       " 'Touches_home',\n",
       " 'Shots_away',\n",
       " 'Shots_home',\n",
       " 'Possession_away',\n",
       " 'Possession_home',\n",
       " 'Tackles_home',\n",
       " 'Tackles_away',\n",
       " 'Arrivals_away']"
      ]
     },
     "execution_count": 174,
     "metadata": {},
     "output_type": "execute_result"
    }
   ],
   "source": [
    "index_max_score = scores.index(max(scores))\n",
    "RF_relevant_features = []\n",
    "\n",
    "for i in range(len(features[indices])):\n",
    "    if i <= 18:\n",
    "        RF_relevant_features.append(features[indices][i])\n",
    "    \n",
    "RF_relevant_features"
   ]
  },
  {
   "cell_type": "markdown",
   "metadata": {},
   "source": [
    "----"
   ]
  },
  {
   "cell_type": "markdown",
   "metadata": {},
   "source": [
    "# Regressão Multinomial - Tentativa 1"
   ]
  },
  {
   "cell_type": "code",
   "execution_count": 175,
   "metadata": {},
   "outputs": [
    {
     "name": "stdout",
     "output_type": "stream",
     "text": [
      "Optimization terminated successfully.\n",
      "         Current function value: 0.774372\n",
      "         Iterations 7\n",
      "                          MNLogit Regression Results                          \n",
      "==============================================================================\n",
      "Dep. Variable:                      y   No. Observations:                 3417\n",
      "Model:                        MNLogit   Df Residuals:                     3353\n",
      "Method:                           MLE   Df Model:                           62\n",
      "Date:                Tue, 09 Jun 2020   Pseudo R-squ.:                  0.2713\n",
      "Time:                        15:47:24   Log-Likelihood:                -2646.0\n",
      "converged:                       True   LL-Null:                       -3631.2\n",
      "Covariance Type:            nonrobust   LLR p-value:                     0.000\n",
      "==============================================================================\n",
      "       y=1       coef    std err          z      P>|z|      [0.025      0.975]\n",
      "------------------------------------------------------------------------------\n",
      "x1             0.1370      0.021      6.633      0.000       0.097       0.177\n",
      "x2            -0.1454      0.022     -6.721      0.000      -0.188      -0.103\n",
      "x3            -0.3681      0.028    -13.063      0.000      -0.423      -0.313\n",
      "x4             0.1784      0.031      5.689      0.000       0.117       0.240\n",
      "x5             0.0272      0.014      1.923      0.054      -0.001       0.055\n",
      "x6            -0.0089      0.016     -0.549      0.583      -0.041       0.023\n",
      "x7             0.0036      0.003      1.177      0.239      -0.002       0.010\n",
      "x8            -0.0012      0.003     -0.398      0.690      -0.007       0.005\n",
      "x9            -0.0188      0.003     -5.626      0.000      -0.025      -0.012\n",
      "x10            0.0154      0.003      4.460      0.000       0.009       0.022\n",
      "x11            0.0174      0.009      2.008      0.045       0.000       0.034\n",
      "x12           -0.0090      0.009     -1.027      0.304      -0.026       0.008\n",
      "x13           -0.0320      0.005     -6.330      0.000      -0.042      -0.022\n",
      "x14            0.0397      0.005      7.788      0.000       0.030       0.050\n",
      "x15           -0.0074      0.020     -0.372      0.710      -0.046       0.031\n",
      "x16            0.0486      0.022      2.230      0.026       0.006       0.091\n",
      "x17           -0.0690      0.026     -2.613      0.009      -0.121      -0.017\n",
      "x18            0.0314      0.027      1.173      0.241      -0.021       0.084\n",
      "x19            0.0866      0.044      1.955      0.051      -0.000       0.173\n",
      "x20           -0.0035      0.040     -0.087      0.930      -0.082       0.075\n",
      "x21            0.0099      0.015      0.662      0.508      -0.019       0.039\n",
      "x22           -0.0021      0.014     -0.149      0.881      -0.030       0.026\n",
      "x23            0.7514      0.232      3.232      0.001       0.296       1.207\n",
      "x24           -0.3980      0.159     -2.509      0.012      -0.709      -0.087\n",
      "x25           -0.0023      0.001     -1.772      0.076      -0.005       0.000\n",
      "x26            0.0079      0.012      0.663      0.508      -0.015       0.031\n",
      "x27           -0.0011      0.002     -0.673      0.501      -0.004       0.002\n",
      "x28            0.0027      0.013      0.204      0.838      -0.023       0.028\n",
      "x29            0.0021      0.001      1.619      0.106      -0.000       0.005\n",
      "x30           -0.0126      0.012     -1.032      0.302      -0.036       0.011\n",
      "x31            0.0024      0.002      1.418      0.156      -0.001       0.006\n",
      "x32           -0.0067      0.013     -0.512      0.609      -0.033       0.019\n",
      "------------------------------------------------------------------------------\n",
      "       y=2       coef    std err          z      P>|z|      [0.025      0.975]\n",
      "------------------------------------------------------------------------------\n",
      "x1             0.2204      0.024      9.047      0.000       0.173       0.268\n",
      "x2            -0.2604      0.025    -10.303      0.000      -0.310      -0.211\n",
      "x3            -0.5065      0.033    -15.141      0.000      -0.572      -0.441\n",
      "x4             0.5366      0.036     15.001      0.000       0.466       0.607\n",
      "x5             0.0452      0.016      2.794      0.005       0.013       0.077\n",
      "x6            -0.0472      0.019     -2.530      0.011      -0.084      -0.011\n",
      "x7            -0.0030      0.003     -0.873      0.383      -0.010       0.004\n",
      "x8             0.0070      0.004      1.942      0.052   -6.47e-05       0.014\n",
      "x9            -0.0226      0.004     -5.836      0.000      -0.030      -0.015\n",
      "x10            0.0201      0.004      5.112      0.000       0.012       0.028\n",
      "x11           -0.0098      0.010     -0.959      0.337      -0.030       0.010\n",
      "x12            0.0167      0.010      1.668      0.095      -0.003       0.036\n",
      "x13           -0.0627      0.006    -10.237      0.000      -0.075      -0.051\n",
      "x14            0.0598      0.006     10.436      0.000       0.049       0.071\n",
      "x15           -0.0180      0.023     -0.795      0.426      -0.062       0.026\n",
      "x16            0.0647      0.025      2.579      0.010       0.016       0.114\n",
      "x17           -0.1103      0.031     -3.553      0.000      -0.171      -0.049\n",
      "x18            0.0213      0.030      0.699      0.484      -0.038       0.081\n",
      "x19            0.1304      0.050      2.619      0.009       0.033       0.228\n",
      "x20           -0.0464      0.047     -0.995      0.320      -0.138       0.045\n",
      "x21            0.0032      0.017      0.185      0.853      -0.031       0.037\n",
      "x22           -0.0338      0.017     -2.030      0.042      -0.066      -0.001\n",
      "x23            1.5615      0.241      6.492      0.000       1.090       2.033\n",
      "x24           -1.0670      0.213     -5.001      0.000      -1.485      -0.649\n",
      "x25           -0.0062      0.002     -3.911      0.000      -0.009      -0.003\n",
      "x26           -0.0037      0.014     -0.266      0.790      -0.031       0.023\n",
      "x27           -0.0024      0.002     -1.206      0.228      -0.006       0.002\n",
      "x28            0.0258      0.015      1.718      0.086      -0.004       0.055\n",
      "x29            0.0039      0.001      2.819      0.005       0.001       0.007\n",
      "x30            0.0151      0.014      1.112      0.266      -0.012       0.042\n",
      "x31            0.0050      0.002      2.768      0.006       0.001       0.009\n",
      "x32           -0.0400      0.015     -2.653      0.008      -0.069      -0.010\n",
      "==============================================================================\n"
     ]
    }
   ],
   "source": [
    "logit_model = sm.MNLogit(endog=y_train.flatten(), exog=X_train)\n",
    "result = logit_model.fit()\n",
    "\n",
    "stats1 = result.summary()\n",
    "stats2 = result.summary2()\n",
    "\n",
    "print(stats1)"
   ]
  },
  {
   "cell_type": "code",
   "execution_count": 176,
   "metadata": {},
   "outputs": [
    {
     "name": "stdout",
     "output_type": "stream",
     "text": [
      "                        Results: MNLogit\n",
      "================================================================\n",
      "Model:              MNLogit          Pseudo R-squared: 0.271    \n",
      "Dependent Variable: y                AIC:              5420.0570\n",
      "Date:               2020-06-09 15:47 BIC:              5812.7942\n",
      "No. Observations:   3417             Log-Likelihood:   -2646.0  \n",
      "Df Model:           62               LL-Null:          -3631.2  \n",
      "Df Residuals:       3353             LLR p-value:      0.0000   \n",
      "Converged:          1.0000           Scale:            1.0000   \n",
      "No. Iterations:     7.0000                                      \n",
      "--------------------------------------------------------------\n",
      " y = 0    Coef.   Std.Err.     t      P>|t|    [0.025   0.975]\n",
      "--------------------------------------------------------------\n",
      " x1       0.1370    0.0207    6.6331  0.0000   0.0965   0.1775\n",
      " x2      -0.1454    0.0216   -6.7215  0.0000  -0.1878  -0.1030\n",
      " x3      -0.3681    0.0282  -13.0626  0.0000  -0.4233  -0.3129\n",
      " x4       0.1784    0.0314    5.6887  0.0000   0.1169   0.2399\n",
      " x5       0.0272    0.0141    1.9235  0.0544  -0.0005   0.0549\n",
      " x6      -0.0089    0.0162   -0.5494  0.5827  -0.0407   0.0229\n",
      " x7       0.0036    0.0031    1.1766  0.2393  -0.0024   0.0096\n",
      " x8      -0.0012    0.0031   -0.3983  0.6904  -0.0073   0.0049\n",
      " x9      -0.0188    0.0033   -5.6257  0.0000  -0.0254  -0.0123\n",
      "x10       0.0154    0.0035    4.4597  0.0000   0.0086   0.0222\n",
      "x11       0.0174    0.0087    2.0076  0.0447   0.0004   0.0345\n",
      "x12      -0.0090    0.0087   -1.0270  0.3044  -0.0261   0.0081\n",
      "x13      -0.0320    0.0051   -6.3304  0.0000  -0.0419  -0.0221\n",
      "x14       0.0397    0.0051    7.7877  0.0000   0.0297   0.0497\n",
      "x15      -0.0074    0.0198   -0.3723  0.7097  -0.0461   0.0314\n",
      "x16       0.0486    0.0218    2.2297  0.0258   0.0059   0.0912\n",
      "x17      -0.0690    0.0264   -2.6126  0.0090  -0.1208  -0.0172\n",
      "x18       0.0314    0.0267    1.1726  0.2409  -0.0211   0.0838\n",
      "x19       0.0866    0.0443    1.9551  0.0506  -0.0002   0.1734\n",
      "x20      -0.0035    0.0402   -0.0874  0.9303  -0.0824   0.0754\n",
      "x21       0.0099    0.0149    0.6623  0.5078  -0.0193   0.0391\n",
      "x22      -0.0021    0.0142   -0.1494  0.8813  -0.0300   0.0258\n",
      "x23       0.7514    0.2325    3.2324  0.0012   0.2958   1.2070\n",
      "x24      -0.3980    0.1586   -2.5090  0.0121  -0.7090  -0.0871\n",
      "x25      -0.0023    0.0013   -1.7724  0.0763  -0.0048   0.0002\n",
      "x26       0.0079    0.0118    0.6625  0.5077  -0.0154   0.0311\n",
      "x27      -0.0011    0.0017   -0.6729  0.5010  -0.0044   0.0021\n",
      "x28       0.0027    0.0131    0.2044  0.8380  -0.0230   0.0283\n",
      "x29       0.0021    0.0013    1.6185  0.1055  -0.0004   0.0046\n",
      "x30      -0.0126    0.0122   -1.0325  0.3019  -0.0364   0.0113\n",
      "x31       0.0024    0.0017    1.4182  0.1561  -0.0009   0.0058\n",
      "x32      -0.0067    0.0132   -0.5117  0.6089  -0.0325   0.0191\n",
      "--------------------------------------------------------------\n",
      " y = 1    Coef.   Std.Err.     t      P>|t|    [0.025   0.975]\n",
      "--------------------------------------------------------------\n",
      " x1       0.2204    0.0244    9.0466  0.0000   0.1726   0.2681\n",
      " x2      -0.2604    0.0253  -10.3034  0.0000  -0.3100  -0.2109\n",
      " x3      -0.5065    0.0335  -15.1407  0.0000  -0.5720  -0.4409\n",
      " x4       0.5366    0.0358   15.0008  0.0000   0.4665   0.6067\n",
      " x5       0.0452    0.0162    2.7944  0.0052   0.0135   0.0769\n",
      " x6      -0.0472    0.0186   -2.5303  0.0114  -0.0837  -0.0106\n",
      " x7      -0.0030    0.0035   -0.8730  0.3827  -0.0098   0.0038\n",
      " x8       0.0070    0.0036    1.9419  0.0521  -0.0001   0.0140\n",
      " x9      -0.0226    0.0039   -5.8365  0.0000  -0.0302  -0.0150\n",
      "x10       0.0201    0.0039    5.1117  0.0000   0.0124   0.0278\n",
      "x11      -0.0098    0.0102   -0.9594  0.3374  -0.0299   0.0102\n",
      "x12       0.0167    0.0100    1.6684  0.0952  -0.0029   0.0363\n",
      "x13      -0.0627    0.0061  -10.2371  0.0000  -0.0747  -0.0507\n",
      "x14       0.0598    0.0057   10.4356  0.0000   0.0486   0.0710\n",
      "x15      -0.0180    0.0226   -0.7954  0.4264  -0.0624   0.0264\n",
      "x16       0.0647    0.0251    2.5793  0.0099   0.0155   0.1138\n",
      "x17      -0.1103    0.0310   -3.5527  0.0004  -0.1711  -0.0494\n",
      "x18       0.0213    0.0305    0.6993  0.4844  -0.0384   0.0811\n",
      "x19       0.1304    0.0498    2.6195  0.0088   0.0328   0.2279\n",
      "x20      -0.0464    0.0467   -0.9947  0.3199  -0.1379   0.0450\n",
      "x21       0.0032    0.0174    0.1854  0.8529  -0.0308   0.0372\n",
      "x22      -0.0338    0.0166   -2.0300  0.0424  -0.0663  -0.0012\n",
      "x23       1.5615    0.2406    6.4915  0.0000   1.0901   2.0330\n",
      "x24      -1.0670    0.2134   -5.0006  0.0000  -1.4851  -0.6488\n",
      "x25      -0.0062    0.0016   -3.9108  0.0001  -0.0094  -0.0031\n",
      "x26      -0.0037    0.0138   -0.2663  0.7900  -0.0307   0.0234\n",
      "x27      -0.0024    0.0020   -1.2058  0.2279  -0.0063   0.0015\n",
      "x28       0.0258    0.0150    1.7181  0.0858  -0.0036   0.0553\n",
      "x29       0.0039    0.0014    2.8187  0.0048   0.0012   0.0066\n",
      "x30       0.0151    0.0136    1.1118  0.2662  -0.0116   0.0418\n",
      "x31       0.0050    0.0018    2.7676  0.0056   0.0015   0.0086\n",
      "x32      -0.0400    0.0151   -2.6532  0.0080  -0.0695  -0.0104\n",
      "================================================================\n",
      "\n"
     ]
    }
   ],
   "source": [
    "print(stats2)"
   ]
  },
  {
   "cell_type": "code",
   "execution_count": 177,
   "metadata": {},
   "outputs": [],
   "source": [
    "def Determina_Acuracia_Multinominal(predict, teste_y):\n",
    "    lista_maiores = [max(i) for i in predict]\n",
    "    lista_index = []\n",
    "    for i in range(len(predict)):\n",
    "        for p in range(3):\n",
    "            if predict[i][p] == lista_maiores[i]:\n",
    "                lista_index.append(p)\n",
    "\n",
    "    flat_list_of_results = []\n",
    "    for sublist in np.ndarray.tolist(teste_y):  #y_test\n",
    "        for item in sublist:\n",
    "            flat_list_of_results.append(item)\n",
    "\n",
    "    comparativo_rm = pd.DataFrame({\n",
    "        'Resultado': flat_list_of_results,\n",
    "        'Modelo': lista_index\n",
    "    })\n",
    "\n",
    "    corretos = 0\n",
    "    for i in range(len(comparativo_rm['Resultado'])):\n",
    "        if comparativo_rm['Resultado'][i] == comparativo_rm['Modelo'][i]:\n",
    "            corretos += 1\n",
    "\n",
    "    accuracy = corretos / (len(comparativo_rm['Resultado']))\n",
    "\n",
    "    print(\n",
    "        'A acurácia desse modelo de Regressão Multinominal é: {}'\n",
    "        .format(accuracy))"
   ]
  },
  {
   "cell_type": "code",
   "execution_count": 178,
   "metadata": {
    "scrolled": true
   },
   "outputs": [
    {
     "name": "stdout",
     "output_type": "stream",
     "text": [
      "A acurácia desse modelo de Regressão Multinominal é: 0.6312554872695347\n"
     ]
    }
   ],
   "source": [
    "RM_pred = result.predict(exog=X_test)\n",
    "Determina_Acuracia_Multinominal(RM_pred, y_test)"
   ]
  },
  {
   "cell_type": "markdown",
   "metadata": {},
   "source": [
    "# Regressão Multinomial - Tentativa 2"
   ]
  },
  {
   "cell_type": "code",
   "execution_count": 227,
   "metadata": {},
   "outputs": [
    {
     "data": {
      "text/plain": [
       "[[3.286806157779863e-11, 1.4749535106413438e-19],\n",
       " [1.798955072320786e-11, 6.80286715782376e-25],\n",
       " [5.386435644525277e-39, 8.73112891897146e-52],\n",
       " [1.2801687637797837e-08, 7.252093518729435e-51],\n",
       " [0.05442119905622276, 0.0051993218887843315],\n",
       " [0.5827309493946626, 0.01139662591404227],\n",
       " [0.2393374986703064, 0.38265770995727444],\n",
       " [0.690374064690518, 0.05214907767628916],\n",
       " [1.847234430859982e-08, 5.332401660262169e-09],\n",
       " [8.209254247529479e-06, 3.192540394625158e-07],\n",
       " [0.04468629102414827, 0.33736641761435504],\n",
       " [0.30440339996824317, 0.09523628238062147],\n",
       " [2.444928576284121e-10, 1.3519269560397863e-24],\n",
       " [6.825124781302137e-15, 1.705895424395815e-25],\n",
       " [0.7096674038099144, 0.4263637753423206],\n",
       " [0.025769172520992954, 0.00989899132710912],\n",
       " [0.008985462045379068, 0.00038134585795228094],\n",
       " [0.2409478289368835, 0.4843676034066635],\n",
       " [0.05057707252671189, 0.008806805007552062],\n",
       " [0.9303145344760404, 0.31990278113250603],\n",
       " [0.5077554870156544, 0.8528859805480875],\n",
       " [0.8812535452776618, 0.042355842555761906],\n",
       " [0.001227542085607144, 8.497971743833111e-11],\n",
       " [0.01210592260418816, 5.716668795413014e-07],\n",
       " [0.07633072591784135, 9.200436041395276e-05],\n",
       " [0.5076503056820149, 0.7899820792231089],\n",
       " [0.5009905924380321, 0.2278992797946594],\n",
       " [0.8380021494184362, 0.08578361731328688],\n",
       " [0.1055492894486203, 0.00482120244177138],\n",
       " [0.30185922049174996, 0.26620713060977574],\n",
       " [0.15611885250199445, 0.00564646348670451],\n",
       " [0.6088905305213641, 0.007974263133320454]]"
      ]
     },
     "execution_count": 227,
     "metadata": {},
     "output_type": "execute_result"
    }
   ],
   "source": [
    "p_values = result.pvalues\n",
    "p_values = p_values.tolist()\n",
    "p_values"
   ]
  },
  {
   "cell_type": "code",
   "execution_count": 233,
   "metadata": {},
   "outputs": [
    {
     "name": "stdout",
     "output_type": "stream",
     "text": [
      "29\n",
      "28\n",
      "Optimization terminated successfully.\n",
      "         Current function value: 0.776422\n",
      "         Iterations 7\n"
     ]
    }
   ],
   "source": [
    "def retira_tuple(lista):\n",
    "    for i in range(len(lista)):\n",
    "        if lista[i][0] > 0.1 and lista[i][1] > 0.1:\n",
    "            del(lista[i])\n",
    "            print(len(lista))\n",
    "            return [lista, i]\n",
    "\n",
    "\n",
    "def Retorna_Listap(lista_p):\n",
    "    lista_p = retira_tuple(lista_p)[0]\n",
    "    while max(lista_p)[0] > 0.1 and max(lista_p)[1] > 0.1:\n",
    "        RM2_relevant_features = list(\n",
    "            stats.drop(stats.columns[retira_tuple(lista_p)[1]],\n",
    "                       axis=1).columns)\n",
    "        \n",
    "        RM2_X = (stats.loc[:, RM2_relevant_features]).values\n",
    "        RM2_y = results.values\n",
    "\n",
    "        RM2_X_train, RM2_X_test, RM2_y_train, RM2_y_test = train_test_split(\n",
    "            RM2_X, RM2_y, test_size=.25, random_state=42)\n",
    "\n",
    "        RM2_logit_model = sm.MNLogit(endog=RM2_y_train.flatten(),\n",
    "                                     exog=RM2_X_train)\n",
    "        RM2_result = RM2_logit_model.fit()\n",
    "\n",
    "        RM2_pred = RM2_result.predict(exog=RM2_X_test)\n",
    "        \n",
    "        lista_p = RM2_result.pvalues\n",
    "        lista_p = lista_p.tolist()\n",
    "\n",
    "\n",
    "Retorna_Listap(p_values)"
   ]
  },
  {
   "cell_type": "code",
   "execution_count": 181,
   "metadata": {},
   "outputs": [
    {
     "name": "stdout",
     "output_type": "stream",
     "text": [
      "A acurácia desse modelo de Regressão Multinominal é: 0.6268656716417911\n"
     ]
    }
   ],
   "source": [
    "# Predição 2 - Regressão Multinominal (Retirada de algumas variáveis)\n",
    "RM2_pred = RM2_result.predict(exog=RM2_X_test)\n",
    "Determina_Acuracia_Multinominal(RM2_pred, RM2_y_test)"
   ]
  },
  {
   "cell_type": "markdown",
   "metadata": {},
   "source": [
    "O modelo obteve menos acertos ao passo que as variáveis com valor p maior que 0.1 foram retiradas."
   ]
  },
  {
   "cell_type": "markdown",
   "metadata": {},
   "source": [
    "----"
   ]
  },
  {
   "cell_type": "markdown",
   "metadata": {},
   "source": [
    "# Regressão Naive Bayes Multinomial - Tentativa 1"
   ]
  },
  {
   "cell_type": "code",
   "execution_count": 182,
   "metadata": {},
   "outputs": [
    {
     "name": "stderr",
     "output_type": "stream",
     "text": [
      "C:\\Users\\user\\anaconda3\\lib\\site-packages\\sklearn\\utils\\validation.py:760: DataConversionWarning: A column-vector y was passed when a 1d array was expected. Please change the shape of y to (n_samples, ), for example using ravel().\n",
      "  y = column_or_1d(y, warn=True)\n"
     ]
    },
    {
     "data": {
      "text/plain": [
       "MultinomialNB(alpha=1.0, class_prior=None, fit_prior=True)"
      ]
     },
     "execution_count": 182,
     "metadata": {},
     "output_type": "execute_result"
    }
   ],
   "source": [
    "classificador_NB_multinomial = MultinomialNB()\n",
    "classificador_NB_multinomial.fit(X_train, y_train)"
   ]
  },
  {
   "cell_type": "code",
   "execution_count": 183,
   "metadata": {},
   "outputs": [
    {
     "name": "stdout",
     "output_type": "stream",
     "text": [
      "Acurácia do modelo Naive Bayes Multinomial: 0.4793678665496049\n"
     ]
    }
   ],
   "source": [
    "NB_y_pred = classificador_NB_multinomial.predict(X_test)\n",
    "print('Acurácia do modelo Naive Bayes Multinomial:', accuracy_score(y_test, NB_y_pred))"
   ]
  },
  {
   "cell_type": "markdown",
   "metadata": {},
   "source": [
    "# Regressão Naive Bayes Multinomial - Tentativa 2"
   ]
  },
  {
   "cell_type": "code",
   "execution_count": 184,
   "metadata": {},
   "outputs": [
    {
     "ename": "NameError",
     "evalue": "name 'relevant_features' is not defined",
     "output_type": "error",
     "traceback": [
      "\u001b[1;31m---------------------------------------------------------------------------\u001b[0m",
      "\u001b[1;31mNameError\u001b[0m                                 Traceback (most recent call last)",
      "\u001b[1;32m<ipython-input-184-cbad6534d4de>\u001b[0m in \u001b[0;36m<module>\u001b[1;34m\u001b[0m\n\u001b[1;32m----> 1\u001b[1;33m \u001b[0mX1\u001b[0m \u001b[1;33m=\u001b[0m \u001b[1;33m(\u001b[0m\u001b[0mstats\u001b[0m\u001b[1;33m.\u001b[0m\u001b[0mloc\u001b[0m\u001b[1;33m[\u001b[0m\u001b[1;33m:\u001b[0m \u001b[1;33m,\u001b[0m \u001b[0mrelevant_features\u001b[0m\u001b[1;33m]\u001b[0m\u001b[1;33m)\u001b[0m\u001b[1;33m.\u001b[0m\u001b[0mvalues\u001b[0m\u001b[1;33m\u001b[0m\u001b[1;33m\u001b[0m\u001b[0m\n\u001b[0m\u001b[0;32m      2\u001b[0m \u001b[0my1\u001b[0m \u001b[1;33m=\u001b[0m \u001b[0mresults\u001b[0m\u001b[1;33m.\u001b[0m\u001b[0mvalues\u001b[0m\u001b[1;33m\u001b[0m\u001b[1;33m\u001b[0m\u001b[0m\n",
      "\u001b[1;31mNameError\u001b[0m: name 'relevant_features' is not defined"
     ]
    }
   ],
   "source": [
    "X1 = (stats.loc[: , relevant_features]).values\n",
    "y1 = results.values"
   ]
  },
  {
   "cell_type": "code",
   "execution_count": null,
   "metadata": {},
   "outputs": [],
   "source": [
    "X_train, X_test, y_train, y_test = train_test_split(X1, y1, test_size = .25, random_state = 42)"
   ]
  },
  {
   "cell_type": "code",
   "execution_count": null,
   "metadata": {},
   "outputs": [],
   "source": [
    "classificador_NB_multinomial = MultinomialNB()\n",
    "classificador_NB_multinomial.fit(X_train, y_train)"
   ]
  },
  {
   "cell_type": "code",
   "execution_count": null,
   "metadata": {},
   "outputs": [],
   "source": [
    "y_pred = classificador_NB_multinomial.predict(X_test)\n",
    "print('Acurácia do modelo Naive Bayes Multinomial:', accuracy_score(y_test, y_pred))"
   ]
  },
  {
   "cell_type": "markdown",
   "metadata": {},
   "source": [
    "----"
   ]
  },
  {
   "cell_type": "markdown",
   "metadata": {},
   "source": [
    "# KNeighbors Classifier (Tentativa 1):"
   ]
  },
  {
   "cell_type": "code",
   "execution_count": null,
   "metadata": {},
   "outputs": [],
   "source": [
    "X = stats.values\n",
    "y = results.values"
   ]
  },
  {
   "cell_type": "code",
   "execution_count": null,
   "metadata": {},
   "outputs": [],
   "source": [
    "X_train, X_test, y_train, y_test = train_test_split(X, y, test_size = .25, random_state = 42)"
   ]
  },
  {
   "cell_type": "code",
   "execution_count": null,
   "metadata": {},
   "outputs": [],
   "source": [
    "classificador_KNeigh = KNeighborsClassifier(n_neighbors=26)\n",
    "classificador_KNeigh.fit(X_train, y_train)"
   ]
  },
  {
   "cell_type": "code",
   "execution_count": null,
   "metadata": {},
   "outputs": [],
   "source": [
    "y_pred = classificador_KNeigh.predict(X_test)\n",
    "print('Acurácia do modelo K Neighbors:', accuracy_score(y_test, y_pred))"
   ]
  },
  {
   "cell_type": "markdown",
   "metadata": {},
   "source": [
    "# KNeighbors Classifier (Tentativa 2):"
   ]
  },
  {
   "cell_type": "code",
   "execution_count": null,
   "metadata": {},
   "outputs": [],
   "source": [
    "X1 = (stats.loc[: , relevant_features]).values\n",
    "y1 = results.values"
   ]
  },
  {
   "cell_type": "code",
   "execution_count": null,
   "metadata": {},
   "outputs": [],
   "source": [
    "X_train, X_test, y_train, y_test = train_test_split(X1, y1, test_size = .25, random_state = 42)"
   ]
  },
  {
   "cell_type": "code",
   "execution_count": null,
   "metadata": {},
   "outputs": [],
   "source": [
    "classificador_KNeigh = KNeighborsClassifier(n_neighbors=25)\n",
    "classificador_KNeigh.fit(X_train, y_train)"
   ]
  },
  {
   "cell_type": "code",
   "execution_count": null,
   "metadata": {},
   "outputs": [],
   "source": [
    "y_pred = classificador_KNeigh.predict(X_test)\n",
    "print('Acurácia do modelo K Neighbors:', accuracy_score(y_test, y_pred))"
   ]
  },
  {
   "cell_type": "markdown",
   "metadata": {},
   "source": [
    "----"
   ]
  },
  {
   "cell_type": "markdown",
   "metadata": {},
   "source": [
    "# Gradient Boosting Classificador (Tentativa 1):"
   ]
  },
  {
   "cell_type": "code",
   "execution_count": null,
   "metadata": {},
   "outputs": [],
   "source": [
    "X = stats.values\n",
    "y = results.values"
   ]
  },
  {
   "cell_type": "code",
   "execution_count": null,
   "metadata": {},
   "outputs": [],
   "source": [
    "X_train, X_test, y_train, y_test = train_test_split(X, y, test_size = .25, random_state=0)"
   ]
  },
  {
   "cell_type": "code",
   "execution_count": null,
   "metadata": {},
   "outputs": [],
   "source": [
    "classificador_Gradiente = GradientBoostingClassifier(random_state=0)\n",
    "classificador_Gradiente.fit(X_train, y_train)"
   ]
  },
  {
   "cell_type": "code",
   "execution_count": null,
   "metadata": {},
   "outputs": [],
   "source": [
    "y_pred = classificador_Gradiente.predict(X_test)\n",
    "print('Acurácia do modelo Gradient Boosting:', accuracy_score(y_test, y_pred))"
   ]
  },
  {
   "cell_type": "markdown",
   "metadata": {},
   "source": [
    "# Gradient Boosting Classificador (Tentativa 2):"
   ]
  },
  {
   "cell_type": "code",
   "execution_count": null,
   "metadata": {},
   "outputs": [],
   "source": [
    "X1 = (stats.loc[: , relevant_features]).values\n",
    "y1 = results.values"
   ]
  },
  {
   "cell_type": "code",
   "execution_count": null,
   "metadata": {},
   "outputs": [],
   "source": [
    "X_train, X_test, y_train, y_test = train_test_split(X1, y1, test_size = .25, random_state=0)"
   ]
  },
  {
   "cell_type": "code",
   "execution_count": null,
   "metadata": {},
   "outputs": [],
   "source": [
    "classificador_Gradiente = GradientBoostingClassifier(random_state=0)\n",
    "classificador_Gradiente.fit(X_train, y_train)"
   ]
  },
  {
   "cell_type": "code",
   "execution_count": null,
   "metadata": {},
   "outputs": [],
   "source": [
    "y_pred = classificador_Gradiente.predict(X_test)\n",
    "print('Acurácia do modelo Gradient Boosting:', accuracy_score(y_test, y_pred))"
   ]
  },
  {
   "cell_type": "markdown",
   "metadata": {},
   "source": [
    "----"
   ]
  },
  {
   "cell_type": "markdown",
   "metadata": {},
   "source": [
    "# Fazendo Predições com o Modelo"
   ]
  },
  {
   "cell_type": "code",
   "execution_count": null,
   "metadata": {},
   "outputs": [],
   "source": [
    "def Historico_Confrontos(df, home, away, result_model):\n",
    "    matches = df.loc[(df['Home_team'] == home) & (df['Away_team'] == away), :]\n",
    "    resumo = matches.loc[:, relevant_features].mean().to_frame().T\n",
    "    resultado = result_model.predict(exog=resumo)\n",
    "    return resultado\n",
    "\n",
    "\n",
    "Historico_Confrontos(dados, 'Everton', 'Liverpool', result)"
   ]
  }
 ],
 "metadata": {
  "kernelspec": {
   "display_name": "Python 3",
   "language": "python",
   "name": "python3"
  },
  "language_info": {
   "codemirror_mode": {
    "name": "ipython",
    "version": 3
   },
   "file_extension": ".py",
   "mimetype": "text/x-python",
   "name": "python",
   "nbconvert_exporter": "python",
   "pygments_lexer": "ipython3",
   "version": "3.7.6"
  }
 },
 "nbformat": 4,
 "nbformat_minor": 4
}
